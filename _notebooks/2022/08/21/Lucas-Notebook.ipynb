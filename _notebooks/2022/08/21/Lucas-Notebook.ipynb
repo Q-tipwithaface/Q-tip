# "Lucas's First Notebook"
> "The notebook used for coding"

- toc: false
- branch: master
- badges: true
- comments: true
- categories: [fastpages, jupyter]
- image: images/some_folder/your_image.png
- hide: false
- search_exclude: true
- metadata_key1: metadata_value1
- metadata_key2: metadata_value2
