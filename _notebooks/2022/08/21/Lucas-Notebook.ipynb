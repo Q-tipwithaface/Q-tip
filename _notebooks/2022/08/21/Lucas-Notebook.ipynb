# "Lucas's First Notebook"
> "The notebook used for coding"

- toc: true
- branch: master
- badges: true
- comments: true
- author: Hamel Husain & Jeremy Howard
- categories: [fastpages, jupyter]
