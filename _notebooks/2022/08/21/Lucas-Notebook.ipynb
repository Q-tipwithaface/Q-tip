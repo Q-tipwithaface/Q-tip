# "Lucas's First Notebook"
> "The notebook used for coding"

- toc: false
- branch: master
- badges: true
- comments: true
- categories: [fastpages, jupyter]
- image: false
- hide: false
- search_exclude: true

