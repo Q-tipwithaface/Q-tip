{
 "cells": [
  {
   "cell_type": "code",
   "execution_count": 8,
   "metadata": {},
   "outputs": [
    {
     "name": "stdout",
     "output_type": "stream",
     "text": [
      "[{'FirstName': 'John', 'LastName': 'Mortensen', 'DOB': 'October 21', 'Residence': 'San Diego', 'Email': 'jmortensen@powayusd.com', 'Owns_Cars': ['2015-Fusion', '2011-Ranger', '2003-Excursion', '1997-F350', '1969-Cadillac']}, {'FirstName': 'Sunny', 'LastName': 'Naidu', 'DOB': 'August 2', 'Residence': 'Temecula', 'Email': 'snaidu@powayusd.com', 'Owns_Cars': ['4Runner']}, {'FirstName': 'Lucas', 'LastName': 'Moore', 'DOB': 'Decemeber 16', 'Residence': '4S Ranch', 'Email': 'lem16silver@gmail.com', 'Owns_Cars': ['None']}, {'FirstName': 'Aniket', 'LastName': 'Chakrado', 'DOB': 'Febuary 20', 'Residence': '4S Ranch', 'Email': 'aniket@charadeo.net', 'Owns_Cars': ['Red-Buggati']}]\n"
     ]
    }
   ],
   "source": [
    "# Define an empty List called InfoDb\n",
    "InfoDb = []\n",
    "\n",
    "# InfoDB is a data structure with expected Keys and Values\n",
    "\n",
    "# Append to List a Dictionary of key/values related to a person and cars\n",
    "InfoDb.append({\n",
    "    \"FirstName\": \"John\",\n",
    "    \"LastName\": \"Mortensen\",\n",
    "    \"DOB\": \"October 21\",\n",
    "    \"Residence\": \"San Diego\",\n",
    "    \"Email\": \"jmortensen@powayusd.com\",\n",
    "    \"Owns_Cars\": [\"2015-Fusion\", \"2011-Ranger\", \"2003-Excursion\", \"1997-F350\", \"1969-Cadillac\"]\n",
    "})\n",
    "\n",
    "\n",
    "\n",
    "# Append to List a 2nd Dictionary of key/values\n",
    "InfoDb.append({\n",
    "    \"FirstName\": \"Sunny\",\n",
    "    \"LastName\": \"Naidu\",\n",
    "    \"DOB\": \"August 2\",\n",
    "    \"Residence\": \"Temecula\",\n",
    "    \"Email\": \"snaidu@powayusd.com\",\n",
    "    \"Owns_Cars\": [\"4Runner\"]\n",
    "    \n",
    "})\n",
    "\n",
    "\n",
    "\n",
    "InfoDb.append({\n",
    "    \"FirstName\": \"Lucas\",\n",
    "    \"LastName\": \"Moore\",\n",
    "    \"DOB\": \"Decemeber 16\",\n",
    "    \"Residence\": \"4S Ranch\",\n",
    "    \"Email\": \"lem16silver@gmail.com\",\n",
    "    \"Owns_Cars\": [\"None\"]\n",
    "    \n",
    "})\n",
    "\n",
    "InfoDb.append({\n",
    "    \"FirstName\": \"Aniket\",\n",
    "    \"LastName\": \"Chakrado\",\n",
    "    \"DOB\": \"Febuary 20\",\n",
    "    \"Residence\": \"4S Ranch\",\n",
    "    \"Email\": \"aniket@charadeo.net\",\n",
    "    \"Owns_Cars\": [\"Red-Buggati\"]\n",
    "    \n",
    "})\n",
    "# Print the data structure\n",
    "print(InfoDb)"
   ]
  }
 ],
 "metadata": {
  "kernelspec": {
   "display_name": "Python 3.8.10 64-bit",
   "language": "python",
   "name": "python3"
  },
  "language_info": {
   "codemirror_mode": {
    "name": "ipython",
    "version": 3
   },
   "file_extension": ".py",
   "mimetype": "text/x-python",
   "name": "python",
   "nbconvert_exporter": "python",
   "pygments_lexer": "ipython3",
   "version": "3.8.10"
  },
  "orig_nbformat": 4,
  "vscode": {
   "interpreter": {
    "hash": "916dbcbb3f70747c44a77c7bcd40155683ae19c65e1c03b4aa3499c5328201f1"
   }
  }
 },
 "nbformat": 4,
 "nbformat_minor": 2
}
