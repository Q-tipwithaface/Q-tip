{
 "cells": [
  {
   "cell_type": "markdown",
   "metadata": {},
   "source": [
    "# Unit 3 Lesson 6 Conditionals\n",
    "\n",
    "- toc: true\n",
    "- branch: master\n",
    "- badges: true\n",
    "- comments: true\n",
    "- author: Lucas Moore\n",
    "- categories: [fastpages, Big Idea 3]"
   ]
  },
  {
   "cell_type": "markdown",
   "metadata": {},
   "source": [
    "## Vocab\n",
    "algorithm - A set of instructions that accomplish a task.    \n",
    "selection - The process that determines which parts of an algoritm is being executed based on a condition that is true or false."
   ]
  },
  {
   "cell_type": "markdown",
   "metadata": {},
   "source": [
    "## What is a conditional?\n",
    "\n",
    "A conditional is a statement that affects the flow/outcome of a program by executing different statements based on the result of a true or false statement. That true or false statement is a boolean expression. \n",
    "\n",
    "Conditionals appear in almost every programming language because of how important it is for changing the flow of the program.\n",
    "\n",
    "Conditionals statements are used by the selection process for a program.\n",
    "\n",
    "<mark>Question: What statement most commonly fills the role of a conditional in almost all programming languages?<mark>\n"
   ]
  },
  {
   "cell_type": "markdown",
   "metadata": {},
   "source": [
    "## If/Else Statements\n",
    "\n",
    "In almost every programming language, if/else statements fill in the role of the conditional. Some languages call this switch blocks but if/else is the most used term.\n",
    "\n",
    "If/Else Statement Example:"
   ]
  },
  {
   "cell_type": "code",
   "execution_count": 21,
   "metadata": {},
   "outputs": [
    {
     "name": "stdout",
     "output_type": "stream",
     "text": [
      "no, 3 does not equal 5\n"
     ]
    }
   ],
   "source": [
    "number = 3          # value that will affect true or false statement\n",
    "if number == 5:     # if part determines if the statement is true or false compared to another part of the program.\n",
    "    print(\"yes, 5 does equal 5\")\n",
    "else:               #else part only executes if the if part is false\n",
    "    print(\"no, \" + str(number) + \" does not equal 5\")"
   ]
  },
  {
   "cell_type": "markdown",
   "metadata": {},
   "source": [
    "If/Else Statements can also just be if statements. This can be used more as an interruption rather then yes or no response.\n",
    "\n",
    "If Statement Example:"
   ]
  },
  {
   "cell_type": "code",
   "execution_count": 45,
   "metadata": {},
   "outputs": [
    {
     "name": "stdout",
     "output_type": "stream",
     "text": [
      "0%\n",
      "10%\n",
      "20%\n",
      "30%\n",
      "40%\n",
      "50%\n",
      "Half way there\n",
      "60%\n",
      "70%\n",
      "80%\n",
      "90%\n",
      "100% Complete\n"
     ]
    }
   ],
   "source": [
    "progress = 0\n",
    "while progress < 100:\n",
    "    print(str(progress) + \"%\")\n",
    "    \n",
    "    if progress == 50:\n",
    "        print(\"Half way there\")\n",
    "\n",
    "    progress = progress + 10\n",
    "print(\"100%\" + \" Complete\")\n",
    "    \n"
   ]
  }
 ],
 "metadata": {
  "kernelspec": {
   "display_name": "Python 3.9.12 ('base')",
   "language": "python",
   "name": "python3"
  },
  "language_info": {
   "codemirror_mode": {
    "name": "ipython",
    "version": 3
   },
   "file_extension": ".py",
   "mimetype": "text/x-python",
   "name": "python",
   "nbconvert_exporter": "python",
   "pygments_lexer": "ipython3",
   "version": "3.9.12"
  },
  "orig_nbformat": 4,
  "vscode": {
   "interpreter": {
    "hash": "112989f40982219f9c2133127490be09f86560db102a13a350eb86b01002b443"
   }
  }
 },
 "nbformat": 4,
 "nbformat_minor": 2
}
