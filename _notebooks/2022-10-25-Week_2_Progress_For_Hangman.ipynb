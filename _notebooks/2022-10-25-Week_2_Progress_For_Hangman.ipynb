{
 "cells": [
  {
   "cell_type": "markdown",
   "metadata": {},
   "source": [
    "# Week 2 Progress For Final Project: Hangman\n",
    "\n",
    "- toc: true\n",
    "- branch: master\n",
    "- badges: true\n",
    "- comments: true\n",
    "- author: Lucas Moore\n",
    "- categories: [fastpages, Final Project]"
   ]
  },
  {
   "cell_type": "markdown",
   "metadata": {},
   "source": [
    "Week One Progress\n",
    "---\n",
    "\n",
    "\n",
    "\n",
    "\n",
    "During Week One, my group completed the basic components of our final project, Hangman. Below is a list of those components.\n",
    "\n",
    "- Word API\n",
    "    - My group was able to make their own API that contains many words and provides that given word's definition. It was created in week one but will be updated through out the entire development process.\n",
    "- Letters\n",
    "    - We have added our own keyboard into the code that the user will be interacting with. It was created in week one but is under further development in order for it to produce an output that another part of the program can use. \n",
    "- Hangman\n",
    "    - A drawing of a stick figure being hanged on a gallow is displayed under the random definition and over the program's own keyboard. It was created in week one as a single image but will flip through muiltiple images that will represent the stage of the hangman in future development.\n",
    "\n",
    "Current Progress\n",
    "---\n",
    "\n",
    "As of the now, the following is currently under development.\n",
    "\n",
    "- Space for word\n",
    "    - A Space for a word is being made that will display the mystery word as it is being revealed by the user. The word will be split into spaces for each letter of that word. For example, if the word is \"solve\", the space for the word would look like \"_ _ _ _ _\".\n",
    "- Space for incorrect letters\n",
    "    - A Space for letters that is not in the mystery word will be made. If the user selects a letter and that letter is not apart of the mystery word, it will be put in a separate section titled \"Incorrect Letters\".\n",
    "\n",
    "Problems and their Solutions\n",
    "---\n",
    "\n",
    "As of now, the only problem we ran into was a merge conflict. This was caused because of a delay in a push/pull action from one team member and occured when another team member was making their own push. The problem was resolved by going through the timeline and separating the two commits. However, this was an event that shown us the importance of Live Share Programming. Live Share Programming allows multiple people to code on the same program at once while seeing their teammates live changes and without merge conflicts.\n"
   ]
  }
 ],
 "metadata": {
  "kernelspec": {
   "display_name": "Python 3.9.12 ('base')",
   "language": "python",
   "name": "python3"
  },
  "language_info": {
   "name": "python",
   "version": "3.9.12"
  },
  "orig_nbformat": 4,
  "vscode": {
   "interpreter": {
    "hash": "112989f40982219f9c2133127490be09f86560db102a13a350eb86b01002b443"
   }
  }
 },
 "nbformat": 4,
 "nbformat_minor": 2
}
