{
 "cells": [
  {
   "attachments": {},
   "cell_type": "markdown",
   "metadata": {},
   "source": [
    "# Frontend View Visual Concept Blog\n",
    "\n",
    "- toc: true\n",
    "- branch: master\n",
    "- badges: true\n",
    "- comments: true\n",
    "- author: Lucas Moore\n",
    "- categories: [fastpages, frontend]"
   ]
  },
  {
   "attachments": {},
   "cell_type": "markdown",
   "metadata": {},
   "source": [
    "## Frontend View\n",
    "\n",
    "Image here\n"
   ]
  },
  {
   "attachments": {},
   "cell_type": "markdown",
   "metadata": {},
   "source": [
    "## Food Data Table Code \n",
    "\n",
    "Image here"
   ]
  },
  {
   "attachments": {},
   "cell_type": "markdown",
   "metadata": {},
   "source": [
    "## About the Project\n",
    "\n",
    "The purpose of this program is to update people on the currrent healiest foods in the fast-food industry. The project will display current food items in the Food Items section and could be further sorted using the sort by protein, fat, sugar, and carbs buttons. Each food item will to connected to an update and a delete button. The update button will be used to update a food item if that food has been changed and the delete button will be used to delete a food off of Food Items in case the food is no longer being served. If there is a new type of food, the Insert New Food Item section allows a user to insert a new food item to go into the Food Item section.\n",
    "\n",
    "## About the View \n",
    "\n",
    "The View is made up of markdown text as well as markdown tables that have buttons that will cause an action when clicked upon. The current data in the Food Items section is used as an example to show how data will be presented.\n",
    "\n",
    "## Problems and Challenges\n",
    "\n",
    "I was having trouble trying to change the format and the colors of the view and was unable to. This is only the view portion of the project but I was trying to create a function to move the data from the insert New Food Item to Food Items but was unable to. I think my problem was that I couldn't find the right coding languages to use and how to use the languages correctly with other languages."
   ]
  }
 ],
 "metadata": {
  "kernelspec": {
   "display_name": "base",
   "language": "python",
   "name": "python3"
  },
  "language_info": {
   "name": "python",
   "version": "3.9.12 (main, Apr  5 2022, 06:56:58) \n[GCC 7.5.0]"
  },
  "orig_nbformat": 4,
  "vscode": {
   "interpreter": {
    "hash": "112989f40982219f9c2133127490be09f86560db102a13a350eb86b01002b443"
   }
  }
 },
 "nbformat": 4,
 "nbformat_minor": 2
}
