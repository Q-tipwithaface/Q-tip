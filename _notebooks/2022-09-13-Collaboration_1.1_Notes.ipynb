{
 "cells": [
  {
   "cell_type": "markdown",
   "metadata": {},
   "source": [
    "# Unit 1.1 Collaboration Notes\n",
    "\n",
    "- toc: true\n",
    "- branch: master\n",
    "- badges: true\n",
    "- comments: true\n",
    "- author: Lucas Moore\n",
    "- categories: [fastpages, Big Idea 1]"
   ]
  },
  {
   "cell_type": "markdown",
   "metadata": {},
   "source": [
    "Main idea: Why is collaboration important?\n",
    "---\n",
    "\n",
    "Collaboration is important because no one is perfect. Their are things we don't know how to do, can't do by ourself, or maybe not know the best choice out of multiple other choices. Many things in life are like this. You are assigned to do something that requires multiple different skills but you don't know all of them. However, collaborating with other people can help us with those problems. Collaboration allows for each person in a group to display their own set of skills while those skills connect to and support eachother in order to create a solution. This shows the people in a group their own strenghts and weaknesses. They can then learn from their individual weaknesses and from the weaknesses as a group in order to become better workers and teammates. Collaboration is important because no one is perfect, but we can collaborate in order to keep getting better and better.\n",
    "\n",
    "When people are trying to create something or solve a problem, their is always bias. Everyone is bias and even a small amount of bias can affect a product or solution significantly. Fortunately, people collaborating together results in many different perspectives being expressed which results in everyone in the group becoming more open to new ideas. This open-minded thinking can result in a more effective product or solution. Colloboration helps decreases bias by having different perspectives in mind that can lead to the best possible outcome.\n",
    "\n",
    "Collaboration displays:\n",
    "- an individual's skills/talents\n",
    "- an individual's ideas and perspective\n",
    "- the group's ideas and thinking\n",
    "- the group's teamwork skills\n",
    "    - Communication\n",
    "    - Decision-making\n",
    "    - Problem solving\n",
    "    - Creating ideas\n",
    "\n",
    "Ways to collaborate in APCSP:\n",
    "---\n",
    "\n",
    "Pair-Programing:\n",
    "Pair programing is when two programers are given different roles and use their role to program. One role is called the driver and it is the person who is writing the code and the other role is the observer who reviews the lines of code as the driver types it. Helps with having a different perspective and new ideas.\n",
    "\n",
    "Think-Pair-Share:\n",
    "Think-Pair-Share is a process where students think alone, share their ideas with a partner, and then share the ideas they and their partner came up with to the class.\n",
    "\n",
    "Commenting on code:\n",
    "Commenting on code is used to communicate with yourself and your partners in order for you guys to gain a better understanding of the lines of code. This is when you would explain what the code does or should be doing. Comments are also a place to site sources to give credit and to look back at. It is also where you differentiate who did what code.\n",
    "\n",
    "Tools:\n",
    "- repl.it: multiplayer(A place where multiply people can code at once.)\n",
    "- Github: collaboration with groups and repositories that allow you to save your work and have other people comment on your work.\n",
    "- Shared document or folder(you can share through google drive.)\n",
    "- Ask people to test out your program and for them to give feedback.\n",
    "- Check in with your teacher to talk about your code.\n",
    "\n",
    "Look back on these notes to get a reminder on what has to be done in order to properly collaborate in this class.\n",
    "\n",
    "\n"
   ]
  }
 ],
 "metadata": {
  "kernelspec": {
   "display_name": "Python 3.9.12 ('base')",
   "language": "python",
   "name": "python3"
  },
  "language_info": {
   "name": "python",
   "version": "3.9.12"
  },
  "orig_nbformat": 4,
  "vscode": {
   "interpreter": {
    "hash": "112989f40982219f9c2133127490be09f86560db102a13a350eb86b01002b443"
   }
  }
 },
 "nbformat": 4,
 "nbformat_minor": 2
}
