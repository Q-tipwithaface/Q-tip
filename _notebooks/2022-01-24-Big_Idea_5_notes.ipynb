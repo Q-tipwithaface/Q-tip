{
 "cells": [
  {
   "attachments": {},
   "cell_type": "markdown",
   "metadata": {},
   "source": [
    "# Big Idea 5 Notes\n",
    "\n",
    "- toc: true\n",
    "- branch: master\n",
    "- badges: true\n",
    "- comments: true\n",
    "- author: Lucas Moore\n",
    "- categories: [fastpages, Big Idea 5]"
   ]
  },
  {
   "attachments": {},
   "cell_type": "markdown",
   "metadata": {},
   "source": [
    "## 5.1 Blog Reflection"
   ]
  },
  {
   "attachments": {},
   "cell_type": "markdown",
   "metadata": {},
   "source": [
    "### Effects of Computing\n",
    "Computing is used to improve and/or create new technologies that SHOULD be benefital to humans(at least humans). They can be a benefit for some but could be harmful for someone else.\n",
    "\n",
    "| | Beneficial Effects | Harmful Effects |\n",
    "|---|---|---|\n",
    "| 1 | Computing allows for new progress in technology and other parts of people's lives. Computing is almost everywhere nowadays and is making life for most people a lot easier. | On the flip side, there is so much technology that people are now starting to become dependent on it. This makes people rely so much on technology and slows down progress and what a person can or can not do. |\n",
    "| 2 | Computing is being used to solve many problems and to hold new acievements in our world. From needing to build a program to make a computer to sending people to the moon, computing allows humans to change things in the world that they couldn't do without computers. | However, while new technologies created by computing is being used to solve problems, it is also creating other problems. New technologies are taking up so much land and resources that wild life are lossing their homes and fail to find new ones. Everything has pros and cons and might have cons that outweigh the pros and that still implies to new technologies. |\n",
    "| 3 | Computing has made so many new uses for technology. A big one is creating things that are fun and/or relaxing. Video games and social media are the two big ones. They are used to simply past the time and/or have a good time and a break from the real world. | The things mentioned early can also be more than just a little distraction. It could go further and become an addiction. A person's addiction has a high chance of making that person less healthy as they would put their addcition before things that are more important. |"
   ]
  },
  {
   "attachments": {},
   "cell_type": "markdown",
   "metadata": {},
   "source": [
    "### Dopamine Issues\n",
    "Dopamine issues coming from the use of technoolgy does exist. It is very easy to lose oneself while using things like a phone, a computer, a gaming console, and more. Sometimes doing something online feels better than in real life and there are somethings online that you couldn't do in the real world. Things like being on my phone and playing video games is also effecting my personal studies and success for high school. Most of the time I need to focus on my school work rather than do what I want on my phone."
   ]
  },
  {
   "attachments": {},
   "cell_type": "markdown",
   "metadata": {},
   "source": [
    "## 5.2 Blog Reflection\n",
    "\n",
    "### How does someone empower themself in a digital world?\n",
    "\n",
    "In order for someone to empower themself in a digital world, they would need to have the basics for connecting to the digital space. They would need a computer, electric power, and connection to the world wide web and the internet. However, some people might not have the money for those things and/or might not be in an area that could connect to the digital space.\n",
    "\n",
    "### How does someone that is empowered help someone that is not empowered? Describe something you could do at Del Norte HS.\n",
    "\n",
    "Someone who is empowered can be a messager for the person not empowered. They could also fund them so that they could buy things to make them empowered or talk to them about the benefits outweighing the negatives if they are just against the use of techonology as a whole. At Del Norte High School, I think the best thing people could do is to try to convert the school to use less techonolgy. However, with classes like APCSP, that may not be an option but is worth a shot on other classes that don't need computers as much. \n",
    "\n",
    "### Is paper or red tape blocking digital empowerment? Are there such barriers at Del Norte? Elsewhere?\n",
    "\n",
    "Digital empowerment is being blocked by red tape because setting up a system for the digital space can be hard and confusing and using techonolgy could be very difficult for someone who has never used it before. I don't think those problems are common in Del Norte but they are in other places that are poorer or are rural areas.\n"
   ]
  },
  {
   "attachments": {},
   "cell_type": "markdown",
   "metadata": {},
   "source": [
    "## Canvas Bullet points\n",
    "\n",
    "**Think of three beneficial effects of your project based on 5.1 Unit.**\n",
    "\n",
    "1. My CPT project can be used to improve and test the users reaction time and hand-eye coordination.\n",
    "2. My CPT project can be used as an brief escape from the real world and to have fun.\n",
    "3. My CPT project can be looked at by others so that they could learn how to make a reaction game.\n",
    "\n",
    "**Think of a potential harmful effect of your project.**\n",
    "\n",
    "1. The game in my CPT project could become too addictive and hurt the user's health over time as they keep on playing it.\n",
    "\n",
    "**Answer with an opinion and learnings so far this year:  What are pros/cons on internet blockers at router and lack of admin password on lab machines at school?**\n",
    "\n",
    "For the Pros, Internet blockers and the lack of admin's password makes it so that students can not harm or be harmed from cyberbullying and that they don't get distracted and stay on school websites and programs where they can do their work. For the cons, Internet blockers and the lack of admin's password can block access for programs or websites that students need in order to do thier work and can result in limiting their learning.\n",
    "\n",
    "**What concerns do you have personally about the digital divide?  For yourself or for others.**\n",
    "\n",
    "I am concerned that the digital divide will need to be fixed by having the empowered people go down to the people who aren't empowered rather than the people who are not empowered move up to the empowered people. This would hurt the empowered people and it wouldn't help the people that are not empowered that much."
   ]
  },
  {
   "attachments": {},
   "cell_type": "markdown",
   "metadata": {},
   "source": [
    "## 5.3 Blog Reflection\n",
    "\n",
    "Computer Bias is when a computer does something based on something in its program being bias. Most of the time, a computer is bias because of the infomation it is given. The Infomation is normally gathered by humans or in a way that will be for humans. Humans have bias, so when computers use something based on humans like infomation, they may develop bias. Humans have two types of bias, purposeful and intentional and most of the time, the bias put into a computer is intentional. It is intentional because a computer program uses its infomation to determine what to do and it may do something different due to its bias. This bias created is caused due to the lack of proper data. This is bias but in a computer, it is just a lack of data. The best way to avoid bias is to gather more data and the best way to do that is through crowdsourcing."
   ]
  },
  {
   "attachments": {},
   "cell_type": "markdown",
   "metadata": {},
   "source": [
    "## 5.4 Blog Reflection\n",
    "\n",
    "**CompSci has 150 ish principles students. Describe a crowdsource idea and how you might initiate it in our environment?**\n",
    "\n",
    "A crowdsource idea would be to ask the compsci students what will help them learn the most and what will assist that process. This can be used to better aid coders and build an environment that makes coding easier and more efficient.\n",
    "\n",
    "**What about Del Norte crowdsourcing? Could your project be better with crowdsourcing?**\n",
    "\n",
    "My project could be better with crowdsourcing in Del norte if I ask people if they play video games and why or why not. I would use that information in my game to create a better game that would be more enjoyable for everyone, no matter if they play video games or not.\n",
    "\n",
    "**What kind of data could you capture at N@tM to make evening interesting? Perhaps use this data to impress Teachers during finals week.**\n",
    "\n",
    "I could record data on what people think of the difficulty of the game and use that information to either make the game more challenging or make it easier. I would record what people think on a 1 to 10 with 1 being very easy and with 10 being borderline impossible. After asking a good amount of people, I would calculate the mean and use it to make the game harder or easier. 7(has a little bit of a challenge) would be the best difficulty for the game."
   ]
  },
  {
   "attachments": {},
   "cell_type": "markdown",
   "metadata": {},
   "source": [
    "## 5.5 Reflection:\n",
    "\n",
    "- Creative Commons Zero - ignoring copyright in the creation of a world-wide public domain.\n",
    "- Open Source Mit License - allows for people to use code someone else created freely in a closed source version and to give credit in its use.\n",
    "- Open Source GPL License - people are allowed to do anything they want with your code except to share the closed source versions of it.\n",
    "\n",
    "Software Licenses are used to ensure that the use of code fits with fair use. As a class, we also talked about how protecting the use of code allows companies and businesses to see profit from selling that code. There are many different types of licenses and rights used in order to use code and it allows people access to more information and resources while encouraging the original coders to keep creating.\n"
   ]
  },
  {
   "attachments": {},
   "cell_type": "markdown",
   "metadata": {},
   "source": [
    "## 5.6 Reflection:\n",
    "\n",
    "**Describe PII you have seen on a project in CompSci Principles.**\n",
    "\n",
    "The most common PIIs I have seen in a CompSci Principle project are names, emails, and sometimes State and/or City of residences. Rarer occurrences include date of birth and phone numbers.\n",
    "\n",
    "**What are your feelings about PII and your personal exposure?**\n",
    "\n",
    "For me, I think that there is some information that is beneficial for others to know online. This includes your name, age, state/cite, and sometimes phone number. I think any other information is unnecessary or should not be shared.\n",
    "\n",
    "**Describe good and bad passwords? What is another step that is used to assist in authentication.**\n",
    "\n",
    "A good password is a password filled with random characters and numbers and a bad password is filled with words and simple numbers. Having random characters and numbers makes your password less predictable while words and simple numbers are more predictable. It is also best to have many different passwords for different services. Another step used to assist in authentication is Two-Factor Authentication because it is harder to fake.\n",
    "\n",
    "**Try to describe Symmetric and Asymmetric encryption.**\n",
    "\n",
    "Symmetric encryption is using one private key to encrypt and decrypt a message while Asymmetric encryption is using a public key to encrypt and a private key to decrypt a message.\n",
    "\n",
    "**Provide an example of encryption we used in AWS deployment.**\n",
    "\n",
    "We used AWS’s Client-Side Encryption which we have used to send information to our AWS server that encrypts data as it travels from one server to another. Once at the correct server, it decrypts the data.\n",
    "\n",
    "**Describe a phishing scheme you have learned about the hard way. Describe some other phishing techniques.**\n",
    "\n",
    "Luckily, I have not had to learn about phishing schemes the hard way (not that I know of at least). Some other phishing techniques include scams, threats, fraud, and downloads of shady files.\n"
   ]
  }
 ],
 "metadata": {
  "kernelspec": {
   "display_name": "base",
   "language": "python",
   "name": "python3"
  },
  "language_info": {
   "name": "python",
   "version": "3.9.12"
  },
  "orig_nbformat": 4,
  "vscode": {
   "interpreter": {
    "hash": "112989f40982219f9c2133127490be09f86560db102a13a350eb86b01002b443"
   }
  }
 },
 "nbformat": 4,
 "nbformat_minor": 2
}
