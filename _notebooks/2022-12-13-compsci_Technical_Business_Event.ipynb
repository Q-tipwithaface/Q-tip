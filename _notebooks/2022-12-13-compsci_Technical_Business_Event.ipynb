{
 "cells": [
  {
   "attachments": {},
   "cell_type": "markdown",
   "metadata": {},
   "source": [
    "# Compsci Technical Business Blog\n",
    "\n",
    "- toc: true\n",
    "- branch: master\n",
    "- badges: true\n",
    "- comments: true\n",
    "- author: Lucas Moore\n",
    "- categories: [fastpages, Big Idea]"
   ]
  },
  {
   "attachments": {},
   "cell_type": "markdown",
   "metadata": {},
   "source": [
    "## Speakers:\n",
    "    \n",
    "Kathyleen Beveridge\n",
    "    \n",
    "Kris Porter\n"
   ]
  },
  {
   "attachments": {},
   "cell_type": "markdown",
   "metadata": {},
   "source": [
    "## List of Careers\n",
    "\n",
    "- HP Inc.: A company whos goal is to invent and build technology to better the lives of everyone across the globe.\n",
    "- Qualcomm: Making new and/or improved technology that the world loves.\n",
    "- Thermo Fisher Scientific: Focused on creating technology that could be the solution to a cleaner and safer world.\n"
   ]
  },
  {
   "attachments": {},
   "cell_type": "markdown",
   "metadata": {},
   "source": [
    "## Values in Careers\n",
    "\n",
    "- **Profession:** When creating a new techonology or any product, there needs to be multiple people in different fields working their part that results in high quality work.\n",
    "- **Continuous Learning:** In computer science, you are not going to know everything, but it is important that you know how to learn new concepts, ideas, and tools and to be doing it continuously.\n",
    "- **Planning:** Planning projects and how they should be layouted out is good for understanding requirements and limitations. It is also a basic skill for spliting up work based on different fields and to display good time management.\n",
    "- **Focus on your work:** Focusing on your work may sound easy but things like the news can give criticism and belittle you. It is best to ignore them and just work.\n",
    "- **Listening and translating:** Listening to others for instruction or new learning is good for translating that obtained knowlegde into high quality work.\n",
    "- **Adaptive:** In computer science, you will need to work with very different languages and very different programs and it is best to find ways to adapt to these new things. Ways to adapt include values stated early like continuous learning and listening and translating."
   ]
  },
  {
   "attachments": {},
   "cell_type": "markdown",
   "metadata": {},
   "source": [
    "\n",
    "## Biggest challenges\n",
    "\n",
    "- Going from place to place, project to project, or anything else that resulting in a change of pace or setting. \n",
    "- The interview for getting a new job."
   ]
  },
  {
   "attachments": {},
   "cell_type": "markdown",
   "metadata": {},
   "source": [
    "## Coding in Non-coding Jobs\n",
    "\n",
    "Learning to code or having coding skills is good for non-coding jobs because it can help you with your thinking. Coding can boost your critical thinking skills that will help with other jobs based on their thinking."
   ]
  }
 ],
 "metadata": {
  "kernelspec": {
   "display_name": "base",
   "language": "python",
   "name": "python3"
  },
  "language_info": {
   "name": "python",
   "version": "3.9.12 (main, Apr  5 2022, 06:56:58) \n[GCC 7.5.0]"
  },
  "orig_nbformat": 4,
  "vscode": {
   "interpreter": {
    "hash": "112989f40982219f9c2133127490be09f86560db102a13a350eb86b01002b443"
   }
  }
 },
 "nbformat": 4,
 "nbformat_minor": 2
}
