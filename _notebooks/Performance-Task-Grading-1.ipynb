{
 "cells": [
  {
   "attachments": {},
   "cell_type": "markdown",
   "metadata": {},
   "source": [
    "# Performance Task Scoring 1\n",
    "\n",
    "- toc: true\n",
    "- branch: master\n",
    "- badges: true\n",
    "- comments: true\n",
    "- author: Lucas Moore\n",
    "- categories: [fastpages, Grading, College Board]"
   ]
  },
  {
   "attachments": {},
   "cell_type": "markdown",
   "metadata": {},
   "source": [
    "## Table for Submission 1\n",
    "\n",
    "| Category | My Scoring | College Board Scoring | My Comments | What I missed if scoring is different |\n",
    "| --- | --- | --- | --- | --- |\n",
    "| Program Purpose and Function | 1 | 0 | I gave this part a 1 because the student was very straightforward in their responses resulting in no places where the student would do something they were not allowed to do. The submission also meets all the requirements. | The written response doesn’t go deep enough on what the purpose of the program is. It needed to be more specific about what information of a triangle is outputted. |\n",
    "| Data Abstraction | 1 | 1 | I gave this part a 1 because the student examples the purpose of the functionable code and the purpose of the list and how it tries together in the overall outcome of the program and having everything else present in their response. | NA |\n",
    "| Managing Complexity | 0 | 0 | I gave this part a 0 because the student’s code uses variables present in the list but as a result, provided nothing that shows the importance of those variables in that list. The list is not used in the given code segments and the variables it used does not need to be located in that list. For the variables and list given, it is shown that the list is irrelevant and provides nothing to this part of the code. | NA |\n",
    "| Procedural Abstraction | 1 | 1 | I gave this part a 1 because the procedural is simply stated on why it exists with its parameters in the program and does not talk about the other parts of the program but stays focused on only the given procedural. | NA |\n",
    "| Algorithm Implementation | 1 | 1 | I gave this part a 1 because the algorithm given is properly explained as well as showing step by step process on how to recreate it. The algorithm uses sequencing, selection, and iteration through if statements and for loops. | NA |\n",
    "| Testing | 1 | 1 | I gave this part a 1 because all the requirements are meant. Even though the two parameters start at the same code segment, one of them bypassed another code segment that the other parameters go through, making it ok to use. | NA |"
   ]
  },
  {
   "attachments": {},
   "cell_type": "markdown",
   "metadata": {},
   "source": [
    "## Table for Submission 2\n",
    "\n",
    "| Category | My Scoring | College Board Scoring | My Comments | What I missed if scoring is different |\n",
    "| --- | --- | --- | --- | --- |\n",
    "| Program Purpose and Function | 1 | 1 | I gave this part a 1 because all the information needed was there and clear to understand. The student described a little bit of the function but that is fine because they explained the purpose anyway. | NA |\n",
    "| Data Abstraction | 1 | 1 | I gave this part a 1 because the code segments match what is expected and the response explains what the lists represent and their job. | NA |\n",
    "| Managing Complexity | 1 | 1 | I gave this part a 1 because the student explains the purpose of the lists and most importantly, the purpose of the lists in this part of the code. Explaining the code presented is explained through the use of the lists. | NA |\n",
    "| Procedural Abstraction | 1 | 1 | I gave this part a 1 because the procedural is stated on why it exists with its parameters in the program and does not talk about the other parts of the program but stays focused on only the given procedural. | NA |\n",
    "| Algorithm Implementation | 1 | 1 | I gave this part a 1 because the algorithm given is properly explained as well as showing what is needed to recreate the code and what that part of the code will do. The algorithm uses sequencing, selection, and iteration through if statements and repeat statements. | NA |\n",
    "| Testing | 1 | 1 | I gave this part a 1 because all the requirements are meant. Even though the two parameters lead themselves to a copied list, it is a copy of a different list that executes a different code segment making these parameters ok to use. | NA |"
   ]
  },
  {
   "attachments": {},
   "cell_type": "markdown",
   "metadata": {},
   "source": [
    "## What will be needed to fulfill all requirements\n",
    "- Clear answers that respond to ONLY what is being asked of.\n",
    "- Clear answers that are detailed and specific to what is being asked.\n",
    "- An input that results in the program’s output\n",
    "- Explain and show how the input leads to an output\n",
    "- Have a list or lists that serve more than just holding data.\n",
    "- Be able to explain algorithms inside your code without explaining other parts that don’t affect that algorithm.\n",
    "\n",
    "## Failed to meet the standards\n",
    "For these two examples, a submission is most likely to fail to meet the standard by not properly explaining the purpose of a list, code segments, or the entire program. This shows that there must be a clear purpose for a program and why the purpose is important in order to meet college board expectations.\n",
    "\n"
   ]
  }
 ],
 "metadata": {
  "kernelspec": {
   "display_name": "base",
   "language": "python",
   "name": "python3"
  },
  "language_info": {
   "name": "python",
   "version": "3.9.12 (main, Apr  5 2022, 06:56:58) \n[GCC 7.5.0]"
  },
  "orig_nbformat": 4,
  "vscode": {
   "interpreter": {
    "hash": "112989f40982219f9c2133127490be09f86560db102a13a350eb86b01002b443"
   }
  }
 },
 "nbformat": 4,
 "nbformat_minor": 2
}
