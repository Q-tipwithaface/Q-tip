{
 "cells": [
  {
   "attachments": {},
   "cell_type": "markdown",
   "metadata": {},
   "source": [
    "# Performance Task Scoring 1\n",
    "\n",
    "- toc: true\n",
    "- branch: master\n",
    "- badges: true\n",
    "- comments: true\n",
    "- author: Lucas Moore\n",
    "- categories: [fastpages, Grading, College Board]"
   ]
  },
  {
   "attachments": {},
   "cell_type": "markdown",
   "metadata": {},
   "source": [
    "## Table for Submission 1\n",
    "\n",
    "| Category | My Scoring | College Board Scoring | My Comments | What I missed if scoring is different |\n",
    "| --- | --- | --- | --- | --- |\n",
    "| Program Purpose and Function | 1 | 0 | I gave this part a 1 because the student was very straightforward in their responses resulting in no places where the student would do something they were not allowed to do. The submission also meets all the requirements. | The written response doesn’t go deep enough on what the purpose of the program is. It needed to be more specific about what information of a triangle is outputted. |\n",
    "| Data Abstraction | 1 | 1 | I gave this part a 1 because the student examples the purpose of the functionable code and the purpose of the list and how it tries together in the overall outcome of the program and having everything else present in their response. | NA |\n",
    "| Managing Complexity | 0 | 0 | I gave this part a 0 because the student’s code uses variables present in the list but as a result, provided nothing that shows the importance of those variables in that list. The list is not used in the given code segments and the variables it used does not need to be located in that list. For the variables and list given, it is shown that the list is irrelevant and provides nothing to this part of the code. | NA |\n",
    "| Procedural Abstraction | 1 | 1 | I gave this part a 1 because the procedural is simply stated on why it exists with its parameters in the program and does not talk about the other parts of the program but stays focused on only the given procedural. | NA |\n",
    "| Algorithm Implementation | 1 | 1 | I gave this part a 1 because the algorithm given is properly explained as well as showing step by step process on how to recreate it. The algorithm uses sequencing, selection, and iteration through if statements and for loops. | NA |\n",
    "| Testing | 1 | 1 | I gave this part a 1 because all the requirements are meant. Even though the two parameters start at the same code segment, one of them bypassed another code segment that the other parameters go through, making it ok to use. | NA |"
   ]
  }
 ],
 "metadata": {
  "kernelspec": {
   "display_name": "base",
   "language": "python",
   "name": "python3"
  },
  "language_info": {
   "name": "python",
   "version": "3.9.12 (main, Apr  5 2022, 06:56:58) \n[GCC 7.5.0]"
  },
  "orig_nbformat": 4,
  "vscode": {
   "interpreter": {
    "hash": "112989f40982219f9c2133127490be09f86560db102a13a350eb86b01002b443"
   }
  }
 },
 "nbformat": 4,
 "nbformat_minor": 2
}
