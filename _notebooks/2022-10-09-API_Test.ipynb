{
 "cells": [
  {
   "cell_type": "markdown",
   "metadata": {},
   "source": [
    "# API Test\n",
    "\n",
    "- toc: true\n",
    "- branch: master\n",
    "- badges: true\n",
    "- comments: true\n",
    "- author: Lucas Moore\n",
    "- categories: [fastpages, API]"
   ]
  },
  {
   "cell_type": "markdown",
   "metadata": {},
   "source": [
    "Below is an API that displays famous motivational quotes and the author that said it. There is also code that my team added in that allows the user to give a rating of the quote from a scale from 1 to 10. "
   ]
  },
  {
   "cell_type": "code",
   "execution_count": 21,
   "metadata": {},
   "outputs": [
    {
     "name": "stdout",
     "output_type": "stream",
     "text": [
      "\"Experience is not what happens to a man. It is what a man does with what happens to him.\"\n",
      "-Aldous Huxley\n",
      "You rated this quote 8 out of 10\n"
     ]
    }
   ],
   "source": [
    "import requests\n",
    "\n",
    "url = \"https://motivational-quotes1.p.rapidapi.com/motivation\"\n",
    "\n",
    "payload = {\n",
    "\t\"key1\": \"value\",\n",
    "\t\"key2\": \"value\"\n",
    "}\n",
    "headers = {\n",
    "\t\"content-type\": \"application/json\",\n",
    "\t\"X-RapidAPI-Key\": \"eac34bd148msh7c583e2672043f9p173fe7jsn8f992f4e7662\",\n",
    "\t\"X-RapidAPI-Host\": \"motivational-quotes1.p.rapidapi.com\"\n",
    "}\n",
    "\n",
    "response = requests.request(\"POST\", url, json=payload, headers=headers)\n",
    "\n",
    "print(response.text)\n",
    "rating =int(input(\"Please rate the quote on a scale from 1 to 10\"))\n",
    "if rating <= 10 and rating >= 1:\n",
    "\tprint(\"You rated this quote\", rating, \"out of 10\")\n",
    "else:\n",
    "\tprint(\"Please have a rating between 1 and 10\")"
   ]
  }
 ],
 "metadata": {
  "kernelspec": {
   "display_name": "Python 3.9.12 ('base')",
   "language": "python",
   "name": "python3"
  },
  "language_info": {
   "codemirror_mode": {
    "name": "ipython",
    "version": 3
   },
   "file_extension": ".py",
   "mimetype": "text/x-python",
   "name": "python",
   "nbconvert_exporter": "python",
   "pygments_lexer": "ipython3",
   "version": "3.9.12"
  },
  "orig_nbformat": 4,
  "vscode": {
   "interpreter": {
    "hash": "112989f40982219f9c2133127490be09f86560db102a13a350eb86b01002b443"
   }
  }
 },
 "nbformat": 4,
 "nbformat_minor": 2
}
