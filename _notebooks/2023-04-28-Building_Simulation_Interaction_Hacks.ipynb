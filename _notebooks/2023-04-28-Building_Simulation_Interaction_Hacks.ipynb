{
 "cells": [
  {
   "attachments": {},
   "cell_type": "markdown",
   "metadata": {},
   "source": [
    "# Building Simulation/Interaction using Lists and Iteration Hacks\n",
    "\n",
    "- toc: true\n",
    "- badges: false\n",
    "- comments: true\n",
    "- author: Lucas Moore and Dillion Lee\n",
    "- categories: [student]\n",
    "- type: ap\n",
    "- week: 31"
   ]
  },
  {
   "attachments": {},
   "cell_type": "markdown",
   "metadata": {},
   "source": [
    "## Hack #1\n",
    "\n",
    "Create a visual or written description that compares lists and dictionaries.\n",
    "\n",
    "![list](images/listdictionary.png)\n"
   ]
  },
  {
   "attachments": {},
   "cell_type": "markdown",
   "metadata": {},
   "source": [
    "## Hacks #2\n",
    "\n",
    "Use sorting algorithms to perform operations on a dictionary/list.\n",
    "\n",
    "The data below is sorted by which star wars moives made the most money from highest to lowest."
   ]
  },
  {
   "cell_type": "code",
   "execution_count": 74,
   "metadata": {},
   "outputs": [
    {
     "name": "stdout",
     "output_type": "stream",
     "text": [
      "The Force Awakens: $936 million dollars\n",
      "The Last Jedi: $620 million dollars\n",
      "The Rise of Skywalker: $515 million dollars\n",
      "The Phantom Menace: $431 million dollars\n",
      "Revenge of the Sith: $380 million dollars\n",
      "A New Hope: $307 million dollars\n",
      "Attack of the Clones: $302 million dollars\n",
      "Return of the Jedi: $252 million dollars\n",
      "Empire Strikes Back: $209 million dollars\n"
     ]
    }
   ],
   "source": [
    "starwarsmovies = {\n",
    "    'Name': [\"The Phantom Menace\", \"Attack of the Clones\", \"Revenge of the Sith\", \"A New Hope\", \"Empire Strikes Back\", \"Return of the Jedi\", \"The Force Awakens\", \"The Last Jedi\", \"The Rise of Skywalker\"],\n",
    "    'Audience': [59, 56, 66, 96, 97, 94, 85, 42, 86],\n",
    "    'Rotten Tomatoes': [51, 65, 79, 93, 94, 83, 93, 91, 52],\n",
    "    'Duration': [133, 143, 140, 121, 124, 133, 136, 152, 142],\n",
    "    'money made(millions)':[431, 302, 380, 307, 209, 252, 936, 620, 515]\n",
    "}\n",
    "\n",
    "moviesbymoney = sorted(zip(starwarsmovies['Name'], starwarsmovies['money made(millions)']), key=lambda x: x[1], reverse=True)\n",
    "for movie in moviesbymoney:\n",
    "    print(f\"{movie[0]}: ${movie[1]} million dollars\")"
   ]
  },
  {
   "attachments": {},
   "cell_type": "markdown",
   "metadata": {},
   "source": [
    "## Hacks #3\n",
    "\n",
    "Create a simulation that uses a list.\n",
    "\n",
    "This code simulates how well the crops are based on the weather and time of day."
   ]
  },
  {
   "cell_type": "code",
   "execution_count": 60,
   "metadata": {},
   "outputs": [
    {
     "name": "stdout",
     "output_type": "stream",
     "text": [
      "This afternoon, the weather was cloudy and the crop yield was very good.\n"
     ]
    }
   ],
   "source": [
    "import random\n",
    "\n",
    "weather = ['sunny', 'cloudy', 'raining', 'snowing']\n",
    "time = ['morning', 'afternoon', 'night']\n",
    "yieldofcrops = {\n",
    "    ('sunny', 'morning'): 70,\n",
    "    ('sunny', 'afternoon'): 100,\n",
    "    ('sunny', 'night'): 60,\n",
    "    ('cloudy', 'morning'): 65,\n",
    "    ('cloudy', 'afternoon'): 80,\n",
    "    ('cloudy', 'night'): 50,\n",
    "    ('raining', 'morning'): 40,\n",
    "    ('raining', 'afternoon'): 50,\n",
    "    ('raining', 'night'): 20,\n",
    "    ('snowing', 'morning'): 10,\n",
    "    ('snowing', 'afternoon'): 15,\n",
    "    ('snowing', 'night'): 5,\n",
    "}\n",
    "\n",
    "weathertoday = random.choice(weather)\n",
    "timenow = random.choice(time)\n",
    "yieldtoday = yieldofcrops[(weathertoday, timenow)]\n",
    "if yieldtoday >= 70:\n",
    "    cropresult = \"very good\"\n",
    "elif yieldtoday >= 40:\n",
    "    cropresult = \"good\"\n",
    "elif yieldtoday >= 20:\n",
    "    cropresult = \"bad\"\n",
    "else:\n",
    "    cropresult = \"very bad\"\n",
    "\n",
    "print(f\"This {timenow}, the weather was {weathertoday} and the crop yield was {cropresult}.\")"
   ]
  },
  {
   "attachments": {},
   "cell_type": "markdown",
   "metadata": {},
   "source": [
    "## Hacks #4\n",
    "\n",
    "Kahoot Score: 8/10\n",
    "\n",
    "![list](images/listkahootscore.png)\n",
    "\n",
    "The Practice AP MCQ Tests have many questions that involve simulations and some that ask about the use of lists and dictionaries. Taking those tests would be a good way to study."
   ]
  }
 ],
 "metadata": {
  "kernelspec": {
   "display_name": "base",
   "language": "python",
   "name": "python3"
  },
  "language_info": {
   "name": "python",
   "version": "3.9.12"
  },
  "orig_nbformat": 4
 },
 "nbformat": 4,
 "nbformat_minor": 2
}
