{
 "cells": [
  {
   "attachments": {},
   "cell_type": "markdown",
   "metadata": {},
   "source": [
    "# Performance Task Scoring 3\n",
    "\n",
    "- toc: true\n",
    "- branch: master\n",
    "- badges: true\n",
    "- comments: true\n",
    "- author: Lucas Moore\n",
    "- categories: [fastpages, Grading, College Board]"
   ]
  },
  {
   "attachments": {},
   "cell_type": "markdown",
   "metadata": {},
   "source": [
    "## Table for Submission 1\n",
    "\n",
    "| Category | My Scoring | College Board Scoring | My Comments | What I missed if scoring is different |\n",
    "| --- | --- | --- | --- | --- |\n",
    "| Program Purpose and Function |  |  |  |  |\n",
    "| Data Abstraction |  |  |  |  |\n",
    "| Managing Complexity |  |  |  |  |\n",
    "| Procedural Abstraction |  |  |  |  |\n",
    "| Algorithm Implementation |  |  |  |  |\n",
    "| Testing |  |  |  |  |"
   ]
  },
  {
   "attachments": {},
   "cell_type": "markdown",
   "metadata": {},
   "source": [
    "## Table for Submission 2\n",
    "\n",
    "| Category | My Scoring | College Board Scoring | My Comments | What I missed if scoring is different |\n",
    "| --- | --- | --- | --- | --- |\n",
    "| Program Purpose and Function |  |  |  |  |\n",
    "| Data Abstraction |  |  |  |  |\n",
    "| Managing Complexity |  |  |  |  |\n",
    "| Procedural Abstraction |  |  |  |  |\n",
    "| Algorithm Implementation |  |  |  |  |\n",
    "| Testing |  |  |  |  |"
   ]
  },
  {
   "attachments": {},
   "cell_type": "markdown",
   "metadata": {},
   "source": [
    "## Table for Submission 3\n",
    "\n",
    "| Category | My Scoring | College Board Scoring | My Comments | What I missed if scoring is different |\n",
    "| --- | --- | --- | --- | --- |\n",
    "| Program Purpose and Function |  |  |  |  |\n",
    "| Data Abstraction |  |  |  |  |\n",
    "| Managing Complexity |  |  |  |  |\n",
    "| Procedural Abstraction |  |  |  |  |\n",
    "| Algorithm Implementation |  |  |  |  |\n",
    "| Testing |  |  |  |  |"
   ]
  },
  {
   "attachments": {},
   "cell_type": "markdown",
   "metadata": {},
   "source": [
    "## Table for Submission 4\n",
    "\n",
    "| Category | My Scoring | College Board Scoring | My Comments | What I missed if scoring is different |\n",
    "| --- | --- | --- | --- | --- |\n",
    "| Program Purpose and Function |  |  |  |  |\n",
    "| Data Abstraction |  |  |  |  |\n",
    "| Managing Complexity |  |  |  |  |\n",
    "| Procedural Abstraction |  |  |  |  |\n",
    "| Algorithm Implementation |  |  |  |  |\n",
    "| Testing |  |  |  |  |"
   ]
  }
 ],
 "metadata": {
  "kernelspec": {
   "display_name": "base",
   "language": "python",
   "name": "python3"
  },
  "language_info": {
   "name": "python",
   "version": "3.9.12 (main, Apr  5 2022, 06:56:58) \n[GCC 7.5.0]"
  },
  "orig_nbformat": 4,
  "vscode": {
   "interpreter": {
    "hash": "112989f40982219f9c2133127490be09f86560db102a13a350eb86b01002b443"
   }
  }
 },
 "nbformat": 4,
 "nbformat_minor": 2
}
