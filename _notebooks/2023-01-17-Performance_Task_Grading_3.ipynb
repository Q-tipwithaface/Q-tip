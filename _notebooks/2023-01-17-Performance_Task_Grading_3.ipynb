{
 "cells": [
  {
   "attachments": {},
   "cell_type": "markdown",
   "metadata": {},
   "source": [
    "# Performance Task Scoring 3\n",
    "\n",
    "- toc: true\n",
    "- branch: master\n",
    "- badges: true\n",
    "- comments: true\n",
    "- author: Lucas Moore\n",
    "- categories: [fastpages, Grading, College Board]"
   ]
  },
  {
   "attachments": {},
   "cell_type": "markdown",
   "metadata": {},
   "source": [
    "## Table for Submission 1\n",
    "\n",
    "| Category | My Scoring | College Board Scoring | My Comments | What I missed if scoring is different |\n",
    "| --- | --- | --- | --- | --- |\n",
    "| Program Purpose and Function | 1 | 1 | I gave this part a 1 because the response showed and explained how the program functions and also describes the purpose without restating the function. | NA |\n",
    "| Data Abstraction | 0 | 0 | I gave this part a 0 because the second program code segments do not use the list displayed in the first code segment. This makes the list not assist in the program’s purpose. | NA |\n",
    "| Managing Complexity | 0 | 0 | I gave this part a 0 because the list is irrelevant to the piece of code provided. The code does use the list RPS in other parts of the code but not in the code shown in 3b, making this a zero. | NA |\n",
    "| Procedural Abstraction | 0 | 0 | I gave this part a 0 because the purpose of the code segments shown are not mentioned in the response. The purpose being how this is helpful to the rest of the program. | NA |\n",
    "| Algorithm Implementation | 1 | 1 | I gave this part a 1 because the response tells the reader how the program runs and what allows it to work. Also clarifies use of sequencing, selection, and iterion. | NA |\n",
    "| Testing | 1 | 1 | I gave this part a 1 because the two different calls to through different code segments that result in the outputs being different and telling the reader what code segments it went through. | NA |"
   ]
  },
  {
   "attachments": {},
   "cell_type": "markdown",
   "metadata": {},
   "source": [
    "## Table for Submission 2\n",
    "\n",
    "| Category | My Scoring | College Board Scoring | My Comments | What I missed if scoring is different |\n",
    "| --- | --- | --- | --- | --- |\n",
    "| Program Purpose and Function | 1 | 1 | I gave this part a 1 because the purpose and function were both stated and the program’s functionality was shown in the video. | NA |\n",
    "| Data Abstraction | 1 | 1 | I gave this part a 1 because the code shows a list and how it works with the rest of the program. The list also shows how it gets its data. | NA |\n",
    "| Managing Complexity | 1 | 1 | I gave this part a 1 because the list is used to manage what letters are in the unknown word. | NA |\n",
    "| Procedural Abstraction | 1 | 1 | I gave this part a 1 because the two pieces of code meet what is required and the response explains the purpose of this part of the code. | NA |\n",
    "| Algorithm Implementation | 1 | 1 | I gave this part a 1 because the response tells the reader how the program runs and what allows it to work. It also talks about use of sequencing, selection, and iterion. | NA |\n",
    "| Testing | 1 | 1 | I gave this part a 1 because the two different calls(1 and h) went through different code segments that result in the outputs being different and telling the reader what code segment it went through. | NA |"
   ]
  },
  {
   "attachments": {},
   "cell_type": "markdown",
   "metadata": {},
   "source": [
    "## Table for Submission 3\n",
    "\n",
    "| Category | My Scoring | College Board Scoring | My Comments | What I missed if scoring is different |\n",
    "| --- | --- | --- | --- | --- |\n",
    "| Program Purpose and Function | 1 | 1 | I gave this part a 1 because the purpose was stated along with a brief summary of the function. | NA |\n",
    "| Data Abstraction | 0 | 0 | I gave this part a 0 because the list stated to have been used is not present in the first piece of code. | NA |\n",
    "| Managing Complexity | 0 | 0 | I gave this part a 0 because stating that using the list shortens the complexity of the code is not a valid reason to include a list. | NA |\n",
    "| Procedural Abstraction | 0 | 0 | I gave this part a 0 because the function stated in the first piece of code is not called upon in the second piece of code. | NA |\n",
    "| Algorithm Implementation | 0 | 0 | I gave this part a 0 because the explanation never says what causes the program to do something other than that is using if statements. | NA |\n",
    "| Testing | 0 | 0 | I gave this part a 0 because the two tests are done in two different procedures and only call another procedure and don’t have set parameters. | NA |"
   ]
  },
  {
   "attachments": {},
   "cell_type": "markdown",
   "metadata": {},
   "source": [
    "## Table for Submission 4\n",
    "\n",
    "| Category | My Scoring | College Board Scoring | My Comments | What I missed if scoring is different |\n",
    "| --- | --- | --- | --- | --- |\n",
    "| Program Purpose and Function | 1 | 1 | I gave this part a 1 because the purpose was stated along with a brief summary of the function. The response also tells the reader how to play. | NA |\n",
    "| Data Abstraction | 1 | 1 | I gave this part a 1 because the code shows a list and how it works and its inclusion to the rest of the program. | NA |\n",
    "| Managing Complexity | 1 | 1 | I gave this part a 1 because it explains how the list is needed in order to display the final scores. | NA |\n",
    "| Procedural Abstraction | 1 | 1 | I gave this part a 1 because the two pieces of code meet what is required and it is explained that the purpose of this part of the code is to make the game more challenging. | NA |\n",
    "| Algorithm Implementation | 1 | 1 | I gave this part a 1 because the response tells the reader how the program runs and what code allows it to work. It also talks about use of sequencing, selection, and iterion from the use of if-else statements and loops. | NA |\n",
    "| Testing | 0 | 0 | I gave this part a 0 because the testing calls do not have stated parameters because the calls are just lines from the code and not actual values. | NA |"
   ]
  },
  {
   "attachments": {},
   "cell_type": "markdown",
   "metadata": {},
   "source": [
    "## What will be needed to fulfill all requirements\n",
    "- Clear answers that respond to ONLY what is being asked of.\n",
    "- Clear answers that are detailed and specific to what is being asked.\n",
    "- An input that results in the program’s output\n",
    "- Explain and show how the input leads to an output\n",
    "- Have a list or lists that serve more than just holding data.\n",
    "- Be able to explain algorithms inside your code without explaining other parts that don’t affect that algorithm.\n",
    "\n",
    "## Failed to meet the standards\n",
    "For these four examples, a submission is most likely to fail to meet the standard by not properly explaining the purpose of a list, code segments, or the entire program or by not explaining how a program functions. Defining a program's funciton is not the same as defining the program's purpose. There also must be an understanding of code so that they can be split up to fill in the part of the response that needs code. If you understand the code, them the code present in the response should earn you the points."
   ]
  }
 ],
 "metadata": {
  "kernelspec": {
   "display_name": "base",
   "language": "python",
   "name": "python3"
  },
  "language_info": {
   "name": "python",
   "version": "3.9.12 (main, Apr  5 2022, 06:56:58) \n[GCC 7.5.0]"
  },
  "orig_nbformat": 4,
  "vscode": {
   "interpreter": {
    "hash": "112989f40982219f9c2133127490be09f86560db102a13a350eb86b01002b443"
   }
  }
 },
 "nbformat": 4,
 "nbformat_minor": 2
}
