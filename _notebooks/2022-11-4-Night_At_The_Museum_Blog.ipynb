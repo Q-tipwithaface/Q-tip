{
 "cells": [
  {
   "cell_type": "markdown",
   "metadata": {},
   "source": [
    "# Night At The Museum Blog\n",
    "\n",
    "- toc: true\n",
    "- branch: master\n",
    "- badges: true\n",
    "- comments: true\n",
    "- author: Lucas Moore\n",
    "- categories: [fastpages, N@TM]"
   ]
  },
  {
   "cell_type": "markdown",
   "metadata": {},
   "source": [
    "Other Art From Other Classes\n",
    "--\n",
    "\n",
    "3D Animation - 3D Animation is a computer art class that uses blender to create pieces of art. Below is a printed out image of a render featuring a scene that puts emphasis on a donut.\n",
    "\n",
    "---\n",
    "\n",
    "Ceramics - Ceramics is an art class that uses clay to build unique objects that can express their own artistic style.\n",
    "\n",
    "---\n",
    "\n",
    "Drawing and Painting - Drawing and Painting is using a canvas to draw or paint to express an unlimited amount of style and emotion.\n",
    "\n",
    "---"
   ]
  },
  {
   "cell_type": "markdown",
   "metadata": {},
   "source": [
    "Improvements and New Ideas for the Next Trimester\n",
    "--\n",
    "\n",
    "Improvements - The Final Hangman Project created by team Lyntax in my eyes was very good. It did everything we wanted the project to do.\n",
    "\n",
    "---\n",
    "\n",
    "New Ideas - \n",
    "\n",
    "---"
   ]
  }
 ],
 "metadata": {
  "kernelspec": {
   "display_name": "Python 3.9.12 ('base')",
   "language": "python",
   "name": "python3"
  },
  "language_info": {
   "name": "python",
   "version": "3.9.12"
  },
  "orig_nbformat": 4,
  "vscode": {
   "interpreter": {
    "hash": "112989f40982219f9c2133127490be09f86560db102a13a350eb86b01002b443"
   }
  }
 },
 "nbformat": 4,
 "nbformat_minor": 2
}
