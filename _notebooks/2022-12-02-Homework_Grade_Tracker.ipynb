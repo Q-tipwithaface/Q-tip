{
 "cells": [
  {
   "cell_type": "markdown",
   "metadata": {},
   "source": [
    "# Unit 3 Homework Grade Tracker\n",
    "\n",
    "- toc: true\n",
    "- branch: master\n",
    "- badges: true\n",
    "- comments: true\n",
    "- author: Lucas Moore\n",
    "- categories: [fastpages, Big Idea 3]"
   ]
  },
  {
   "cell_type": "markdown",
   "metadata": {},
   "source": [
    "## Homework Grade\n",
    "\n",
    "### 3.1 to 3.2: 0.85\n",
    "\n",
    "### 3.3 to 3.4: 0.90\n",
    "\n",
    "### 3.5 to 3.7: My Lessons\n",
    "\n",
    "### 3.8 and 3.10:\n",
    "\n",
    "### 3.9 and 3.11:\n",
    "\n",
    "### 3.12 to 3.13:\n",
    "\n",
    "### 3.14 to 3.15:\n",
    "\n",
    "### 3.16:\n",
    "\n",
    "### 3.17 to 3.18:"
   ]
  }
 ],
 "metadata": {
  "kernelspec": {
   "display_name": "Python 3.9.12 ('base')",
   "language": "python",
   "name": "python3"
  },
  "language_info": {
   "name": "python",
   "version": "3.9.12"
  },
  "orig_nbformat": 4,
  "vscode": {
   "interpreter": {
    "hash": "112989f40982219f9c2133127490be09f86560db102a13a350eb86b01002b443"
   }
  }
 },
 "nbformat": 4,
 "nbformat_minor": 2
}
