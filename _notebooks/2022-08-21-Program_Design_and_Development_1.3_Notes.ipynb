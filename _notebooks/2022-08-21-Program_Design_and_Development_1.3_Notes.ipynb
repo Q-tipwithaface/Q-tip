{
 "cells": [
  {
   "cell_type": "markdown",
   "metadata": {},
   "source": [
    "# Unit 1.3 Program, Design, and Development Notes\n",
    "\n",
    "- toc: true\n",
    "- branch: master\n",
    "- badges: true\n",
    "- comments: true\n",
    "- author: Lucas Moore\n",
    "- categories: [fastpages, Big Idea 1]"
   ]
  },
  {
   "cell_type": "markdown",
   "metadata": {},
   "source": [
    "UNIT 1.3 VIDEO NOTES:\n",
    "---"
   ]
  },
  {
   "cell_type": "markdown",
   "metadata": {},
   "source": [
    "MY GROUP PROJECT INFO:\n",
    "---\n",
    "Purpose of Program:\n",
    "-\n",
    "\n",
    "type here\n",
    "\n",
    "Brainstormed Ideas:\n",
    "-\n",
    "\n",
    "type here\n",
    "\n",
    "Requirements and Constraints:\n",
    "-\n",
    "\n",
    "type here\n",
    "\n",
    "Project's Impact:\n",
    "-\n",
    "\n",
    "type here"
   ]
  }
 ],
 "metadata": {
  "kernelspec": {
   "display_name": "Python 3.9.12 ('base')",
   "language": "python",
   "name": "python3"
  },
  "language_info": {
   "name": "python",
   "version": "3.9.12"
  },
  "orig_nbformat": 4,
  "vscode": {
   "interpreter": {
    "hash": "112989f40982219f9c2133127490be09f86560db102a13a350eb86b01002b443"
   }
  }
 },
 "nbformat": 4,
 "nbformat_minor": 2
}
