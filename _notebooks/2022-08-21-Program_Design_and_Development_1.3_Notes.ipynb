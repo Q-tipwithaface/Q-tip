{
 "cells": [
  {
   "cell_type": "markdown",
   "metadata": {},
   "source": [
    "# Unit 1.3 Program, Design, and Development Notes\n",
    "\n",
    "- toc: true\n",
    "- branch: master\n",
    "- badges: true\n",
    "- comments: true\n",
    "- author: Lucas Moore\n",
    "- categories: [fastpages, Big Idea 1]"
   ]
  },
  {
   "cell_type": "markdown",
   "metadata": {},
   "source": [
    "The Development Process:\n",
    "--\n",
    "All programs are created because there was an idea. That idea is what gives the program a certain purpose. The best way developers turn their ideas into reality is by sticking to it and following a clear set of steps to create it. However, these steps are more of a guideline. The development of a program is a lot more exploratory and steps are normally followed based on what happens during development but some steps are essential. \n",
    "\n",
    "1. First, the developers must observe the purpose or problem and then reflect on it. Here is where the developers gain an understanding of the requirements, constraints, and users interest. They can obtain this infomation by testing users, creating surveys, hosting interviews, or observing others.\n",
    "\n",
    "2. After observing, reflecting, and investigating, developers starts to plan how to build the program. This is when they start brainstorming ideas, planning out the code, and create a testing strategy on their work.\n",
    "\n",
    "3. Once the program has been made, the developers talk about how the program behaves and what it should do. They will test their program with outside users. They will look back at their work to make sure it meet all the requirements and put it in a prototype. This will allow the developers to make changes while running the framework.\n",
    "\n",
    "4. Now for the test. This might be the final step, but testing occurs during every step of the development process. Testing occurs on different levels including micro and macro. Finally, developers revisit and refine their program baesd on what was shown after the test, feedback provided from users, and their reflection on what they wanted the program to do."
   ]
  },
  {
   "cell_type": "markdown",
   "metadata": {},
   "source": [
    "Acknowledgement in a Program\n",
    "---\n",
    "Program development is normally used by teams of people and is rarely done alone. Indivduals or smaller teams formed in a team would work on different components of the code. With many people working on the same program, all of them deserve to receive credit for their work. Their names must be written in the program and at the part of the code they worked on. A good place to give credit in a program is through comments. Comments can also direct people to the creater of the code segment to ask for help or to tell them that something is wrong. Speaking of lines of code, most of the time, developers use existing code segments, procedures, and algorithms to write their own program. The people that made the existing code are not part of the project but should still get credit. It should be documented by the author's name and where the code came from."
   ]
  },
  {
   "cell_type": "markdown",
   "metadata": {},
   "source": [
    "Program Documentation\n",
    "---\n",
    "Programmers create program documentation that is a description of the functions of code segments, events, roles, methods, procedures, or the whole program and how all of it was created. Program documentation is most commonly found in the code language's comments. Comments can be read by anyone in the code and have no affect on the program. Comments are a great tool because it is inside the code making it very easy to access. This helps programmers document their development at all times which is something everyone should be doing. The purpose of program documentation is to help development and maintain the program based on the description/infomation contained in it. Program documentation happens at anytime during development. At the beginning, developers list off the specifications of the program. During the production, developers track their process, issues, and successes. After the production, developers explain the overall process of their code and how it affects the whole program."
   ]
  },
  {
   "cell_type": "markdown",
   "metadata": {},
   "source": [
    "My Group Project Info:\n",
    "---\n",
    "- Main Idea about the Project:\n",
    "    - Me and my Group have decided to code a program that will simulate a game of hangman. Hangman is a game between two or more players. One player known as the executioner thinks up of a word or a sentence and at least one other person needs to guess what that word or sentence might be going one letter at a time. If the guesser(s) guess a letter that is not in the phase, the executioner draws a body part of a stick figure onto a gallow. If the executioner draws all the body parts, the guessers lose and the game is over. If the guessers complete the phase, they win.\n",
    "    \n",
    "    ---\n",
    "- Purpose of Program:\n",
    "\n",
    "    - The Purpose of this program is to teach and/or test the user's vocabulary skills. This is done through hangman by displaying a definition of the unknown word or by displaying a topic that relates to the unknown sentence. They must have good vocabalury skills to win the game as well as good grammer.\n",
    "\n",
    "    ---\n",
    "- Brainstormed Ideas:\n",
    "\n",
    "    - The game is going to be like traditional hangman but there are ideas that will make the coding more interesting and make it more fun for the user.\n",
    " \n",
    "        1. Timer: A timer can be added to the game to make it feel more fast paced. A timer will reset every time the user guesses a letter, no matter if it is right or wrong. If the timer finishes before the user guesses, it will automatically draw a body part and reset.\n",
    "\n",
    "        2. Definition: A text box of the definition of the unknown word will appear. This definition will guide the user into guessing the correct word.\n",
    "\n",
    "    ---\n",
    "- Requirements and Constraints:\n",
    "\n",
    "    - The requirement is to create a program with a eductional purpose and present it in class by the end of the trimester. It also must be a project that the group will not lose interest in in a few weeks. This will mean the project must be updated throughout the weeks even after the main code is complete. The biggest constraint for building this program is time. Me and my group only have a few weeks to create the code and are expected to receive many other assignments that might give us less time. That plus the lack of knowledge and experience. However, the point of this assignment is to enhance our knowledge and provide the coders with experience so this is less of a constraint and more of a learning opportunity.\n",
    "\n",
    "    ---\n",
    "- Project's Impact:\n",
    "    - The Project will have an impact on the coders and the users. It will impact the coders because it will provide them with knowledge and experince about code. It will impact the users because it should be able to enhance their vocabulary and some rules about grammer and words.\n",
    "\n",
    "    ---\n",
    "- Data for the Code:\n",
    "    - type here\n",
    "\n",
    "---"
   ]
  }
 ],
 "metadata": {
  "kernelspec": {
   "display_name": "Python 3.9.12 ('base')",
   "language": "python",
   "name": "python3"
  },
  "language_info": {
   "name": "python",
   "version": "3.9.12"
  },
  "orig_nbformat": 4,
  "vscode": {
   "interpreter": {
    "hash": "112989f40982219f9c2133127490be09f86560db102a13a350eb86b01002b443"
   }
  }
 },
 "nbformat": 4,
 "nbformat_minor": 2
}
