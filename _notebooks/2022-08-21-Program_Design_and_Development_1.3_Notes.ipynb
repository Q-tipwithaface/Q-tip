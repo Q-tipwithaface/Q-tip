{
 "cells": [
  {
   "cell_type": "markdown",
   "metadata": {},
   "source": [
    "# Unit 1.3 Program, Design, and Development Notes\n",
    "\n",
    "- toc: true\n",
    "- branch: master\n",
    "- badges: true\n",
    "- comments: true\n",
    "- author: Lucas Moore\n",
    "- categories: [fastpages, Big Idea 1]"
   ]
  },
  {
   "cell_type": "markdown",
   "metadata": {},
   "source": [
    "# Unit 1.3 Video notes:\n",
    "---"
   ]
  },
  {
   "cell_type": "markdown",
   "metadata": {},
   "source": [
    "My Group Project Info:\n",
    "---\n",
    "<mark>Main Idea about the Project: \n",
    "\n",
    "Me and my Group have decided to code a program that will simulate a game of hangman. Hangman is a game between two or more players. One player known as the executioner thinks up of a word or a sentence and at least one other person needs to guess what that word or sentence might be going one letter at a time. If the guesser(s) guess a letter that is not in the phase, the executioner draws a body part of a stick figure onto a gallow. If the executioner draws all the body parts, the guessers lose and the game is over. If the guessers complete the phase, they win.\n",
    "    \n",
    "<mark>Purpose of Program:\n",
    "\n",
    "The Purpose of this program is to teach and/or test the user's vocabulary skills. This is done through hangman by displaying a definition of the unknown word or by displaying a topic that relates to the unknown sentence. They must have good vocabalury skills to win the game as well as good grammer.\n",
    "\n",
    "<mark>Brainstormed Ideas:\n",
    "\n",
    "The game is going to be like traditional hangman but there are ideas that will make the coding more interesting and make it more fun for the user.\n",
    " \n",
    "1. Timer: A timer can be added to the game to make it feel more fast paced. A timer will reset every time the user guesses a letter, no matter if it is right or wrong. If the timer finishes before the user guesses, it will automatically draw a body part and reset.\n",
    "\n",
    "2. Definition: A text box of the definition of the unknown word will appear. This definition will guide the user into guessing the correct word.\n",
    "\n",
    "<mark>Requirements and Constraints:\n",
    "\n",
    "The requirement is to create a program with a eductional purpose and present it in class by the end of the trimester.\n",
    "\n",
    "- Project's Impact:\n",
    "    - type here\n",
    "\n",
    "- Hacks:\n",
    "    - type here\n",
    "\n",
    "---"
   ]
  }
 ],
 "metadata": {
  "kernelspec": {
   "display_name": "Python 3.9.12 ('base')",
   "language": "python",
   "name": "python3"
  },
  "language_info": {
   "name": "python",
   "version": "3.9.12"
  },
  "orig_nbformat": 4,
  "vscode": {
   "interpreter": {
    "hash": "112989f40982219f9c2133127490be09f86560db102a13a350eb86b01002b443"
   }
  }
 },
 "nbformat": 4,
 "nbformat_minor": 2
}
