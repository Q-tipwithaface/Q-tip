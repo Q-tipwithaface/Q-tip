{
 "cells": [
  {
   "cell_type": "code",
   "execution_count": 1,
   "metadata": {},
   "outputs": [
    {
     "name": "stdout",
     "output_type": "stream",
     "text": [
      "Hello, you will now be answering 4 questions\n",
      "How many states are in the United States of America?\n",
      "That is incorrect\n",
      "What is the absolute value of 9?\n",
      "That is incorrect\n",
      "What is the first colour in a rainbow?\n",
      "That is incorrect\n",
      "What is the 21st letter of the alphabet?\n",
      "That is incorrect\n",
      "You scored 0/4\n"
     ]
    }
   ],
   "source": [
    "def Python_Quiz(prompt):\n",
    "    global word\n",
    "    print (\"Question: \" + prompt)\n",
    "    word = input()\n",
    "    return word\n",
    "\n",
    "questions_number = 4\n",
    "correct_answer = 0\n",
    "\n",
    "print(\"Hello, you will now be answering \" + str(questions_number) + \" questions\")\n",
    "\n",
    "My_Quiz = [{\n",
    "    \"How many states are in the United States of America?\": \"50\",\n",
    "    \"What is the absolute value of 9?\": \"9\",\n",
    "    \"What is the first colour in a rainbow?\": \"red\",\n",
    "    \"What is the 21st letter of the alphabet?\": \"u\",\n",
    "}]\n",
    "# My_Quiz.append({\n",
    "#     \"How many states are in the United States of America?\": \"50\",\n",
    "#     \"What is the absolute value of 9?\": \"9\",\n",
    "#     \"What is the first colour in a rainbow?\": \"red\",\n",
    "#     \"What is the 21st letter of the alphabet?\": \"u\",\n",
    "# })\n",
    "\n",
    "for dict in My_Quiz:\n",
    "    for questions, answers in dict.items():\n",
    "        Python_Quiz(questions)\n",
    "        if word == answers:\n",
    "            print(\"That is correct\")\n",
    "            correct_answer += 1\n",
    "        else:\n",
    "            print(\"That is incorrect\")\n",
    "\n",
    "print(\"You answered \" + str(correct_answer) + \" out of \" + str(questions_number)+ \" questions correctly\")"
   ]
  }
 ],
 "metadata": {
  "kernelspec": {
   "display_name": "Python 3.8.10 64-bit",
   "language": "python",
   "name": "python3"
  },
  "language_info": {
   "codemirror_mode": {
    "name": "ipython",
    "version": 3
   },
   "file_extension": ".py",
   "mimetype": "text/x-python",
   "name": "python",
   "nbconvert_exporter": "python",
   "pygments_lexer": "ipython3",
   "version": "3.8.10"
  },
  "orig_nbformat": 4,
  "vscode": {
   "interpreter": {
    "hash": "916dbcbb3f70747c44a77c7bcd40155683ae19c65e1c03b4aa3499c5328201f1"
   }
  }
 },
 "nbformat": 4,
 "nbformat_minor": 2
}
