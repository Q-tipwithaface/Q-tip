{
 "cells": [
  {
   "cell_type": "markdown",
   "metadata": {},
   "source": [
    "# PBL Vocabulary\n",
    "\n",
    "- toc: true\n",
    "- branch: master\n",
    "- badges: true\n",
    "- comments: true\n",
    "- author: Lucas Moore\n",
    "- categories: [fastpages, advanced learning]"
   ]
  },
  {
   "cell_type": "markdown",
   "metadata": {},
   "source": [
    "Key Parts of Problem Based Learning(PBL):\n",
    "---\n",
    "Creativity - Conceptualize problems and solutions, Display foresight, Make connections, Make intelligent inferences, Synthesize ideas and data\n",
    "\n",
    "Critical thinking - ability to take a step back and look at things more critically, head off problems before they arise\n",
    "\n",
    "Communication - verbal, listening, writing, technological communication skills\n",
    "\n",
    "Collaboration through Leadership - Delegating responsibility, Demonstrating effective time management, Initiating new ideas, Major decision-making, managing group\n",
    "\n",
    "Collaboration - Teamwork - Accepting responsibility, Making and implementing decisions\n",
    "\n",
    "Researching - Analyzing information, Brainstorming solutions\n",
    "\n",
    "Technical - Easy to work with, Quick to learn"
   ]
  }
 ],
 "metadata": {
  "kernelspec": {
   "display_name": "Python 3.9.12 ('base')",
   "language": "python",
   "name": "python3"
  },
  "language_info": {
   "name": "python",
   "version": "3.9.12"
  },
  "orig_nbformat": 4,
  "vscode": {
   "interpreter": {
    "hash": "112989f40982219f9c2133127490be09f86560db102a13a350eb86b01002b443"
   }
  }
 },
 "nbformat": 4,
 "nbformat_minor": 2
}
