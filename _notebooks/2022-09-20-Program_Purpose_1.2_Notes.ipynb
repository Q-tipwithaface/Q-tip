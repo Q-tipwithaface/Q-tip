{
 "cells": [
  {
   "cell_type": "markdown",
   "metadata": {},
   "source": [
    "# Unit 1.2 Program Purpose Notes\n",
    "\n",
    "- toc: true\n",
    "- branch: master\n",
    "- badges: true\n",
    "- comments: true\n",
    "- author: Lucas Moore\n",
    "- categories: [fastpages, Big Idea 1]"
   ]
  },
  {
   "cell_type": "markdown",
   "metadata": {},
   "source": [
    "Main Idea: Why should computing innovation have a purpose? What is its purpose?\n",
    "---\n",
    "\n",
    "Computing innovation has a purpose because understanding the purpose of the innovation helps the developers improve their skills and ability to create the computing innovation they are working on. All computing innovations are builted with a purpose in mind because that is what guides the development process of the innovation.\n",
    "\n",
    "The purpose of computing innovations is to solve problems or pursue interests. Most of the problems are not necessary but does make our daily lifes a lot easier."
   ]
  }
 ],
 "metadata": {
  "kernelspec": {
   "display_name": "Python 3.9.12 ('base')",
   "language": "python",
   "name": "python3"
  },
  "language_info": {
   "name": "python",
   "version": "3.9.12"
  },
  "orig_nbformat": 4,
  "vscode": {
   "interpreter": {
    "hash": "112989f40982219f9c2133127490be09f86560db102a13a350eb86b01002b443"
   }
  }
 },
 "nbformat": 4,
 "nbformat_minor": 2
}
