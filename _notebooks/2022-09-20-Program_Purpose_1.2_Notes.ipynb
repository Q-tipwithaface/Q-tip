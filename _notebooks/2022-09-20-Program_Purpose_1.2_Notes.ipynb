{
 "cells": [
  {
   "cell_type": "markdown",
   "metadata": {},
   "source": [
    "# Unit 1.2 Program Purpose Notes\n",
    "\n",
    "- toc: true\n",
    "- branch: master\n",
    "- badges: true\n",
    "- comments: true\n",
    "- author: Lucas Moore\n",
    "- categories: [fastpages, Big Idea 1]"
   ]
  },
  {
   "cell_type": "markdown",
   "metadata": {},
   "source": [
    "Main Idea: Why should computing innovation have a purpose and what is it?\n",
    "---\n",
    "\n",
    "Computing innovation has a purpose because understanding the purpose of the innovation helps the developers improve their skills and ability to create the computing innovation they are working on. All computing innovations are builted with a purpose in mind because that is what guides the development process of the innovation. The purpose of computing innovations is to solve problems or pursue interests. Most of the problems are not necessary but does make our daily lifes a lot easier. For the innovation made in this class, its purpose is to teach them about code and/or shown what they learned.\n",
    "\n",
    "Inputs, Events, Actions, and Outputs:\n",
    "---\n",
    "Inputs are data that are sent into a computer for it to process through a given program. Forms of Input include text, numerical values, visual, tactile, and audio. Additionally, an event that triggers an action supplies a given input to the program it is in. A input can also be an action that triggers an event. To put it simiply, inputs can come from a user or other parts of the program. Event-driven programming results in program statements becoming active when triggered. The program can jump between code segment based on the event. Those events can be caused by anything; key pressed, mouse clicked, program started, timer, and many more. The inputs created normally affect other events and the output produced by a program. All of these types of inputs and events normally results in outputs. Program outputs are data sent from a program to the user or device. They can come in many different forms including but not limited to tactile, audio, visual, or text. Computer Programs take inputs in many different ways allowing them to influence the program's behavior differently.\n",
    "\n",
    "Details About a Program:\n",
    "---\n",
    "A program is a collection of program statements that do a specific task when run. A program is also called software. A Program must be flexiable to work with different inputs and situations. The behavior of a program is how the program functions while it's running and is often affected by the user. A Program can be described based on what is does and also by how the program statements state the functions. A code segment is a collection of program statements that is part of a program. Focused on one task.\n",
    "\n",
    "\n"
   ]
  }
 ],
 "metadata": {
  "kernelspec": {
   "display_name": "Python 3.9.12 ('base')",
   "language": "python",
   "name": "python3"
  },
  "language_info": {
   "name": "python",
   "version": "3.9.12"
  },
  "orig_nbformat": 4,
  "vscode": {
   "interpreter": {
    "hash": "112989f40982219f9c2133127490be09f86560db102a13a350eb86b01002b443"
   }
  }
 },
 "nbformat": 4,
 "nbformat_minor": 2
}
