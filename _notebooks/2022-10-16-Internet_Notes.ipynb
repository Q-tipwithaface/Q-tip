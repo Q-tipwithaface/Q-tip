{
 "cells": [
  {
   "cell_type": "markdown",
   "metadata": {},
   "source": [
    "# Unit 4.1 The Internet Notes\n",
    "\n",
    "- toc: true\n",
    "- branch: master\n",
    "- badges: true\n",
    "- comments: true\n",
    "- author: Lucas Moore\n",
    "- categories: [fastpages, Big Idea 4]"
   ]
  },
  {
   "cell_type": "markdown",
   "metadata": {},
   "source": [
    "How Computers Connect With Each Other\n",
    "---\n",
    "\n",
    "Computers send infomation to each other in the form of packets that go over a network. A computer network is a group of interconnected devices that send and/or receive data. A computer network is a type of computer system. The message a device sends goes on a path that is inbetween the sender and the receiver. There is also another device called the router that finders the path between the sender and the receiver. Bandwidth is the maximum amount of data that a device can send in a certain amount of time.\n",
    "\n",
    "Why do computers need to connect?\n",
    "\n",
    "Computers connecting allows for us, the users, to communcaite with other people from different places.\n",
    "\n",
    "Why do we use packets to transmit data?\n",
    "\n",
    "We use packets to transmit data because taking a small piece of data at a time is better than needing to take it through all at once."
   ]
  },
  {
   "cell_type": "markdown",
   "metadata": {},
   "source": [
    "About the Internet\n",
    "---\n",
    "\n",
    "The Internet is a computer metwork with interconnected networks that use open communication protocols. Protocols are set rules that specify the behaviors of systems. Users can easily connect computing devices to the internet because of its open protocols. The Internet Engineering Task Force is what set the internet's protocols. Computers use numbers to talk not letters. The internet is flexable around the rounters is bounes off of. A local area network is internet connected to rounters in an organization. Theses are linked by Intranets. Autonomous systems are networks linked together by large intranets. The Internet is millions of autonomous systems linked together. Domain Name Service holds a database for names for IPs. DNS allows for servers to spread across the internet. The world wide web is a network of linked data and programs, running over the Internet. Computers get their ip from the dynamic host configuration protocol."
   ]
  }
 ],
 "metadata": {
  "kernelspec": {
   "display_name": "Python 3.9.12 ('base')",
   "language": "python",
   "name": "python3"
  },
  "language_info": {
   "name": "python",
   "version": "3.9.12"
  },
  "orig_nbformat": 4,
  "vscode": {
   "interpreter": {
    "hash": "112989f40982219f9c2133127490be09f86560db102a13a350eb86b01002b443"
   }
  }
 },
 "nbformat": 4,
 "nbformat_minor": 2
}
