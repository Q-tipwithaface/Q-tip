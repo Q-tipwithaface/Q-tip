{
 "cells": [
  {
   "cell_type": "markdown",
   "metadata": {},
   "source": [
    "# Week 3 Progress For Final Project Hangman\n",
    "\n",
    "- toc: true\n",
    "- branch: master\n",
    "- badges: true\n",
    "- comments: true\n",
    "- author: Lucas Moore\n",
    "- categories: [fastpages, Final Project]"
   ]
  },
  {
   "cell_type": "markdown",
   "metadata": {},
   "source": [
    "Week Two Progress\n",
    "---\n",
    "\n",
    "During Week two, my group completed the framework for the hangman program. Below is a list of components in that framework.\n",
    "\n",
    "- Space for unknown word to be shown\n",
    "    - The program now has a place where the secret word will be displayed. The display space will be determined by the amount of characters in the word. For example, the word \"input\" would be first displayed as \" _ _ _ _ _ \" where as the word \"output\" would be first displayed as \" _ _ _ _ _ _ \".\n",
    "- Space for guessed incorrect answers\n",
    "    - The program has an area that displays letters that are not present in the secret word that were also guessed by the user. If the user has already guessed the incorrect letter and choices it again, the program will remain them that they have already guessed that word and leave the amount of body parts the same.\n",
    "- A more presentable program\n",
    "    - More detailed images have been created that display the hanged man and the gallow. Each image displays the different stages of the hangman's growth."
   ]
  },
  {
   "cell_type": "markdown",
   "metadata": {},
   "source": [
    "Current Progress\n",
    "---\n",
    "\n",
    "As of the now, the following is currently under development.\n",
    "\n",
    "- Convert the backend code to frontend\n",
    "    - The backend portion of the hangman code has been completed but now, it must be convert into frontend. The program's code will need to be converted from python to HTML code.\n",
    "- Reviews from outside users\n",
    "    - Throughout the development process, my group has been testing to make sure the code was working and was doing the job it was meant to be doing. Right before we finish and mark the code as complete, we will go around the classroom and ask others for their feedback. We will take in this feedback and use it to make any final corrections and then mark the hangman program as complete. "
   ]
  },
  {
   "cell_type": "markdown",
   "metadata": {},
   "source": [
    "Problems and their Solutions\n",
    "---\n",
    "For week 2, no problems have arised. However, we have been struggling with some parts of the code, mainly converting it to frontend. But this is part of our learning and the development process. We must research in order to find the code that will work for our program."
   ]
  }
 ],
 "metadata": {
  "kernelspec": {
   "display_name": "Python 3.9.12 ('base')",
   "language": "python",
   "name": "python3"
  },
  "language_info": {
   "name": "python",
   "version": "3.9.12"
  },
  "orig_nbformat": 4,
  "vscode": {
   "interpreter": {
    "hash": "112989f40982219f9c2133127490be09f86560db102a13a350eb86b01002b443"
   }
  }
 },
 "nbformat": 4,
 "nbformat_minor": 2
}
