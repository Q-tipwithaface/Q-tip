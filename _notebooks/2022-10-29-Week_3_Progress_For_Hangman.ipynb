{
 "cells": [
  {
   "cell_type": "markdown",
   "metadata": {},
   "source": [
    "# Week 3 Progress For Final Project Hangman\n",
    "\n",
    "- toc: true\n",
    "- branch: master\n",
    "- badges: true\n",
    "- comments: true\n",
    "- author: Lucas Moore\n",
    "- categories: [fastpages, Final Project]"
   ]
  },
  {
   "cell_type": "markdown",
   "metadata": {},
   "source": [
    "Week Two Progress\n",
    "---\n",
    "\n",
    "During Week two, my group completed . . . Below is a list of those components.\n",
    "\n",
    "- Something\n",
    "    - About that Something"
   ]
  },
  {
   "cell_type": "markdown",
   "metadata": {},
   "source": [
    "Current Progress\n",
    "---\n",
    "\n",
    "As of the now, the following is currently under development.\n",
    "\n",
    "- Something else\n",
    "    - About Something else"
   ]
  },
  {
   "cell_type": "markdown",
   "metadata": {},
   "source": [
    "Problems and their Solutions\n",
    "---"
   ]
  }
 ],
 "metadata": {
  "kernelspec": {
   "display_name": "Python 3.9.12 ('base')",
   "language": "python",
   "name": "python3"
  },
  "language_info": {
   "name": "python",
   "version": "3.9.12"
  },
  "orig_nbformat": 4,
  "vscode": {
   "interpreter": {
    "hash": "112989f40982219f9c2133127490be09f86560db102a13a350eb86b01002b443"
   }
  }
 },
 "nbformat": 4,
 "nbformat_minor": 2
}
