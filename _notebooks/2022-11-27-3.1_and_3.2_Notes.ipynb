{
 "cells": [
  {
   "cell_type": "markdown",
   "metadata": {},
   "source": [
    "# Unit 3.1 and 3.2 Notes\n",
    "\n",
    "- toc: true\n",
    "- branch: master\n",
    "- badges: true\n",
    "- comments: true\n",
    "- author: Lucas Moore\n",
    "- categories: [fastpages, Big Idea 3]"
   ]
  },
  {
   "cell_type": "markdown",
   "metadata": {},
   "source": [
    "## Unit 3.1 Variables and Assignments\n",
    "\n",
    "- Variables are abstractions that represent values.\n",
    "    - Values can be single data points or a list that has many data values. \n",
    "    - Data can be numbers, Booleans, lists, and strings.\n",
    "\n",
    "- Python\n",
    "    - Variables are defined by one word and uses the = sign to set that word equal to an inserted value.\n",
    "    - Those variables are defined through numbers, string, list, or boolean based on its purpose.\n",
    "        - Mathematical Expressions can be used if the variable is a number.\n",
    "        - Functions can be used if list is defined.\n",
    "        - Dictionaries can be used like lists but not exactly.\n",
    "    - Variables work in many functions and conditions.\n",
    "    - Variables can interchange by setting the value of a variable to the value of another variable.\n",
    "    - To define a function, use the varable \"def\".\n",
    "\n",
    "- JavaScript\n",
    "    - JavaScript has similar functions compared to python.\n",
    "    - JavaScript Uses . . .\n",
    "        - Numbers\n",
    "        - Booleans\n",
    "        - Strings\n",
    "        - Lists"
   ]
  },
  {
   "cell_type": "markdown",
   "metadata": {},
   "source": [
    "## Unit 3.2 Data Abstraction\n",
    "\n",
    "- A list is made of elements placed in a certain order.\n",
    "    - An element is a single value in a list\n",
    "- A string is different from a list because a string is made of characters and letters.\n",
    "- Data abstraction takes certain data elements from a list and puts them in one less complex representation of values. An example would be putting the data elements in a table.\n",
    "\n",
    "- Python\n",
    "\n",
    "    - To Data abstract, lists are great in python. It allows formatting information to be easier and results in fewer mistakes.\n",
    "    - Lists can be broken into more lists by having the data elements labeled in different groups and those groups put into a new list.\n",
    "    - Single elements can be called uponed and seprated from the rest of the list.\n",
    "    - \"split()\" splits a string into a list.\n",
    "    - \"join()\" brings lists together into one string.\n"
   ]
  }
 ],
 "metadata": {
  "kernelspec": {
   "display_name": "Python 3.9.12 ('base')",
   "language": "python",
   "name": "python3"
  },
  "language_info": {
   "name": "python",
   "version": "3.9.12"
  },
  "orig_nbformat": 4,
  "vscode": {
   "interpreter": {
    "hash": "112989f40982219f9c2133127490be09f86560db102a13a350eb86b01002b443"
   }
  }
 },
 "nbformat": 4,
 "nbformat_minor": 2
}
