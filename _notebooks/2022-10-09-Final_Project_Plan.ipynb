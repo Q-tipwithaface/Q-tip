{
 "cells": [
  {
   "cell_type": "markdown",
   "metadata": {},
   "source": [
    "# Final Project Plan\n",
    "\n",
    "- toc: true\n",
    "- branch: master\n",
    "- badges: true\n",
    "- comments: true\n",
    "- author: Lucas Moore\n",
    "- categories: [fastpages, Create Performance Task]"
   ]
  },
  {
   "cell_type": "markdown",
   "metadata": {},
   "source": [
    "Main Ideas:\n",
    "---\n",
    "\n",
    "Me and my Group have decided to code a program that will simulate a game of hangman. Hangman is a game between two or more players. One player known as the executioner thinks up of a word or a sentence and at least one other person needs to guess what that word or sentence might be going one letter at a time. If the guesser(s) guess a letter that is not in the phase, the executioner draws a body part of a stick figure onto a gallow. If the executioner draws all the body parts, the guessers lose and the game is over. If the guessers complete the phase, they win. The Purpose of this program is to teach and/or test the user's vocabulary skills. This is done through hangman by displaying a definition of the unknown word or by displaying a topic that relates to the unknown sentence. They must have good vocabalury skills to win the game as well as good grammer. The Project will have an impact on the coders and the users. It will impact the coders because it will provide them with knowledge and experince about code. It will impact the users because it should be able to enhance their vocabulary and some rules about grammer and words.\n",
    "\n",
    "1. Program, Purpose, and Function: The purpose of this program is to test the user's vocabulary skills. This is done through hangman by displaying a definition of the unknown word or by displaying a topic that relates to the unknown sentence. The users must have good vocabalury skills to win the game as well as good grammer.\n",
    "\n",
    "2. Data Abstraction: The program will need to have lists, dictionaries, and an API. Mostly likely, the lists and dictionaries will be located inside an API. This API will have the definitions and words that will be used for hangman. My group will use the API and code around it so that the user can guess the word in a style that simulates hangman.\n",
    "\n",
    "3. Managing Complexity: The API is what is being coded around so that will organize the code. However, this only displays what to display. My group will need to program the functions of the inputs and outputs. This will still be connected to the API.\n",
    "\n",
    "4. Procedural Abstraction: There will be a function in the program that determines if the inputed word and the unknown word and the same. This is important to the rest of the program because this will display that the game is over and the code can end or move on to a different segment of the code. This line of code gives the other code segments purpose.\n",
    "\n",
    "5. Algorithm Implementation: The program have a API and code in the program will loop the APi in order to gain more words and definitions and display them. More will be explained once the code segment is actually created.\n",
    "\n",
    "6. Testing: The main call used in the hangman program would be the event when the user inputs a word. When the user puts in a word, a function will check if it matched with the unknown word. If they do not, the user guesses again and calls the same function from earlier."
   ]
  }
 ],
 "metadata": {
  "kernelspec": {
   "display_name": "Python 3.9.12 ('base')",
   "language": "python",
   "name": "python3"
  },
  "language_info": {
   "name": "python",
   "version": "3.9.12"
  },
  "orig_nbformat": 4,
  "vscode": {
   "interpreter": {
    "hash": "112989f40982219f9c2133127490be09f86560db102a13a350eb86b01002b443"
   }
  }
 },
 "nbformat": 4,
 "nbformat_minor": 2
}
