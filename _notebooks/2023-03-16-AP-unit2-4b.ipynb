{
 "cells": [
  {
   "attachments": {},
   "cell_type": "markdown",
   "metadata": {},
   "source": [
    "#  Unit 2.4b Using Programs with Data, SQL\n",
    "> Using Programs with Data is focused on SQL and database actions.  Part B focuses on learning SQL commands, connections, and curses using an Imperative programming style,\n",
    "- toc: true\n",
    "- categories: []\n",
    "- type: ap\n",
    "- week: 26"
   ]
  },
  {
   "attachments": {},
   "cell_type": "markdown",
   "metadata": {},
   "source": [
    "# Database Programming is Program with Data\n",
    "> Each Tri 2 Final Project should be an example of a Program with Data. \n",
    "\n",
    ">  Prepare to use SQLite in common Imperative Technique\n",
    "- Explore [SQLite Connect object](https://www.tutorialspoint.com/python_data_access/python_sqlite_establishing_connection.htm) to establish database connection\n",
    "- Explore [SQLite Cursor Object](https://www.tutorialspoint.com/python_data_access/python_sqlite_cursor_object.htm) to fetch data from a table within a database\n"
   ]
  },
  {
   "attachments": {},
   "cell_type": "markdown",
   "metadata": {},
   "source": [
    "## Schema of Users table in Sqlite.db\n",
    "> Uses PRAGMA statement to read schema.\n",
    "\n",
    "Describe Schema, here is resource [Resource](https://www.sqlite.org/index.html).\n",
    "\n",
    "- What is a database schema?\n",
    "\n",
    "<span style=\"color:blue\">A database schema defines what the categories is in a column.</span> \n",
    "\n",
    "- What is the purpose of identity Column in SQL database?\n",
    "\n",
    "<span style=\"color:blue\">An identity column is used to know more about the data and a way to easly access a database.</span>\n",
    "\n",
    "- What is the purpose of a primary key in SQL database?\n",
    "\n",
    "<span style=\"color:blue\">The purpose of a primary key in SQL database is to easily identify an object. Id is a good primary key because an id is unique.</span>\n",
    "\n",
    "- What are the Data Types in SQL table?\n",
    "\n",
    "<span style=\"color:blue\">Almost any type of data type can work (lists, structures, dictionaries, etc.)</span>"
   ]
  },
  {
   "cell_type": "code",
   "execution_count": 3,
   "metadata": {},
   "outputs": [
    {
     "name": "stdout",
     "output_type": "stream",
     "text": [
      "(0, 'id', 'INTEGER', 1, None, 1)\n",
      "(1, '_name', 'VARCHAR(255)', 1, None, 0)\n",
      "(2, '_uid', 'VARCHAR(255)', 1, None, 0)\n",
      "(3, '_password', 'VARCHAR(255)', 1, None, 0)\n",
      "(4, '_dob', 'DATE', 0, None, 0)\n"
     ]
    }
   ],
   "source": [
    "import sqlite3\n",
    "\n",
    "database = 'instance/sqlite.db' # this is location of database\n",
    "\n",
    "def schema():\n",
    "    \n",
    "    # Connect to the database file\n",
    "    conn = sqlite3.connect(database)\n",
    "\n",
    "    # Create a cursor object to execute SQL queries\n",
    "    cursor = conn.cursor()\n",
    "    \n",
    "    # Fetch results of Schema\n",
    "    results = cursor.execute(\"PRAGMA table_info('userspeople')\").fetchall()\n",
    "\n",
    "    # Print the results\n",
    "    for row in results:\n",
    "        print(row)\n",
    "\n",
    "    # Close the database connection\n",
    "    conn.close()\n",
    "    \n",
    "schema()\n"
   ]
  },
  {
   "attachments": {},
   "cell_type": "markdown",
   "metadata": {},
   "source": [
    "## Reading Users table in Sqlite.db\n",
    "> Uses SQL SELECT statement to read data\n",
    "\n",
    "- What is a connection object?  After you google it, what do you think it does?\n",
    "\n",
    "<span style=\"color:blue\">A connection object is a uniques session for a database. I think it is used to record pieces of data in its own database.</span>\n",
    "\n",
    "- Same for cursor object?\n",
    "\n",
    "<span style=\"color:blue\">A cursor object is used to set different objects in rows or under categories of a table.</span>\n",
    "\n",
    "- Look at connect object and cursor object in VSCode debugger.  What attributes are in the object?\n",
    "\n",
    "<span style=\"color:blue\">The attributes of the objects inform the reader of the status of a database and the objects and properties inside of it.</span>\n",
    "\n",
    "- Is \"results\" an object?  How do you know?\n",
    "\n",
    "<span style=\"color:blue\">Results is an object because it ends up with data and displaying it.</span>"
   ]
  },
  {
   "cell_type": "code",
   "execution_count": 12,
   "metadata": {},
   "outputs": [
    {
     "name": "stdout",
     "output_type": "stream",
     "text": [
      "(1, 'Thomas Edison', 'toby', 'sha256$rWj46pcSi3kQ0VEg$96a780c487acdbd240b0164d97c07c2b6466915d2c55eeab6efcc707926a4111', '1847-02-11')\n",
      "(2, 'Nikola Tesla', 'niko', 'sha256$KwL0ERbOxWTgsOdy$761167a5f4cb5cae45b58d474b7656c67962094864af5a30dce628b26bf6c59b', '2023-03-15')\n",
      "(3, 'Alexander Graham Bell', 'lex', 'sha256$V7Db1PNfk4FpyYwa$e217620a8cc9f78fee320976b9d2e911b5ceb0552d7dcc8cafb4c6fb5fe54abd', '2023-03-15')\n",
      "(4, 'Eli Whitney', 'whit', 'sha256$0xkoASL9ldVr9D0Z$28325d30689c1359637fda8b5a0761e061b5e931567d2de50e14e1970a471fd1', '2023-03-15')\n",
      "(5, 'Indiana Jones', 'indi', 'sha256$l7No03XVVAkE9spm$aacd031fe41b12d3690fc0a279b42b07adf2db8defbc1de07a2058bd7b3e4bc3', '1920-10-21')\n",
      "(6, 'Marion Ravenwood', 'raven', 'sha256$dSysZYgfQThVBBIP$ade193a1a5b158b1666fe19f95aa6df4686406eb4c11f9ec8e7fb5be2bf8de40', '1921-10-21')\n",
      "(7, '', '', 'sha256$KmlX3ZPfMKckTsN8$05ae1551124f44c62023df0480ac8a75fd6dcbf34a8f2b5303722b2d2e1219ae', '2023-03-15')\n",
      "(8, 'Lucas', 'qtip', 'amoungus', '2006-12-16')\n"
     ]
    }
   ],
   "source": [
    "import sqlite3\n",
    "\n",
    "def read():\n",
    "    # Connect to the database file\n",
    "    conn = sqlite3.connect(database)\n",
    "\n",
    "    # Create a cursor object to execute SQL queries\n",
    "    cursor = conn.cursor()\n",
    "    \n",
    "    # Execute a SELECT statement to retrieve data from a table\n",
    "    results = cursor.execute('SELECT * FROM userspeople').fetchall()\n",
    "\n",
    "    # Print the results\n",
    "    if len(results) == 0:\n",
    "        print(\"Table is empty\")\n",
    "    else:\n",
    "        for row in results:\n",
    "            print(row)\n",
    "\n",
    "    # Close the cursor and connection objects\n",
    "    cursor.close()\n",
    "    conn.close()\n",
    "    \n",
    "read()\n"
   ]
  },
  {
   "attachments": {},
   "cell_type": "markdown",
   "metadata": {},
   "source": [
    "## Create a new User in table in Sqlite.db\n",
    "> Uses SQL INSERT to add row\n",
    "-  Compore create() in both SQL lessons.  What is better or worse in the two implementations?\n",
    "\n",
    "<span style=\"color:blue\">Both versions do the same thing but this example might be better because it is better at dealing with errors with its try/except statement. This results in the database having clearer data.</span>\n",
    "\n",
    "-  Explain purpose of SQL INSERT.   Is this the same as User __init__?\n",
    "\n",
    "<span style=\"color:blue\">The purpose of SQL INSERT is to add new data items into a database. This is very similar to init because both involve assigning new variables.</span>"
   ]
  },
  {
   "cell_type": "code",
   "execution_count": 13,
   "metadata": {},
   "outputs": [
    {
     "name": "stdout",
     "output_type": "stream",
     "text": [
      "Error while executing the INSERT: UNIQUE constraint failed: userspeople._uid\n"
     ]
    }
   ],
   "source": [
    "import sqlite3\n",
    "\n",
    "def create():\n",
    "    name = input(\"Enter your name:\")\n",
    "    uid = input(\"Enter your user id:\")\n",
    "    password = input(\"Enter your password\")\n",
    "    dob = input(\"Enter your date of birth 'YYYY-MM-DD'\")\n",
    "    \n",
    "    # Connect to the database file\n",
    "    conn = sqlite3.connect(database)\n",
    "\n",
    "    # Create a cursor object to execute SQL commands\n",
    "    cursor = conn.cursor()\n",
    "\n",
    "    try:\n",
    "        # Execute an SQL command to insert data into a table\n",
    "        cursor.execute(\"INSERT INTO userspeople (_name, _uid, _password, _dob) VALUES (?, ?, ?, ?)\", (name, uid, password, dob))\n",
    "        \n",
    "        # Commit the changes to the database\n",
    "        conn.commit()\n",
    "        print(f\"A new user record {uid} has been created\")\n",
    "                \n",
    "    except sqlite3.Error as error:\n",
    "        print(\"Error while executing the INSERT:\", error)\n",
    "\n",
    "\n",
    "    # Close the cursor and connection objects\n",
    "    cursor.close()\n",
    "    conn.close()\n",
    "    \n",
    "create()"
   ]
  },
  {
   "attachments": {},
   "cell_type": "markdown",
   "metadata": {},
   "source": [
    "## Updating a User in table in Sqlite.db\n",
    "> Uses SQL UPDATE to modify password\n",
    "- What does the hacked part do?\n",
    "\n",
    "<span style=\"color:blue\">The hacked part is used to tell the user that their password was not good enough and would result in them easily getting hacked by an online attacker.</span>\n",
    "\n",
    "- Explain try/except, when would except occur?\n",
    "\n",
    "<span style=\"color:blue\">Try / Except: Try/expect first tries to do something in the try section but if that section of code results in an error, the expect section is ran.</span>\n",
    "\n",
    "- What code seems to be repeated in each of these examples to point, why is it repeated?\n",
    "\n",
    "<span style=\"color:blue\"> The code repeated on the dot are some of the last two lines, cursor.close() and conn.close(). These are used to close the server session because the action is now complete and the session has no more use because the code can open it again later if needed."
   ]
  },
  {
   "cell_type": "code",
   "execution_count": 14,
   "metadata": {},
   "outputs": [],
   "source": [
    "import sqlite3\n",
    "\n",
    "def update():\n",
    "    uid = input(\"Enter user id to update\")\n",
    "    password = input(\"Enter updated password\")\n",
    "    if len(password) < 2:\n",
    "        message = \"hacked\"\n",
    "        password = 'gothackednewpassword123'\n",
    "    else:\n",
    "        message = \"successfully updated\"\n",
    "\n",
    "    # Connect to the database file\n",
    "    conn = sqlite3.connect(database)\n",
    "\n",
    "    # Create a cursor object to execute SQL commands\n",
    "    cursor = conn.cursor()\n",
    "\n",
    "    try:\n",
    "        # Execute an SQL command to update data in a table\n",
    "        cursor.execute(\"UPDATE users SET _password = ? WHERE _uid = ?\", (password, uid))\n",
    "        if cursor.rowcount == 0:\n",
    "            # The uid was not found in the table\n",
    "            print(f\"No uid {uid} was not found in the table\")\n",
    "        else:\n",
    "            print(f\"The row with user id {uid} the password has been {message}\")\n",
    "            conn.commit()\n",
    "    except sqlite3.Error as error:\n",
    "        print(\"Error while executing the UPDATE:\", error)\n",
    "        \n",
    "    \n",
    "    # Close the cursor and connection objects\n",
    "    cursor.close()\n",
    "    conn.close()\n",
    "    \n",
    "update()\n"
   ]
  },
  {
   "attachments": {},
   "cell_type": "markdown",
   "metadata": {},
   "source": [
    "## Delete a User in table in Sqlite.db\n",
    "> Uses a delete function to remove a user based on a user input of the id.\n",
    "- Is DELETE a dangerous operation?  Why?\n",
    "\n",
    "<span style=\"color:blue\">DELETE is a dangerous operation because it can permanently remove data that could have been useful and/or needed.</span>\n",
    "\n",
    "- In the print statemements, what is the \"f\" and what does {uid} do?\n",
    "\n",
    "<span style=\"color:blue\"> \"f\" is used to format the following in the print statement into a string. {uid} is used to display the string of the uid that was inserted.</span>"
   ]
  },
  {
   "cell_type": "code",
   "execution_count": null,
   "metadata": {},
   "outputs": [],
   "source": [
    "import sqlite3\n",
    "\n",
    "def delete():\n",
    "    uid = input(\"Enter user id to delete\")\n",
    "\n",
    "    # Connect to the database file\n",
    "    conn = sqlite3.connect(database)\n",
    "\n",
    "    # Create a cursor object to execute SQL commands\n",
    "    cursor = conn.cursor()\n",
    "    \n",
    "    try:\n",
    "        cursor.execute(\"DELETE FROM users WHERE _uid = ?\", (uid,))\n",
    "        if cursor.rowcount == 0:\n",
    "            # The uid was not found in the table\n",
    "            print(f\"No uid {uid} was not found in the table\")\n",
    "        else:\n",
    "            # The uid was found in the table and the row was deleted\n",
    "            print(f\"The row with uid {uid} was successfully deleted\")\n",
    "        conn.commit()\n",
    "    except sqlite3.Error as error:\n",
    "        print(\"Error while executing the DELETE:\", error)\n",
    "        \n",
    "    # Close the cursor and connection objects\n",
    "    cursor.close()\n",
    "    conn.close()\n",
    "    \n",
    "delete()"
   ]
  },
  {
   "attachments": {},
   "cell_type": "markdown",
   "metadata": {},
   "source": [
    "# Menu Interface to CRUD operations\n",
    "> CRUD and Schema interactions from one location by running menu. Observe input at the top of VSCode, observe output underneath code cell.\n",
    "- Why does the menu repeat?\n",
    "\n",
    "<span style=\"color:blue\">The menu repeats to constantly show the programmer that all the operations are running. If they are not, the code with stop running and will tell the user to run all the functions written before it.</span>\n",
    "\n",
    "- Could you refactor this menu?  Make it work with a List?\n",
    "\n",
    "<span style=\"color:blue\">This menu can be formated to make it work as a list because it will still use if,elif,else statements to determine what to make of the characters in the list.</span>"
   ]
  },
  {
   "cell_type": "code",
   "execution_count": 17,
   "metadata": {},
   "outputs": [
    {
     "name": "stdout",
     "output_type": "stream",
     "text": [
      "(1, 'Thomas Edison', 'toby', 'sha256$rWj46pcSi3kQ0VEg$96a780c487acdbd240b0164d97c07c2b6466915d2c55eeab6efcc707926a4111', '1847-02-11')\n",
      "(2, 'Nikola Tesla', 'niko', 'sha256$KwL0ERbOxWTgsOdy$761167a5f4cb5cae45b58d474b7656c67962094864af5a30dce628b26bf6c59b', '2023-03-15')\n",
      "(3, 'Alexander Graham Bell', 'lex', 'sha256$V7Db1PNfk4FpyYwa$e217620a8cc9f78fee320976b9d2e911b5ceb0552d7dcc8cafb4c6fb5fe54abd', '2023-03-15')\n",
      "(4, 'Eli Whitney', 'whit', 'sha256$0xkoASL9ldVr9D0Z$28325d30689c1359637fda8b5a0761e061b5e931567d2de50e14e1970a471fd1', '2023-03-15')\n",
      "(5, 'Indiana Jones', 'indi', 'sha256$l7No03XVVAkE9spm$aacd031fe41b12d3690fc0a279b42b07adf2db8defbc1de07a2058bd7b3e4bc3', '1920-10-21')\n",
      "(6, 'Marion Ravenwood', 'raven', 'sha256$dSysZYgfQThVBBIP$ade193a1a5b158b1666fe19f95aa6df4686406eb4c11f9ec8e7fb5be2bf8de40', '1921-10-21')\n",
      "(7, '', '', 'sha256$KmlX3ZPfMKckTsN8$05ae1551124f44c62023df0480ac8a75fd6dcbf34a8f2b5303722b2d2e1219ae', '2023-03-15')\n",
      "(8, 'Lucas', 'qtip', 'amoungus', '2006-12-16')\n"
     ]
    }
   ],
   "source": [
    "# Menu, to run other cells from one control point\n",
    "def menu():\n",
    "    operation = input(\"Enter: (C)reate (R)ead (U)pdate or (D)elete or (S)chema\")\n",
    "    if operation.lower() == 'c':\n",
    "        create()\n",
    "    elif operation.lower() == 'r':\n",
    "        read()\n",
    "    elif operation.lower() == 'u':\n",
    "        update()\n",
    "    elif operation.lower() == 'd':\n",
    "        delete()\n",
    "    elif operation.lower() == 's':\n",
    "        schema()\n",
    "    elif len(operation)==0: # Escape Key\n",
    "        return\n",
    "    else:\n",
    "        print(\"Please enter c, r, u, or d\") \n",
    "    menu() # recursion, repeat menu\n",
    "        \n",
    "try:\n",
    "    menu() # start menu\n",
    "except:\n",
    "    print(\"Perform Jupyter 'Run All' prior to starting menu\")\n"
   ]
  },
  {
   "attachments": {},
   "cell_type": "markdown",
   "metadata": {},
   "source": [
    "# Hacks\n",
    "- In this implementation, do you see procedural abstraction?\n",
    "\n",
    "<span style=\"color:blue\">Procedural abstaraction is not present in this implementation because none of the functions used in the code set parameters and the actions inside of the functions only use if,elif,else statements when dealing with fixed or previously set up variables/values.</span>\n",
    "\n",
    "In 2.4a or 2.4b lecture\n",
    "\n",
    "- Do you see data abstraction?  Complement this with Debugging example.\n",
    "\n",
    "<span style=\"color:blue\">Data abstraction is present in the creation of these tables. The data can be shown using debugging.</span>\n",
    "\n",
    "- Use Imperative or OOP style to Create a new Table or do something that applies to your CPT project.\n",
    "    \n",
    "\n",
    "Reference... [sqlite documentation](https://www.sqlitetutorial.net/sqlite-python/creating-tables/)\n"
   ]
  },
  {
   "cell_type": "code",
   "execution_count": 12,
   "metadata": {},
   "outputs": [],
   "source": [
    "from flask import Flask\n",
    "from flask_sqlalchemy import SQLAlchemy\n",
    "\n",
    "app = Flask(__name__)\n",
    "database = 'sqlite:///sqlite.db'\n",
    "app.config['SQLALCHEMY_TRACK_MODIFICATIONS'] = False\n",
    "app.config['SQLALCHEMY_DATABASE_URI'] = database\n",
    "app.config['SECRET_KEY'] = 'SECRET_KEY'\n",
    "db = SQLAlchemy()\n",
    "\n",
    "db.init_app(app)"
   ]
  },
  {
   "cell_type": "code",
   "execution_count": 13,
   "metadata": {},
   "outputs": [],
   "source": [
    "import json\n",
    "from sqlalchemy.exc import IntegrityError\n",
    "  \n",
    "class food(db.Model):\n",
    "    __tablename__ = 'fooditems'\n",
    "\n",
    "    id = db.Column(db.Integer, primary_key=True)\n",
    "    _name = db.Column(db.String(255), unique=True, nullable=False)\n",
    "    _points = db.Column(db.String(255), unique=False, nullable=False)\n",
    "    _image = db.Column(db.String(255), unique=True, nullable=False)\n",
    "\n",
    "    def __init__(self, name, points, image):\n",
    "        self._name = name\n",
    "        self._points = points\n",
    "        self._image = image\n",
    "\n",
    "    @property\n",
    "    def name(self):\n",
    "       return self._name\n",
    "    @name.setter\n",
    "    def name(self, name):\n",
    "        self._name = name\n",
    "\n",
    "    @property\n",
    "    def points(self):\n",
    "       return self._points\n",
    "    @points.setter\n",
    "    def points(self, points):\n",
    "       self._points = points\n",
    "       \n",
    "    @property\n",
    "    def image(self):\n",
    "       return self._image\n",
    "    @image.setter\n",
    "    def image(self, image):\n",
    "       self._image = image\n",
    "\n",
    "    def __str__(self):\n",
    "       return json.dumps(self.read())\n",
    "   \n",
    "    def create(self):\n",
    "        try:\n",
    "            db.session.add(self)\n",
    "            db.session.commit()\n",
    "            return self\n",
    "        except IntegrityError:\n",
    "            db.session.remove()\n",
    "            return None\n",
    "    \n",
    "    def read(self):\n",
    "       return {\n",
    "           \"id\": self.id,\n",
    "           \"name\" : self.name,\n",
    "           \"points\" : self.points,\n",
    "           \"image\" : self.image\n",
    "       }\n",
    "\n",
    "        \n",
    "    def update(self, name=\"\", points=\"\", image=\"\"):\n",
    "       \"\"\"only updates values with length\"\"\"\n",
    "       if len(name) > 0:\n",
    "           self.name = name\n",
    "       if len(points) > 0:\n",
    "           self.restaurant = points\n",
    "       if len(image) > 0:\n",
    "           self.protein = image\n",
    "       db.session.commit()\n",
    "       return self\n",
    "   \n",
    "    def delete(self):\n",
    "        db.session.delete(self)\n",
    "        db.session.commit()\n",
    "        return None\n",
    "    \n",
    "def initfooditem():\n",
    "    with app.app_context():\n",
    "        db.create_all()\n",
    "        u1 = food(name='Burger', points='10', image='https://png.pngtree.com/png-vector/20190130/ourlarge/pngtree-cute-minimalist-creative-cartoon-hamburger-png-image_611163.jpg')\n",
    "        u2 = food(name= 'Fries', points='20', image='https://thumbs.dreamstime.com/b/french-fries-cartoon-clipart-red-paper-box-carton-121897301.jpg')\n",
    "\n",
    "        fooditems = [u1, u2]\n",
    "\n",
    "        for h in fooditems:\n",
    "            try:\n",
    "                h.create()\n",
    "            except IntegrityError:\n",
    "                db.session.remove()\n",
    "                print(f\"Records exist, duplicate, or error: {food.id}\")\n",
    "                \n",
    "initfooditem()"
   ]
  },
  {
   "attachments": {},
   "cell_type": "markdown",
   "metadata": {},
   "source": [
    "### Read"
   ]
  },
  {
   "cell_type": "code",
   "execution_count": 14,
   "metadata": {},
   "outputs": [
    {
     "data": {
      "text/plain": [
       "[{'id': 1,\n",
       "  'name': 'Burger',\n",
       "  'points': '10',\n",
       "  'image': 'https://png.pngtree.com/png-vector/20190130/ourlarge/pngtree-cute-minimalist-creative-cartoon-hamburger-png-image_611163.jpg'},\n",
       " {'id': 2,\n",
       "  'name': 'Fries',\n",
       "  'points': '20',\n",
       "  'image': 'https://thumbs.dreamstime.com/b/french-fries-cartoon-clipart-red-paper-box-carton-121897301.jpg'},\n",
       " {'id': 3, 'name': '', 'points': '', 'image': ''}]"
      ]
     },
     "execution_count": 14,
     "metadata": {},
     "output_type": "execute_result"
    }
   ],
   "source": [
    "def read():\n",
    "    with app.app_context():\n",
    "        table = food.query.all()\n",
    "    json_ready = [food.read() for food in table]\n",
    "    return json_ready\n",
    "\n",
    "read()"
   ]
  },
  {
   "attachments": {},
   "cell_type": "markdown",
   "metadata": {},
   "source": [
    "### Create"
   ]
  },
  {
   "cell_type": "code",
   "execution_count": 15,
   "metadata": {},
   "outputs": [
    {
     "name": "stdout",
     "output_type": "stream",
     "text": [
      "Unknown error uid {uid}\n"
     ]
    }
   ],
   "source": [
    "def locateitem(name):\n",
    "    with app.app_context():\n",
    "        item = food.query.filter_by(name=name).first()\n",
    "    return item\n",
    "\n",
    "def create():\n",
    "    name = input(\"Enter name of item\")\n",
    "    item = locateitem(name)\n",
    "    try:\n",
    "        print(user.read())\n",
    "        return\n",
    "    except:\n",
    "        pass\n",
    "    \n",
    "    points = input(\"Enter points value\")\n",
    "    image = input(\"Enter link of image\")\n",
    "    \n",
    "    user = food(name=name, \n",
    "                points=points, \n",
    "                image=image\n",
    "                )\n",
    "\n",
    "    with app.app_context():\n",
    "        try:\n",
    "            newitem = user.create()\n",
    "            print(newitem.read())\n",
    "        except:\n",
    "            print(\"Unknown error uid {uid}\")\n",
    "        \n",
    "create()"
   ]
  },
  {
   "attachments": {},
   "cell_type": "markdown",
   "metadata": {},
   "source": [
    "### Update"
   ]
  },
  {
   "cell_type": "code",
   "execution_count": 16,
   "metadata": {},
   "outputs": [
    {
     "data": {
      "text/plain": [
       "'Unknown Name'"
      ]
     },
     "execution_count": 16,
     "metadata": {},
     "output_type": "execute_result"
    }
   ],
   "source": [
    "def locateitem(name):\n",
    "    with app.app_context():\n",
    "        item = food.query.filter_by(name=name).first()\n",
    "    return item\n",
    "\n",
    "def update():\n",
    "    name = input(\"Enter name of item\")\n",
    "    item = locateitem(name)\n",
    "    try:\n",
    "        print(item.read())\n",
    "        pass\n",
    "    except:\n",
    "        return(\"Unknown Name\")\n",
    "    \n",
    "    points = input(\"Enter new points\")\n",
    "    image = input(\"Enter link of image\")\n",
    "    \n",
    "    with app.app_context():\n",
    "        try:\n",
    "            updateditem = item.update(name, points, image)\n",
    "            print(updateditem.read())\n",
    "        except:  # error raised if object not created\n",
    "            print(\"Unknown error uid {uid}\")\n",
    "        \n",
    "update()"
   ]
  },
  {
   "attachments": {},
   "cell_type": "markdown",
   "metadata": {},
   "source": [
    "### Delete"
   ]
  },
  {
   "cell_type": "code",
   "execution_count": 17,
   "metadata": {},
   "outputs": [
    {
     "data": {
      "text/plain": [
       "'Unknown Name'"
      ]
     },
     "execution_count": 17,
     "metadata": {},
     "output_type": "execute_result"
    }
   ],
   "source": [
    "def locateitem(name):\n",
    "    with app.app_context():\n",
    "        item = food.query.filter_by(name=name).first()\n",
    "    return item\n",
    "\n",
    "def delete():\n",
    "    name = input(\"Enter name of item\")\n",
    "    item = locateitem(name)\n",
    "    try:\n",
    "        print(item.read())\n",
    "        pass\n",
    "    except:\n",
    "        return(\"Unknown Name\")\n",
    "    \n",
    "    with app.app_context():\n",
    "        try:\n",
    "            item.delete()\n",
    "            print(\"item has been deleted\")\n",
    "        except:\n",
    "            print(\"Unknown error uid {uid}\")\n",
    "\n",
    "delete()"
   ]
  },
  {
   "attachments": {},
   "cell_type": "markdown",
   "metadata": {},
   "source": [
    "### Menu/tester"
   ]
  },
  {
   "cell_type": "code",
   "execution_count": 18,
   "metadata": {},
   "outputs": [],
   "source": [
    "def menu():\n",
    "    operation = input(\"Enter: (C)reate (R)ead (U)pdate or (D)elete or (S)chema\")\n",
    "    if operation.lower() == 'c':\n",
    "        create()\n",
    "    elif operation.lower() == 'r':\n",
    "        read()\n",
    "    elif operation.lower() == 'u':\n",
    "        update()\n",
    "    elif operation.lower() == 'd':\n",
    "        delete()\n",
    "    elif operation.lower() == 's':\n",
    "        schema()\n",
    "    elif len(operation)==0:\n",
    "        return\n",
    "    else:\n",
    "        print(\"Please enter c, r, u, or d\") \n",
    "    menu()\n",
    "        \n",
    "try:\n",
    "    menu()\n",
    "except:\n",
    "    print(\"Perform Jupyter 'Run All' prior to starting menu\")"
   ]
  }
 ],
 "metadata": {
  "kernelspec": {
   "display_name": "base",
   "language": "python",
   "name": "python3"
  },
  "language_info": {
   "codemirror_mode": {
    "name": "ipython",
    "version": 3
   },
   "file_extension": ".py",
   "mimetype": "text/x-python",
   "name": "python",
   "nbconvert_exporter": "python",
   "pygments_lexer": "ipython3",
   "version": "3.9.12"
  },
  "orig_nbformat": 4,
  "vscode": {
   "interpreter": {
    "hash": "8b82d5009c68ba5675978267e2b13a671f2a7143d61273c5a3813c97e0b2493d"
   }
  }
 },
 "nbformat": 4,
 "nbformat_minor": 2
}
