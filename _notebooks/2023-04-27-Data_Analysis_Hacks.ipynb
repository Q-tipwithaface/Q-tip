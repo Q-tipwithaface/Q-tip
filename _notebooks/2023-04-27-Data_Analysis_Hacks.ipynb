{
 "cells": [
  {
   "attachments": {},
   "cell_type": "markdown",
   "metadata": {},
   "source": [
    "# Data Analysis Hacks\n",
    "\n",
    "- toc: true\n",
    "- branch: master\n",
    "- badges: true\n",
    "- comments: true\n",
    "- author: Lucas Moore\n",
    "- categories: [fastpages, DataAnalysis, Lesson]"
   ]
  },
  {
   "attachments": {},
   "cell_type": "markdown",
   "metadata": {},
   "source": [
    "## 1st Hacks\n",
    "\n",
    "How can Numpy and Pandas be used to preprocess data for predictive analysis?\n",
    "\n",
    "What machine learning algorithms can be used for predictive analysis, and how do they differ?\n",
    "\n",
    "Can you discuss some real-world applications of predictive analysis in different industries?\n",
    "\n",
    "Can you explain the role of feature engineering in predictive analysis, and how it can improve model accuracy?\n",
    "\n",
    "How can machine learning models be deployed in real-time applications for predictive analysis?\n",
    "\n",
    "Can you discuss some limitations of Numpy and Pandas, and when it might be necessary to use other data analysis tools?\n",
    "\n",
    "How can predictive analysis be used to improve decision-making and optimize business processes?\n",
    "\n",
    "Make your own preditive analysis code with a made up or real world scenario to predict an outcome!!"
   ]
  },
  {
   "attachments": {},
   "cell_type": "markdown",
   "metadata": {},
   "source": [
    "Hacks\n",
    "make your own data using your brian, google or chatgpt, should look different than mine.\n",
    "modify my code or write your own\n",
    "output your data other than a bar graph.\n",
    "Questions\n",
    "What are the two primary data structures in pandas and how do they differ?\n",
    "How do you read a CSV file into a pandas DataFrame?\n",
    "How do you select a single column from a pandas DataFrame?\n",
    "How do you filter rows in a pandas DataFrame based on a condition?\n",
    "How do you group rows in a pandas DataFrame by a particular column?\n",
    "How do you aggregate data in a pandas DataFrame using functions like sum and mean?\n",
    "How do you handle missing values in a pandas DataFrame?\n",
    "How do you merge two pandas DataFrames together?\n",
    "How do you export a pandas DataFrame to a CSV file?\n",
    "What is the difference between a Series and a DataFrame in Pandas?\n",
    "note\n",
    "all hacks due saturday night, the more earlier you get them in the higher score you will get. if you miss the due date, you will get a 0. there will be no tolerance.\n",
    "\n",
    "no questions answered\n",
    "Tonight- 2.9\n",
    "\n",
    "Friday Night- 2.8\n",
    "\n",
    "Saturday Night - 2.7\n",
    "\n",
    "Sunday Night - 0.0\n",
    "\n",
    "questions answered\n",
    "Tonight- 3.0\n",
    "\n",
    "Friday Night- 2.9\n",
    "\n",
    "Saturday Night - 2.8\n",
    "\n",
    "Sunday Night - 0.0"
   ]
  }
 ],
 "metadata": {
  "language_info": {
   "name": "python"
  },
  "orig_nbformat": 4
 },
 "nbformat": 4,
 "nbformat_minor": 2
}
