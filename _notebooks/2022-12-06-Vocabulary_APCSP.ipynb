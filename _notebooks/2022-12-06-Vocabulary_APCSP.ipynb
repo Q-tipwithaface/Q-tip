{
 "cells": [
  {
   "cell_type": "markdown",
   "metadata": {},
   "source": [
    "# Fundemental Vocabulary For Computer Science\n",
    "\n",
    "- toc: true\n",
    "- branch: master\n",
    "- badges: true\n",
    "- comments: true\n",
    "- author: Lucas Moore\n",
    "- categories: [fastpages, Big Idea 2, Big Idea 3]"
   ]
  },
  {
   "attachments": {},
   "cell_type": "markdown",
   "metadata": {},
   "source": [
    "# Unit 2 Vocabulary\n",
    "\n",
    "- Bits: The smallest unit of data that a computer can use and store. Bits are in the state of either 0(off) or 1(on).\n",
    "- Bytes: Data units that are eight binary digits long. These are used to simulate characters, numbers, or symbols.\n",
    "- Hexadecimal: A system using the base of 16 and using the digits 0-9 and the letters A-F to simulate data.\n",
    "- Nibbles: Data units that are four binary digits long. These are used to simulate characters, numbers, or symbols. Known as half-bytes.\n",
    "- Binary Numbers: 0 and 1. 0 represents false or off and 1 represents true or on.\n",
    "- Unsigned Integer: Integers that will always be positive in a 32 bit data list. This includes the value 0.\n",
    "- Signed Integer: Integers that can be positive or negative in a 32 bit data list.\n",
    "- Floating Point: A positive or negative number with a decimal point.\n",
    "- Binary Data Abstractions: Reducing a body of data to a simplified form represented using the values of one and zero.\n",
    "- Boolean: A statement that results in either true or false.\n",
    "- ASCII: The most commonly used character encoding format for text data. Uses 1 byte to represent characters.\n",
    "- Unicode: The universal character encoding standard. Uses 4 bytes to represent characters.\n",
    "- RGB: The system used to represent color that will be displayed.\n",
    "- Data Compression: The process of modifying data with the purpose to reduce the data’s size.\n",
    "- Lossy Compression: The process of removing data in a file and not restoring it after decompression.\n",
    "- Lossless: The process of restoring or rebuilding data in a file after decompression.\n"
   ]
  },
  {
   "cell_type": "markdown",
   "metadata": {},
   "source": [
    "## Unit 3 Vocabulary\n",
    "\n",
    "- Variables: Abstractions that represent values.\n",
    "- Data Types: The value(s) in a variable. They can be numbers, Booleans, lists, and strings.\n",
    "- Assignment Operators: Operators that assign a value(Data Types) to other values or variables."
   ]
  },
  {
   "cell_type": "code",
   "execution_count": null,
   "metadata": {},
   "outputs": [],
   "source": [
    "Var = 5\n",
    "# 'Var' is the variable\n",
    "# '=' is the Assignment Operators\n",
    "# '5' is the Data"
   ]
  },
  {
   "cell_type": "markdown",
   "metadata": {},
   "source": [
    "- Lists: Collections of data that can store unlimited amounts of data and can be called by some functions.\n",
    "- 2D Lists: Lists that are stored in another list. Acts like a subgroup.\n",
    "- Dictionaries: An abstract data type that holds a collection of data at a set of values.\n",
    "- Class: A command that makes objects for code."
   ]
  },
  {
   "cell_type": "code",
   "execution_count": 15,
   "metadata": {},
   "outputs": [],
   "source": [
    "List = [[1, 2, 3], 4, 5\n",
    "]\n",
    "# 'List' is the list\n",
    "# 'List[0] is the 2D list"
   ]
  },
  {
   "cell_type": "markdown",
   "metadata": {},
   "source": [
    "- Algorithms: Sets of instructions that are used to accomplish a task.\n",
    "- Sequence: the order in which the commands in the code are executed in.\n",
    "- Selection: The process that determines which parts of an algorithm is being executed based on a condition that is true or false."
   ]
  },
  {
   "cell_type": "code",
   "execution_count": 40,
   "metadata": {},
   "outputs": [
    {
     "name": "stdout",
     "output_type": "stream",
     "text": [
      "5\n",
      "reminder is 1\n"
     ]
    }
   ],
   "source": [
    "var = 5                     # Algorithms is this entire code\n",
    "print(var)                  # Sequence is the order of print statements\n",
    "if var % 2 == 0:            # 'if else' is selection\n",
    "    print(\"reminder is 0\")\n",
    "else:\n",
    "    print(\"reminder is 1\")"
   ]
  },
  {
   "cell_type": "markdown",
   "metadata": {},
   "source": [
    "- Iteration: Repetition in a program that allows for code to repeat itself a set amount of times.\n",
    "- Iteration Expressions: Expressions used to cause repetition. These expressions cause what is normally called loops.\n",
    "- Comparison Operators: Operators that compare numbers or strings to perform an analysis."
   ]
  },
  {
   "cell_type": "code",
   "execution_count": 43,
   "metadata": {},
   "outputs": [
    {
     "name": "stdout",
     "output_type": "stream",
     "text": [
      "1\n",
      "2\n",
      "3\n",
      "4\n",
      "5\n",
      "6\n",
      "7\n",
      "8\n",
      "9\n",
      "10\n"
     ]
    }
   ],
   "source": [
    "progress = 0                    # Iteration Expression: 'while loop'\n",
    "while progress < 10:            # Comparison Operator: '<'\n",
    "    progress = progress + 1     \n",
    "    print(progress)"
   ]
  },
  {
   "cell_type": "markdown",
   "metadata": {},
   "source": [
    "- Boolean Expressions: Expressions that result in true or false.\n",
    "- Boolean Selection: The process of using true or false values to select data."
   ]
  },
  {
   "cell_type": "code",
   "execution_count": 60,
   "metadata": {},
   "outputs": [
    {
     "name": "stdout",
     "output_type": "stream",
     "text": [
      "Good\n"
     ]
    }
   ],
   "source": [
    "Good = True\n",
    "Bad = False\n",
    "GoodorBad = Good            # Boolean Expressions\n",
    "if GoodorBad == True:       # Boolean Selection\n",
    "    print(\"Good\")\n",
    "else:\n",
    "    print(\"Bad\")\n"
   ]
  },
  {
   "cell_type": "markdown",
   "metadata": {},
   "source": [
    "- Truth Tables: Tables that are used to map out the possible true values of something and to determine the resulting outcomes.\n",
    "- Characters: A unit that displays information related to a letter or a symbol.\n",
    "- strings: A data type that collects and stores a sequence of elements that are also characters.\n",
    "- Length: The width of a collection of data.\n",
    "- Concatenation: The process of joining multiple elements together."
   ]
  },
  {
   "cell_type": "code",
   "execution_count": 24,
   "metadata": {},
   "outputs": [
    {
     "name": "stdout",
     "output_type": "stream",
     "text": [
      "length is 5\n",
      "ace\n"
     ]
    }
   ],
   "source": [
    "List = [\"a\", \"b\", \"c\", \"d\", \"e\"       #List of Characters\n",
    "]                                     #Lenght of List printed and counted by the index count.\n",
    "print(\"length is \" + str(len(List)))  #str is string that makes len(list) act like a character.\n",
    "print(List[0] + List[2] + List[4])    #Concatenation happening because of the assignment operator '+'.\n"
   ]
  },
  {
   "cell_type": "markdown",
   "metadata": {},
   "source": [
    "- Upper Traversing Strings: The process of doing something to each string one at a time going from beginning to end.\n",
    "- Lower Traversing Strings: The process of doing something to each string one at a time going from the end to the beginning."
   ]
  },
  {
   "cell_type": "code",
   "execution_count": 35,
   "metadata": {},
   "outputs": [
    {
     "name": "stdout",
     "output_type": "stream",
     "text": [
      "a\n",
      "b\n",
      "c\n",
      "d\n",
      "e\n",
      "e\n",
      "d\n",
      "c\n",
      "b\n",
      "a\n"
     ]
    }
   ],
   "source": [
    "List = [\"a\", \"b\", \"c\", \"d\", \"e\"       \n",
    "]\n",
    "i = 0\n",
    "while i < len(List):                #Upper Traversing String\n",
    "    print(List[i])\n",
    "    i = i + 1\n",
    "\n",
    "r = len(List) - 1\n",
    "while r >= 0:                      #Lower Traversing String\n",
    "    print(List[r])\n",
    "    r = r - 1\n"
   ]
  },
  {
   "cell_type": "markdown",
   "metadata": {},
   "source": [
    "- If, Elif, Else conditionals: statements that have different choices that will execute based on a condition in the code.\n",
    "- Nested Selection Statements: If, Elif, Else conditionals placed in other If, Elif, Else conditionals."
   ]
  },
  {
   "cell_type": "code",
   "execution_count": 48,
   "metadata": {},
   "outputs": [
    {
     "name": "stdout",
     "output_type": "stream",
     "text": [
      "New Daily Highscore!\n"
     ]
    }
   ],
   "source": [
    "score = 400\n",
    "todayhighscore = 300\n",
    "highscore = 600\n",
    "if score > todayhighscore:         #-----------------------------\n",
    "    if score > highscore:           #--\n",
    "        print(\"New Highscore!\")       #Nested Selection\n",
    "    else:                             #Statement                If, Else Statement\n",
    "        print(\"New Daily Highscore!\")#--\n",
    "else:\n",
    "    print(\"Better Luck Next Time\") #-----------------------------"
   ]
  },
  {
   "cell_type": "markdown",
   "metadata": {},
   "source": [
    "- Python For loop with Range: For loops ran using the command “for ‘value’ in ‘range(#-#)’.” Used to apply something to a 0 certain range of values.\n",
    "- Python For loop with List: For loops ran using the command “for ‘item’ in ‘list’.” Used to apply something to certain items in a list one by one.\n",
    "- Python While loops with Range: While loops ran using the command “While ‘value’ ‘Assignment Operators’ ‘range(#-#)’.” Used to apply something to a certain range of values.\n",
    "- Python While loops with List: While loops ran using the command “While ‘item’  ‘Assignment Operators’ ‘(len)list’.” Used to apply something to certain items in a list one by one."
   ]
  },
  {
   "cell_type": "code",
   "execution_count": 112,
   "metadata": {},
   "outputs": [
    {
     "name": "stdout",
     "output_type": "stream",
     "text": [
      "0\n",
      "1\n",
      "2\n",
      "3\n",
      "4\n",
      "5\n",
      "-----\n",
      "0\n",
      "1\n",
      "2\n",
      "3\n",
      "4\n",
      "5\n",
      "-----\n",
      "0\n",
      "1\n",
      "2\n",
      "3\n",
      "4\n",
      "5\n",
      "-----\n",
      "0\n",
      "1\n",
      "2\n",
      "3\n",
      "4\n",
      "5\n"
     ]
    }
   ],
   "source": [
    "List = [ 0, 1, 2, 3, 4, 5\n",
    "]\n",
    "for i in range(0, 6):     #For loop with range\n",
    "    print(i)\n",
    "print(\"-----\")\n",
    "for i in List:            #For loop with List\n",
    "    print(str(List[i]))\n",
    "print(\"-----\")\n",
    "i = 0                     #While Loop with range\n",
    "while i < 6:\n",
    "    print(i)\n",
    "    i = i + 1\n",
    "print(\"-----\")\n",
    "i = 0                     #While Loop with List\n",
    "while i < len(List):\n",
    "    print(i)\n",
    "    i = i + 1\n"
   ]
  },
  {
   "cell_type": "markdown",
   "metadata": {},
   "source": [
    "- Combining loops with conditionals to Break: A looping command affected by a conditional or multiple conditionals that is stopped in its tracks by a break command.\n",
    "- Combining loops with conditionals to Continue: A command that returns the “flow” back to the beginning of a while loop. This results in skipping a check."
   ]
  },
  {
   "cell_type": "code",
   "execution_count": 8,
   "metadata": {},
   "outputs": [
    {
     "name": "stdout",
     "output_type": "stream",
     "text": [
      "a\n",
      "b\n",
      "-----\n",
      "a\n",
      "b\n",
      "d\n",
      "e\n"
     ]
    }
   ],
   "source": [
    "List = [\"a\", \"b\", \"c\", \"d\", \"e\"]\n",
    "for i in List:\n",
    "    if i == \"c\":\n",
    "        break               #Combining loops with conditionals to Break\n",
    "    print(i)\n",
    "print(\"-----\")\n",
    "for i in List:\n",
    "    if i == \"c\":\n",
    "        continue           #Combining loops with conditionals to Continue\n",
    "    print(i)"
   ]
  },
  {
   "cell_type": "markdown",
   "metadata": {},
   "source": [
    "- Procedural Abstraction: A process that allows a procedure to be used knowing only what it does. This makes the code flexible for different situations and parameters.\n",
    "- Python Def procedures: A group of instructions in a function that may have parameters and return values.\n",
    "- Parameters: input values used in a procedure.\n",
    "- Return Values: Values that a function returns to the function when it finishes."
   ]
  },
  {
   "cell_type": "code",
   "execution_count": 16,
   "metadata": {},
   "outputs": [
    {
     "name": "stdout",
     "output_type": "stream",
     "text": [
      "18\n"
     ]
    }
   ],
   "source": [
    "def addingnum(num):         #Def procedures     #'num' is a Parameter\n",
    "    return num + 12         #Return Value\n",
    "\n",
    "sum = addingnum(6)          #Procedural Abstraction\n",
    "print(sum)"
   ]
  }
 ],
 "metadata": {
  "kernelspec": {
   "display_name": "Python 3.9.12 ('base')",
   "language": "python",
   "name": "python3"
  },
  "language_info": {
   "codemirror_mode": {
    "name": "ipython",
    "version": 3
   },
   "file_extension": ".py",
   "mimetype": "text/x-python",
   "name": "python",
   "nbconvert_exporter": "python",
   "pygments_lexer": "ipython3",
   "version": "3.9.12 (main, Apr  5 2022, 06:56:58) \n[GCC 7.5.0]"
  },
  "orig_nbformat": 4,
  "vscode": {
   "interpreter": {
    "hash": "112989f40982219f9c2133127490be09f86560db102a13a350eb86b01002b443"
   }
  }
 },
 "nbformat": 4,
 "nbformat_minor": 2
}
