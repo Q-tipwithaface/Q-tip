{
 "cells": [
  {
   "attachments": {},
   "cell_type": "markdown",
   "metadata": {},
   "source": [
    "# Jupyter Notebooks Notes\n",
    "> Notes about Jupyter Notebooks and the use of Variables, Functions, Arrays, Classes, and HTML.\n",
    "\n",
    "- layout: default\n",
    "- badges: false\n",
    "<!-- - permalink: /techtalk/javascript -->\n",
    "<!-- - image: /images/javascript.png -->\n",
    "- categories: [1.A, 3.B, C4.0]\n",
    "- type: pbl\n",
    "- week: 33"
   ]
  },
  {
   "attachments": {},
   "cell_type": "markdown",
   "metadata": {},
   "source": [
    "Notes"
   ]
  }
 ],
 "metadata": {
  "kernelspec": {
   "display_name": "base",
   "language": "python",
   "name": "python3"
  },
  "language_info": {
   "name": "python",
   "version": "3.9.12"
  },
  "orig_nbformat": 4
 },
 "nbformat": 4,
 "nbformat_minor": 2
}
