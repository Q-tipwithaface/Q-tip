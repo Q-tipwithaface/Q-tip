{
 "cells": [
  {
   "attachments": {},
   "cell_type": "markdown",
   "metadata": {},
   "source": [
    "# 3.12 and 3.13 Notes, Challenges, and Homework\n",
    "\n",
    "- toc: true\n",
    "- branch: master\n",
    "- badges: true\n",
    "- comments: true\n",
    "- author: Lucas Moore\n",
    "- categories: [fastpages, Big Idea 1]"
   ]
  },
  {
   "attachments": {},
   "cell_type": "markdown",
   "metadata": {},
   "source": [
    "# Important Vocab!\n",
    "\n",
    "**Procedure:** A named group of programming instructions that can have parameters and returning values.\n",
    "\n",
    "**Parameters:** Inputs values of a procedure that limites it and allows certain values.\n",
    "\n",
    "**Arguments:** Values of the parameters that are in motion when the procedure is called apond.\n",
    "\n",
    "**Modularity:** The process of separating a function into its own pieces, each of them containing all the parts needed to execute a single part of the functionality.\n",
    "\n",
    "**Procedural Abstraction:** An abstraction that provides a name for a process that makes it so a procedure can be used only knowing what it does and not how it does it."
   ]
  },
  {
   "attachments": {},
   "cell_type": "markdown",
   "metadata": {},
   "source": [
    "# Questions!\n",
    "\n",
    "**What are some other names for procedures?:** \n",
    "\n",
    "Processes or Functions.\n",
    "\n",
    "**Why are procedures effective?:** \n",
    "\n",
    "Procedures are effective because they have the ability to change the result of a piece of code without actually changing the calls to the program. This is effective because it is easier than going into a function and changing different variables and sub functions and risk causes errors."
   ]
  },
  {
   "attachments": {},
   "cell_type": "markdown",
   "metadata": {},
   "source": [
    "# Additional Notes!\n",
    "\n",
    "Procedure can or can no return a value. Values include numbers and booleans. Procedure works similarly to a function. Defining the procedure calls it along with setting its parameters. Parameter is the value(s) that would be used in the procedure to determine the output. Procedures have the ability to change the result without changing the calls to the program.\n",
    "\n",
    "In java, you call a prodecure by defining its function. Defining the function allows values to change the parameters, resulting in a new outcome. Those new values are normally inputed by the coder in the code, not in a input, but it can be.\n",
    "\n",
    "Procedural Abstraction provides a name for a process that makes it so a procedure can be used knowing what it does. Kind of like defining a function. This allows the code to use the procedure in different situations.\n",
    "\n",
    "Modularity is used to help identiy any sort of issues that arise in the code. It breaks down the code, making the error easier to see."
   ]
  },
  {
   "attachments": {},
   "cell_type": "markdown",
   "metadata": {},
   "source": [
    "## <mark>Challenge 1</mark> below: Add the command that will **call** the procedure. "
   ]
  },
  {
   "cell_type": "code",
   "execution_count": 2,
   "metadata": {},
   "outputs": [
    {
     "name": "stdout",
     "output_type": "stream",
     "text": [
      "\n"
     ]
    }
   ],
   "source": [
    "decimal = 7\n",
    "\n",
    "def convertToBinary(n):\n",
    "\n",
    "\n",
    "    (decimal) \n",
    "print()"
   ]
  },
  {
   "attachments": {},
   "cell_type": "markdown",
   "metadata": {},
   "source": [
    "## <mark>Challenge 2</mark> below: Complete the Min and Max procedure in either JavaScript and Python using the instructions from the JavaScript page. (JavaScript will get you a extra 0.1)"
   ]
  },
  {
   "cell_type": "code",
   "execution_count": null,
   "metadata": {},
   "outputs": [],
   "source": [
    "def findmax(a, b):\n",
    "    if a < b:\n",
    "#Start by creating a procedure called findMax and set the parameters to numberA and numberB.\n",
    "\n",
    "#Within the procedure, write the code to determine which of the two parameters, numberA or numberB, is the larger value. Print that value.\n",
    "\n",
    "#Repeat the process, this time creating a procedure called findMin, which will print the parameter with a smaller value.\n",
    "\n",
    "#Call both functions so that the parameters numberA and numberB are given a value.\n",
    "\n",
    "#Optional bonus- create a procedure that can determine the minimum or maximum value out of more than two parameters."
   ]
  },
  {
   "attachments": {},
   "cell_type": "markdown",
   "metadata": {},
   "source": [
    "## <mark>Homework/Hacks</mark>: For the hw, you have two options, easy or hard. The easy hack is for a 2.7 + extra work for the full 3. The easy hack is simply creating your own procedure with your own creativity. Since there is a lot of leeway for this one, you must do additional work to get a 3. For the hard hack, below is the start to a character to binary convertor. This is just a template, but the goal is to translate \"APCSP\" into binary. You can delete the existing code if you want. The only contraint is that you must use a procedure. Doing this will get you a 3. "
   ]
  },
  {
   "cell_type": "code",
   "execution_count": 5,
   "metadata": {},
   "outputs": [
    {
     "name": "stdout",
     "output_type": "stream",
     "text": [
      "''APCSP'' in binary is \n",
      "[1000001, 1010000, 1000011, 1010011, 1010000]\n"
     ]
    }
   ],
   "source": [
    "def charToBinary(x):()\n",
    "\n",
    "# The output shown below is the output you are supposed to get"
   ]
  }
 ],
 "metadata": {
  "kernelspec": {
   "display_name": "Python 3.8.2 64-bit",
   "language": "python",
   "name": "python3"
  },
  "language_info": {
   "codemirror_mode": {
    "name": "ipython",
    "version": 3
   },
   "file_extension": ".py",
   "mimetype": "text/x-python",
   "name": "python",
   "nbconvert_exporter": "python",
   "pygments_lexer": "ipython3",
   "version": "3.8.10 (default, Jun 22 2022, 20:18:18) \n[GCC 9.4.0]"
  },
  "orig_nbformat": 4,
  "vscode": {
   "interpreter": {
    "hash": "916dbcbb3f70747c44a77c7bcd40155683ae19c65e1c03b4aa3499c5328201f1"
   }
  }
 },
 "nbformat": 4,
 "nbformat_minor": 2
}
