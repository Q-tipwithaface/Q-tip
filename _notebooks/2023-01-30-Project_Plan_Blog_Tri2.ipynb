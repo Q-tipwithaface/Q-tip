{
 "cells": [
  {
   "attachments": {},
   "cell_type": "markdown",
   "metadata": {},
   "source": [
    "# Project Plan for CPT\n",
    "\n",
    "- toc: true\n",
    "- branch: master\n",
    "- badges: true\n",
    "- comments: true\n",
    "- author: Lucas Moore\n",
    "- categories: [fastpages, Create Performance Task, College Board]"
   ]
  },
  {
   "attachments": {},
   "cell_type": "markdown",
   "metadata": {},
   "source": [
    "When doing the responses to College Board, the following must be kept in mind.\n",
    "- Clear answers that respond to ONLY what is being asked of.\n",
    "- Clear answers that are detailed and specific to what is being asked.\n",
    "- An input that results in the program’s output\n",
    "- Explain and show how the input leads to an output\n",
    "- Have a list or lists that serve more than just holding data.\n",
    "- Be able to explain algorithms inside your code without explaining other parts that don’t affect that algorithm.\n",
    "\n",
    "Overall, for College Board, you will need a part of functionally code with a purpose and your skills to go over it to show your understanding."
   ]
  },
  {
   "attachments": {},
   "cell_type": "markdown",
   "metadata": {},
   "source": [
    "For my Create Performance Task, I will be using the part of the code where random food is put in a random place on the screen. I will be creating that part of the code so I will also be the one talking about it for College Board. Random foods will come from a list of foods and the screen will be split into a grid in order for there to be a coordinate plane. The code will use random numbers to come up with a coordinate. This portion will most likely be done in the frontend as this is the part where the users will interact with the most."
   ]
  },
  {
   "attachments": {},
   "cell_type": "markdown",
   "metadata": {},
   "source": [
    "The plan for this assignment is to code a game that serves a greater purpose than just to cure boredom. The group's plan is to work individually on their parts of the program but to use class time to go over current progress and to ask questions. The plan is to do some research and add what we will learn to our code. In code, lists will be used to store different types of infomation that will shape what the code will result in. Since the coding will be done individually most of the time, all team members will have their our directory in order to prevent merge conflicts and will put work together during meetings."
   ]
  },
  {
   "attachments": {},
   "cell_type": "markdown",
   "metadata": {},
   "source": [
    "The video will open with the user creating an account to login and then go start playing the game. The video will show how the output of the game is changed by showing runs with different inputs. The video will also show how the program will function and how its variables start to change based on its other variables and functions."
   ]
  }
 ],
 "metadata": {
  "kernelspec": {
   "display_name": "base",
   "language": "python",
   "name": "python3"
  },
  "language_info": {
   "name": "python",
   "version": "3.9.12 (main, Apr  5 2022, 06:56:58) \n[GCC 7.5.0]"
  },
  "orig_nbformat": 4,
  "vscode": {
   "interpreter": {
    "hash": "112989f40982219f9c2133127490be09f86560db102a13a350eb86b01002b443"
   }
  }
 },
 "nbformat": 4,
 "nbformat_minor": 2
}
