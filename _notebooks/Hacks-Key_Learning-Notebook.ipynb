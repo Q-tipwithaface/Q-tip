{
 "cells": [
  {
   "cell_type": "markdown",
   "metadata": {},
   "source": [
    "# \"Hacks-Key_Learning-Notebook\"\n",
    "> \"Key Learning from Hacks\"\n",
    "\n",
    "- toc: true\n",
    "- branch: master\n",
    "- badges: true\n",
    "- comments: true\n",
    "- author: Lucas Moore\n",
<<<<<<< HEAD
    "- categories: [fastpages, jupyter]"
=======
    "- categories: [fastpages, jupyter, python]"
>>>>>>> b0abf7f1a8f9a6b2db0106b9871a3426ad04ca5b
   ]
  },
  {
   "cell_type": "code",
   "execution_count": 8,
   "metadata": {},
   "outputs": [
    {
     "name": "stdout",
     "output_type": "stream",
     "text": [
      "Week 0: Set-up a user in PowerShell by using $New-LocalUser -Name user_name.\n",
      "Week 1: Add an image to index.html in github by using this line of code:\n",
      "img src=/Q-tip/images/Screenshot of cat typing 2022-08-26.png height=auto width=auto>\n"
     ]
    }
   ],
   "source": [
    "print(\"Week 0: Set-up a user in PowerShell by using $New-LocalUser -Name user_name.\")\n",
    "\n",
    "print(\"Week 1: Add an image to index.html in github by using this line of code:\")\n",
    "print(\"img src=\"\"/Q-tip/images/Screenshot of cat typing 2022-08-26.png\"\" height=\"\"auto\"\" width=\"\"auto\"\">\")\n"
   ]
  }
 ],
 "metadata": {
  "kernelspec": {
   "display_name": "Python 3.8.10 64-bit",
   "language": "python",
   "name": "python3"
  },
  "language_info": {
   "codemirror_mode": {
    "name": "ipython",
    "version": 3
   },
   "file_extension": ".py",
   "mimetype": "text/x-python",
   "name": "python",
   "nbconvert_exporter": "python",
   "pygments_lexer": "ipython3",
   "version": "3.8.10"
  },
  "orig_nbformat": 4,
  "vscode": {
   "interpreter": {
    "hash": "916dbcbb3f70747c44a77c7bcd40155683ae19c65e1c03b4aa3499c5328201f1"
   }
  }
 },
 "nbformat": 4,
 "nbformat_minor": 2
}
