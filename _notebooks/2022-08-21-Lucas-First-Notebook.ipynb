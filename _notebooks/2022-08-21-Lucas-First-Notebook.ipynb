# "Lucas's First Notebook"
> "Lucas's Notebook for coding"

- toc: true
- branch: master
- badges: true
- comments: true
- author: Lucas Moore
- categories: [fastpages, jupyter]
