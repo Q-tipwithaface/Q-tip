# "Lucas's First Notebook"
> "Lucas's Notebook for coding"

- toc: true
- branch: master
- badges: true
- comments: true
- author: Hamel Husain & Jeremy Howard
- categories: [fastpages, jupyter