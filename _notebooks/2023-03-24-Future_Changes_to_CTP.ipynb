{
 "cells": [
  {
   "attachments": {},
   "cell_type": "markdown",
   "metadata": {},
   "source": [
    "# Future Changes to my CPT\n",
    "- toc: false\n",
    "- categories: []\n",
    "- type: ap\n",
    "- week: 25"
   ]
  },
  {
   "attachments": {},
   "cell_type": "markdown",
   "metadata": {},
   "source": [
    "## Recap\n",
    "\n",
    "As of now, my create performance task is a mini game that is based on the game fruit ninja. A user needs to click on food items that flash on their screen in order to earn points. Right now, there is no where a user can input their own data into the game. However, I plan to make users input data in the form of a leaderboard.  "
   ]
  },
  {
   "attachments": {},
   "cell_type": "markdown",
   "metadata": {},
   "source": [
    "## Leaderboard\n",
    "\n",
    "The leaderboard will allow users the ability to save their score by placing it in the global leaderboard. The ability to save a user's score will run if that user's score is in the top scores of the entire existence of the game. The top scores will show the highest 10 scores but that number might change. In addition to the score, the object will also include the name of the user and the date the score was saved. The name inputted by the user will be a unique name. Even if a user gets a top score, they can choose not to save it and it will not be present in the leaderboard. This leaderboard is almost like the leaderboards used in classic arcade games like Galactic, Pac-Man, and more! \n",
    "\n",
    "![Arcade Leaderboard](images/arcadeleaderboardex.jpg)"
   ]
  },
  {
   "attachments": {},
   "cell_type": "markdown",
   "metadata": {},
   "source": [
    "## Visual Appeal\n",
    "\n",
    "As well as having no leaderboard, the game has little elements of decoration that makes the game feel more incomplete. This problem can be solved by having the backgroud a becoming different theme, a different color, or even having the background be an image. Another way to make the game more visually appealing would be to add new food items for the users to click on. These options will help add more life to the game and make the game more polished. Making the game visually appealing will be second to adding a leaderboard because the leaderboard is a more needed feature compared to making the game look pretty."
   ]
  }
 ],
 "metadata": {
  "language_info": {
   "name": "python"
  },
  "orig_nbformat": 4
 },
 "nbformat": 4,
 "nbformat_minor": 2
}
