{
 "cells": [
  {
   "cell_type": "markdown",
   "metadata": {},
   "source": [
    "# Psychology and The Good Life\n",
    "\n",
    "- toc: true\n",
    "- branch: master\n",
    "- badges: true\n",
    "- comments: true\n",
    "- author: Lucas Moore\n",
    "- categories: [fastpages, Human]"
   ]
  },
  {
   "cell_type": "markdown",
   "metadata": {},
   "source": [
    "-bad\n",
    " College students are overwhelmed and are so busy all the time.\n",
    "- 1/3 students state that they are so sad that they can't function.\n",
    "- over 50% are lonely.\n",
    "- 80% say they are overwhelmed.\n",
    "\n",
    "- good\n",
    "- \n",
    "Start again at 7:40 minutes"
   ]
  },
  {
   "cell_type": "code",
   "execution_count": null,
   "metadata": {},
   "outputs": [],
   "source": []
  }
 ],
 "metadata": {
  "kernelspec": {
   "display_name": "Python 3.9.12 ('base')",
   "language": "python",
   "name": "python3"
  },
  "language_info": {
   "name": "python",
   "version": "3.9.12"
  },
  "orig_nbformat": 4,
  "vscode": {
   "interpreter": {
    "hash": "112989f40982219f9c2133127490be09f86560db102a13a350eb86b01002b443"
   }
  }
 },
 "nbformat": 4,
 "nbformat_minor": 2
}
