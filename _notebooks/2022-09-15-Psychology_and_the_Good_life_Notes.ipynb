{
 "cells": [
  {
   "cell_type": "markdown",
   "metadata": {},
   "source": [
    "# Psychology and The Good Life\n",
    "\n",
    "- toc: true\n",
    "- branch: master\n",
    "- badges: true\n",
    "- comments: true\n",
    "- author: Lucas Moore\n",
    "- categories: [fastpages, Human]"
   ]
  },
  {
   "cell_type": "markdown",
   "metadata": {},
   "source": [
    "Important Notes from the Video:\n",
    "---\n",
    "\n",
    "- Most college students feel a lot of anxiety and overwhelmed and results in them not having the free time to do the things they love. They are so stressed that they don’t focus on the college’s extra opportunities they offer.\n",
    "- College students sometimes miss out on what college has to offer because they feel stressed, anxious, lonely, and/or depressed.\n",
    "- It doesn’t matter how much you know about happiness and the actions needed to get it, if you don’t do those actions, you will never be any more happier.\n",
    "- It is hard to predict what will make us happy because what we think will create happiness, doesn’t make us happy enough.\n",
    "- The best way to create happiness is to permanently build daily habits.\n",
    "- A great way to maintain happiness is to make free time for social connections. It doesn’t need to be between friends or family, a social interaction with a stranger can boost your happiness a lot more than just being alone.\n",
    "- People feel more happy when they put in the time to help someone other than themselves. Sometimes a person gives something to someone else because that thing given to another person would have more value to them than to keep it themselves.\n",
    "- Most people look at their lives and focus on the negatives. Doesn’t matter how much of their life is positive, they only bring up the negatives. However, happy people do the opposite and focus on the positives.\n",
    "- A good way to force yourself to be happy is to simply just write down what you are grateful for whether that be a person, a thing, a situation, or your beliefs.\n",
    "- Staying physically healthy is tied to and is very efficient for staying mentally healthy. Best physical activities for having good mentally health are daily exercise and a good amount of sleep.\n",
    "- People need to focus on the moment they are currently in and notice what is making them happy right then and there. This ties into what was said about thinking about what you are grateful for.\n",
    "- Being wealthy in time is better than being wealthy with money because time allows for more socialization, freedom, and more chances to gain happiness.\n",
    "\n",
    "\n",
    "How to use the “Psychology and the Good Life”:\n",
    "---\n",
    "\n",
    "In order to get the good life that was described in the video, you must change your attitude, your habits, and your goals. People in today's society value their own productivity more than their mental health. They may feel more accomplished but that doesn’t make them happy. We also always think of what we don’t have and what we struggle with in our day to day lives. This attitude focuses so much on the negatives of life that the positive things that we should be grateful for are overshadowed. The best way to force yourself to be happy is to change your attitude and your habits. In order to put those forces in effect, you need to set up goals. Changes towards your attitude can include being more open to others, focusing on what you are grateful for, and trying new things. Some of the changes towards your habits include being more social, thinking about what you are grateful for, and exploring new experiences. Goals created that include the goal’s purpose, time measurement, and task are solid goals to use if you want to change yourself. To summarize, we need to change our mindset and habits in order to obtain a happy life because these are the two main factors that influence our mood and because if we don’t change them, we won’t become any happier."
   ]
  },
  {
   "cell_type": "code",
   "execution_count": null,
   "metadata": {},
   "outputs": [],
   "source": []
  }
 ],
 "metadata": {
  "kernelspec": {
   "display_name": "Python 3.9.12 ('base')",
   "language": "python",
   "name": "python3"
  },
  "language_info": {
   "name": "python",
   "version": "3.9.12"
  },
  "orig_nbformat": 4,
  "vscode": {
   "interpreter": {
    "hash": "112989f40982219f9c2133127490be09f86560db102a13a350eb86b01002b443"
   }
  }
 },
 "nbformat": 4,
 "nbformat_minor": 2
}
