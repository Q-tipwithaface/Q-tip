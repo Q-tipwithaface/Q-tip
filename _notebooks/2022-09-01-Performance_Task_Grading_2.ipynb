{
 "cells": [
  {
   "attachments": {},
   "cell_type": "markdown",
   "metadata": {},
   "source": [
    "# Performance Task Scoring 2\n",
    "\n",
    "- toc: true\n",
    "- branch: master\n",
    "- badges: true\n",
    "- comments: true\n",
    "- author: Lucas Moore\n",
    "- categories: [fastpages, Grading, College Board]"
   ]
  },
  {
   "attachments": {},
   "cell_type": "markdown",
   "metadata": {},
   "source": [
    "## Table for Submission 1\n",
    "\n",
    "| Category | My Scoring | College Board Scoring | My Comments | What I missed if scoring is different |\n",
    "| --- | --- | --- | --- | --- |\n",
    "| Program Purpose and Function |  |  |  |  |\n",
    "| Data Abstraction |  |  |  |  |\n",
    "| Managing Complexity |  |  |  |  |\n",
    "| Procedural Abstraction |  |  |  |  |\n",
    "| Algorithm Implementation |  |  |  |  |\n",
    "| Testing |  |  |  |  |"
   ]
  },
  {
   "attachments": {},
   "cell_type": "markdown",
   "metadata": {},
   "source": [
    "## Table for Submission 2\n",
    "\n",
    "| Category | My Scoring | College Board Scoring | My Comments | What I missed if scoring is different |\n",
    "| --- | --- | --- | --- | --- |\n",
    "| Program Purpose and Function |  |  |  |  |\n",
    "| Data Abstraction |  |  |  |  |\n",
    "| Managing Complexity |  |  |  |  |\n",
    "| Procedural Abstraction |  |  |  |  |\n",
    "| Algorithm Implementation |  |  |  |  |\n",
    "| Testing |  |  |  |  |"
   ]
  },
  {
   "attachments": {},
   "cell_type": "markdown",
   "metadata": {},
   "source": [
    "## Table for Submission 3\n",
    "\n",
    "| Category | My Scoring | College Board Scoring | My Comments | What I missed if scoring is different |\n",
    "| --- | --- | --- | --- | --- |\n",
    "| Program Purpose and Function |  |  |  |  |\n",
    "| Data Abstraction |  |  |  |  |\n",
    "| Managing Complexity |  |  |  |  |\n",
    "| Procedural Abstraction |  |  |  |  |\n",
    "| Algorithm Implementation |  |  |  |  |\n",
    "| Testing |  |  |  |  |"
   ]
  },
  {
   "attachments": {},
   "cell_type": "markdown",
   "metadata": {},
   "source": [
    "## Table for Submission 4\n",
    "\n",
    "| Category | My Scoring | College Board Scoring | My Comments | What I missed if scoring is different |\n",
    "| --- | --- | --- | --- | --- |\n",
    "| Program Purpose and Function |  |  |  |  |\n",
    "| Data Abstraction |  |  |  |  |\n",
    "| Managing Complexity |  |  |  |  |\n",
    "| Procedural Abstraction |  |  |  |  |\n",
    "| Algorithm Implementation |  |  |  |  |\n",
    "| Testing |  |  |  |  |"
   ]
  },
  {
   "attachments": {},
   "cell_type": "markdown",
   "metadata": {},
   "source": [
    "## What will be needed to fulfill all requirements\n",
    "- Clear answers that respond to ONLY what is being asked of.\n",
    "- Clear answers that are detailed and specific to what is being asked.\n",
    "- An input that results in the program’s output\n",
    "- Explain and show how the input leads to an output\n",
    "- Have a list or lists that serve more than just holding data.\n",
    "- Be able to explain algorithms inside your code without explaining other parts that don’t affect that algorithm.\n",
    "\n",
    "## Failed to meet the standards\n",
    "For these two examples, a submission is most likely to fail to meet the standard by . . .\n",
    "<!-- not properly explaining the purpose of a list, code segments, or the entire program. This shows that there must be a clear purpose for a program and why the purpose is important in order to meet college board expectations. -->"
   ]
  }
 ],
 "metadata": {
  "kernelspec": {
   "display_name": "base",
   "language": "python",
   "name": "python3"
  },
  "language_info": {
   "name": "python",
   "version": "3.9.12 (main, Apr  5 2022, 06:56:58) \n[GCC 7.5.0]"
  },
  "orig_nbformat": 4,
  "vscode": {
   "interpreter": {
    "hash": "112989f40982219f9c2133127490be09f86560db102a13a350eb86b01002b443"
   }
  }
 },
 "nbformat": 4,
 "nbformat_minor": 2
}
