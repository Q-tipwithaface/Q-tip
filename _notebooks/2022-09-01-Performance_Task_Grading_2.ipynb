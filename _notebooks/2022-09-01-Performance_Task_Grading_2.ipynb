{
 "cells": [
  {
   "attachments": {},
   "cell_type": "markdown",
   "metadata": {},
   "source": [
    "# Performance Task Scoring 2\n",
    "\n",
    "- toc: true\n",
    "- branch: master\n",
    "- badges: true\n",
    "- comments: true\n",
    "- author: Lucas Moore\n",
    "- categories: [fastpages, Grading, College Board]"
   ]
  },
  {
   "attachments": {},
   "cell_type": "markdown",
   "metadata": {},
   "source": [
    "## Table for Submission 1\n",
    "\n",
    "| Category | My Scoring | College Board Scoring | My Comments | What I missed if scoring is different |\n",
    "| --- | --- | --- | --- | --- |\n",
    "| Program Purpose and Function | 0 | 0 | I gave this part a 0 because when they were supposed to respond with the program’s purpose, they talked about what the program does. They needed to talk about the why, not the how. | NA |\n",
    "| Data Abstraction | 0 | 0 | I gave this part a 0 because both code segments provided are lists(arrays). The responses and code segments also do not provide reasoning for being in the code other than it shortens the code’s length. | NA |\n",
    "| Managing Complexity | 0 | 0 | I gave this part a 0 because there is no code that shows the use of the lists. There is only an explanation but that is just saying that the code is shorter because of it. | NA |\n",
    "| Procedural Abstraction | 0 | 0 | I gave this part a 0 because the written response describes what happens in the procedure independently and not to the rest of the program. They needed to explain the purpose of this piece of code for the entire program and not just what the given part does by itself. | NA |\n",
    "| Algorithm Implementation | 0 | 0 | I gave this part a 0 because the written response doesn’t include detailed steps on how to recreate the algorithm if someone else wanted to. | NA |\n",
    "| Testing | 1 | 1 | I gave this part a 1 because the calls used go through different parts of the algorithm and the conditions and the results make sense based on the code segments. | NA |"
   ]
  },
  {
   "attachments": {},
   "cell_type": "markdown",
   "metadata": {},
   "source": [
    "## Table for Submission 2\n",
    "\n",
    "| Category | My Scoring | College Board Scoring | My Comments | What I missed if scoring is different |\n",
    "| --- | --- | --- | --- | --- |\n",
    "| Program Purpose and Function | 1 | 1 | I gave this part a 1 because the written response actually states the purpose of the program even if part of the function that is stated in the purpose/function is not shown in the video. The response talked about a use of images. | NA |\n",
    "| Data Abstraction | 1 | 1 | I gave this part a 1 because the code segments make it very clear that the list is needed in the function for its data to assist in the rest of the program. Uses comments as well. | NA |\n",
    "| Managing Complexity | 1 | 1 | I gave this part a 1 because the students clearly explained why using lists to store their data is better for managing complexity with random than using individual lines of code. It is shown that the code was made efficient and with the need of a list. | NA |\n",
    "| Procedural Abstraction | 1 | 1 | I gave this part a 1 because the written response linked the purpose and function of the code back to its function and purpose in the entire program. This part does include procedures in the procedure not stated in the written response but that doesn’t result in 0 points. | NA |\n",
    "| Algorithm Implementation | 0 | 1 | I gave this part a 0 because there was no step by step process that could recreate the procedure. The Procedure had procedures and those must have also been explained in order to recreate the main procedure’s function. | It does not need to tell the reader how to recreate the procedures inside the procedure but just needs to  say that they called upon it. |\n",
    "| Testing | 1 | 1 | I gave this part a 1 because the two different calls to through different code segments that result in the outputs being opposite from each other. | NA |"
   ]
  },
  {
   "attachments": {},
   "cell_type": "markdown",
   "metadata": {},
   "source": [
    "## Table for Submission 3\n",
    "\n",
    "| Category | My Scoring | College Board Scoring | My Comments | What I missed if scoring is different |\n",
    "| --- | --- | --- | --- | --- |\n",
    "| Program Purpose and Function | 0 | 0 | I gave this part a 0 because the purpose provided was actually just the function of the program. | NA |\n",
    "| Data Abstraction | 1 | 1 | I gave this part a 1 because the list is a layout of how the code looks and meets the requirements and the purpose of the lists is shown by being used in the second piece of code. | NA |\n",
    "| Managing Complexity | 1 | 1 | I gave this part a 1 because the response explains how the list stores the information about the characters so that they don’t need to be called upon individually. This manages the program’s complexity. | NA |\n",
    "| Procedural Abstraction | 1 | 1 | I gave this part a 1 because the procedure meets all the requirements and is shown where it is called and the purpose of this part of the code it explained. | NA |\n",
    "| Algorithm Implementation | 1 | 1 | I gave this part a 1 because the detailed explanation is formatted in a process to recreate the algorithm and also includes how they used sequencing, selection, and iterion in the program. | NA |\n",
    "| Testing | 1 | 1 | I gave this part a 1 because the two different calls to through different code segments that result in the outputs being opposite from each other while also explaining how. | NA |"
   ]
  },
  {
   "attachments": {},
   "cell_type": "markdown",
   "metadata": {},
   "source": [
    "## Table for Submission 4\n",
    "\n",
    "| Category | My Scoring | College Board Scoring | My Comments | What I missed if scoring is different |\n",
    "| --- | --- | --- | --- | --- |\n",
    "| Program Purpose and Function | 1 | 1 | I gave this part a 1 because the purpose written in the response was actually a purpose and not a summary of the program’s function. | NA |\n",
    "| Data Abstraction | 0 | 0 | I gave this part a 0 because the second piece of code does not use any of the information from the list shown in the first piece of code. | NA |\n",
    "| Managing Complexity | 0 | 0 | I gave this part a 0 because the second piece of code has no use of the list shown in the first part. Instead of the list, it could just use a number to count the amount of guesses instead of using the list itself. | NA |\n",
    "| Procedural Abstraction | 1 | 1 | I gave this part a 1 because the two pieces of code meet what is required and the response explains the purpose of this part of the code. | NA |\n",
    "| Algorithm Implementation | 1 | 1 | I gave this part a 1 because the explanation of the code is a process for recreating the algorithm and it also includes how it used sequencing, selection, and iterion. | NA |\n",
    "| Testing | 0 | 0 | I gave this part a 0 because the arguments used as the two tests were the same, just in a different state. It should have used the same word but the two tests would be different letters. | NA |"
   ]
  },
  {
   "attachments": {},
   "cell_type": "markdown",
   "metadata": {},
   "source": [
    "## What will be needed to fulfill all requirements\n",
    "- Clear answers that respond to ONLY what is being asked of.\n",
    "- Clear answers that are detailed and specific to what is being asked.\n",
    "- An input that results in the program’s output\n",
    "- Explain and show how the input leads to an output\n",
    "- Have a list or lists that serve more than just holding data.\n",
    "- Be able to explain algorithms inside your code without explaining other parts that don’t affect that algorithm.\n",
    "\n",
    "## Failed to meet the standards\n",
    "For these four examples, a submission is most likely to fail to meet the standard by not properly explaining the purpose of a list, code segments, or the entire program or by not explaining how a program functions. Defining a program's funciton is not the same as defining the program's purpose and that misunderstanding will cost 1 point. There also must be a clear step by step porcess on how to recreate one of the pieces of code in the program to show a person's coding skills and to be able to earn a 1 for its category."
   ]
  }
 ],
 "metadata": {
  "kernelspec": {
   "display_name": "base",
   "language": "python",
   "name": "python3"
  },
  "language_info": {
   "name": "python",
   "version": "3.9.12 (main, Apr  5 2022, 06:56:58) \n[GCC 7.5.0]"
  },
  "orig_nbformat": 4,
  "vscode": {
   "interpreter": {
    "hash": "112989f40982219f9c2133127490be09f86560db102a13a350eb86b01002b443"
   }
  }
 },
 "nbformat": 4,
 "nbformat_minor": 2
}
