{
 "cells": [
  {
   "attachments": {},
   "cell_type": "markdown",
   "metadata": {},
   "source": [
    "#  Unit 2.3 Extracting Information from Data, Pandas\n",
    "> Data connections, trends, and correlation.  Pandas is introduced as it could be valuable for PBL, data validation, as well as understanding College Board Topics.\n",
    "- toc: false\n",
    "- categories: []\n",
    "- type: ap\n",
    "- week: 25"
   ]
  },
  {
   "attachments": {},
   "cell_type": "markdown",
   "metadata": {},
   "source": [
    "<span style=\"color:blue\">**All the writing in this blog that is BLUE is my notes (besides some links)**</span>."
   ]
  },
  {
   "attachments": {},
   "cell_type": "markdown",
   "metadata": {},
   "source": [
    "# Pandas and DataFrames\n",
    "> In this lesson we will be exploring data analysis using Pandas.  \n",
    "\n",
    "- College Board talks about ideas like \n",
    "    - Tools. \"the ability to process data depends on users capabilities and their tools\"\n",
    "    - Combining Data.  \"combine county data sets\"\n",
    "    - Status on Data\"determining the artist with the greatest attendance during a particular month\"\n",
    "    - Data poses challenge. \"the need to clean data\", \"incomplete data\"\n",
    "\n",
    "\n",
    "- [From Pandas Overview](https://pandas.pydata.org/docs/getting_started/index.html) -- When working with tabular data, such as data stored in spreadsheets or databases, pandas is the right tool for you. pandas will help you to explore, clean, and process your data. In pandas, a data table is called a DataFrame.\n",
    "\n",
    "\n",
    "![DataFrame](images/table_dataframe.png)"
   ]
  },
  {
   "cell_type": "code",
   "execution_count": 28,
   "metadata": {},
   "outputs": [],
   "source": [
    "'''Pandas is used to gather data sets through its DataFrames implementation'''\n",
    "import pandas as pd"
   ]
  },
  {
   "attachments": {},
   "cell_type": "markdown",
   "metadata": {},
   "source": [
    "# Cleaning Data\n",
    "\n",
    "When looking at a data set, check to see what data needs to be cleaned. Examples include:\n",
    "- Missing Data Points\n",
    "- Invalid Data\n",
    "- Inaccurate Data\n",
    "\n",
    "Run the following code to see what needs to be cleaned"
   ]
  },
  {
   "cell_type": "code",
   "execution_count": 29,
   "metadata": {},
   "outputs": [
    {
     "name": "stdout",
     "output_type": "stream",
     "text": [
      "   Student ID Year in School   GPA\n",
      "0         123             12  3.57\n",
      "1         246             10  4.00\n",
      "2         578             12  2.78\n",
      "3         469             11  3.45\n",
      "4         324         Junior  4.75\n",
      "5         313             20  3.33\n",
      "6         145             12  2.95\n",
      "7         167             10  3.90\n",
      "8         235      9th Grade  3.15\n",
      "9         nil              9  2.80\n",
      "10        469             11  3.45\n",
      "11        456             10  2.75\n"
     ]
    }
   ],
   "source": [
    "# reads the JSON file and converts it to a Pandas DataFrame\n",
    "import pandas as pd\n",
    "df = pd.read_json('files/grade.json')\n",
    "\n",
    "print(df)\n",
    "# What part of the data set needs to be cleaned?\n",
    "# From PBL learning, what is a good time to clean data?  Hint, remember Garbage in, Garbage out?"
   ]
  },
  {
   "attachments": {},
   "cell_type": "markdown",
   "metadata": {},
   "source": [
    "<span style=\"color:blue\">This Dataframe is missing data points, has invalid data, and inaccurate Data. For index 9, the student ID is missing and it labeled 'nil'. In index 4 and 8, the Year in school doesn't match with the format of the other values in Year in School. In index 5, the year in school is 20 but it can only be 9-12.</span>"
   ]
  },
  {
   "attachments": {},
   "cell_type": "markdown",
   "metadata": {},
   "source": [
    "# Extracting Info\n",
    "\n",
    "Take a look at some features that the Pandas library has that extracts info from the dataset"
   ]
  },
  {
   "attachments": {},
   "cell_type": "markdown",
   "metadata": {},
   "source": [
    "## DataFrame Extract Column"
   ]
  },
  {
   "cell_type": "code",
   "execution_count": 30,
   "metadata": {},
   "outputs": [
    {
     "name": "stdout",
     "output_type": "stream",
     "text": [
      "     GPA\n",
      "0   3.57\n",
      "1   4.00\n",
      "2   2.78\n",
      "3   3.45\n",
      "4   4.75\n",
      "5   3.33\n",
      "6   2.95\n",
      "7   3.90\n",
      "8   3.15\n",
      "9   2.80\n",
      "10  3.45\n",
      "11  2.75\n",
      "\n",
      "Student ID  GPA\n",
      "       123 3.57\n",
      "       246 4.00\n",
      "       578 2.78\n",
      "       469 3.45\n",
      "       324 4.75\n",
      "       313 3.33\n",
      "       145 2.95\n",
      "       167 3.90\n",
      "       235 3.15\n",
      "       nil 2.80\n",
      "       469 3.45\n",
      "       456 2.75\n"
     ]
    }
   ],
   "source": [
    "#print the values in the points column with column header\n",
    "print(df[['GPA']])\n",
    "\n",
    "print()\n",
    "\n",
    "#try two columns and remove the index from print statement\n",
    "print(df[['Student ID','GPA']].to_string(index=False))"
   ]
  },
  {
   "attachments": {},
   "cell_type": "markdown",
   "metadata": {},
   "source": [
    "## DataFrame Sort"
   ]
  },
  {
   "cell_type": "code",
   "execution_count": 31,
   "metadata": {},
   "outputs": [
    {
     "name": "stdout",
     "output_type": "stream",
     "text": [
      "   Student ID Year in School   GPA\n",
      "11        456             10  2.75\n",
      "2         578             12  2.78\n",
      "9         nil              9  2.80\n",
      "6         145             12  2.95\n",
      "8         235      9th Grade  3.15\n",
      "5         313             20  3.33\n",
      "3         469             11  3.45\n",
      "10        469             11  3.45\n",
      "0         123             12  3.57\n",
      "7         167             10  3.90\n",
      "1         246             10  4.00\n",
      "4         324         Junior  4.75\n",
      "\n",
      "   Student ID Year in School   GPA\n",
      "4         324         Junior  4.75\n",
      "1         246             10  4.00\n",
      "7         167             10  3.90\n",
      "0         123             12  3.57\n",
      "3         469             11  3.45\n",
      "10        469             11  3.45\n",
      "5         313             20  3.33\n",
      "8         235      9th Grade  3.15\n",
      "6         145             12  2.95\n",
      "9         nil              9  2.80\n",
      "2         578             12  2.78\n",
      "11        456             10  2.75\n"
     ]
    }
   ],
   "source": [
    "#sort values\n",
    "print(df.sort_values(by=['GPA']))\n",
    "\n",
    "print()\n",
    "\n",
    "#sort the values in reverse order\n",
    "print(df.sort_values(by=['GPA'], ascending=False))"
   ]
  },
  {
   "attachments": {},
   "cell_type": "markdown",
   "metadata": {},
   "source": [
    "## DataFrame Selection or Filter"
   ]
  },
  {
   "cell_type": "code",
   "execution_count": 32,
   "metadata": {},
   "outputs": [
    {
     "name": "stdout",
     "output_type": "stream",
     "text": [
      "   Student ID Year in School   GPA\n",
      "0         123             12  3.57\n",
      "1         246             10  4.00\n",
      "3         469             11  3.45\n",
      "4         324         Junior  4.75\n",
      "5         313             20  3.33\n",
      "7         167             10  3.90\n",
      "8         235      9th Grade  3.15\n",
      "10        469             11  3.45\n"
     ]
    }
   ],
   "source": [
    "#print only values with a specific criteria \n",
    "print(df[df.GPA > 3.00])"
   ]
  },
  {
   "attachments": {},
   "cell_type": "markdown",
   "metadata": {},
   "source": [
    "## DataFrame Selection Max and Min"
   ]
  },
  {
   "cell_type": "code",
   "execution_count": 33,
   "metadata": {},
   "outputs": [
    {
     "name": "stdout",
     "output_type": "stream",
     "text": [
      "  Student ID Year in School   GPA\n",
      "4        324         Junior  4.75\n",
      "\n",
      "   Student ID Year in School   GPA\n",
      "11        456             10  2.75\n"
     ]
    }
   ],
   "source": [
    "print(df[df.GPA == df.GPA.max()])\n",
    "print()\n",
    "print(df[df.GPA == df.GPA.min()])"
   ]
  },
  {
   "attachments": {},
   "cell_type": "markdown",
   "metadata": {},
   "source": [
    "# Create your own DataFrame\n",
    "\n",
    "Using Pandas allows you to create your own DataFrame in Python."
   ]
  },
  {
   "attachments": {},
   "cell_type": "markdown",
   "metadata": {},
   "source": [
    "## Python Dictionary to Pandas DataFrame"
   ]
  },
  {
   "cell_type": "code",
   "execution_count": 34,
   "metadata": {},
   "outputs": [
    {
     "name": "stdout",
     "output_type": "stream",
     "text": [
      "-------------Dict_to_DF------------------\n",
      "   calories  duration\n",
      "0       420        50\n",
      "1       380        40\n",
      "2       390        45\n",
      "3       999       999\n",
      "----------Dict_to_DF_labels--------------\n",
      "      calories  duration\n",
      "day1       420        50\n",
      "day2       380        40\n",
      "day3       390        45\n",
      "day4       999       999\n"
     ]
    }
   ],
   "source": [
    "import pandas as pd\n",
    "\n",
    "#the data can be stored as a python dictionary\n",
    "dict = {\n",
    "  \"calories\": [420, 380, 390, 999],\n",
    "  \"duration\": [50, 40, 45, 999]\n",
    "}\n",
    "#stores the data in a data frame\n",
    "print(\"-------------Dict_to_DF------------------\")\n",
    "df = pd.DataFrame(dict)\n",
    "print(df)\n",
    "\n",
    "print(\"----------Dict_to_DF_labels--------------\")\n",
    "\n",
    "#or with the index argument, you can label rows.\n",
    "df = pd.DataFrame(dict, index = [\"day1\", \"day2\", \"day3\", \"day4\"])\n",
    "print(df)"
   ]
  },
  {
   "attachments": {},
   "cell_type": "markdown",
   "metadata": {},
   "source": [
    "## Examine DataFrame Rows"
   ]
  },
  {
   "cell_type": "code",
   "execution_count": 35,
   "metadata": {},
   "outputs": [
    {
     "name": "stdout",
     "output_type": "stream",
     "text": [
      "-------Examine Selected Rows---------\n",
      "      calories  duration\n",
      "day1       420        50\n",
      "day3       390        45\n",
      "--------Examine Single Row-----------\n",
      "calories    420\n",
      "duration     50\n",
      "Name: day1, dtype: int64\n"
     ]
    }
   ],
   "source": [
    "print(\"-------Examine Selected Rows---------\")\n",
    "#use a list for multiple labels:\n",
    "print(df.loc[[\"day1\", \"day3\"]])\n",
    "\n",
    "#refer to the row index:\n",
    "print(\"--------Examine Single Row-----------\")\n",
    "print(df.loc[\"day1\"])"
   ]
  },
  {
   "attachments": {},
   "cell_type": "markdown",
   "metadata": {},
   "source": [
    "## Pandas DataFrame Information"
   ]
  },
  {
   "cell_type": "code",
   "execution_count": 36,
   "metadata": {},
   "outputs": [
    {
     "name": "stdout",
     "output_type": "stream",
     "text": [
      "<class 'pandas.core.frame.DataFrame'>\n",
      "Index: 4 entries, day1 to day4\n",
      "Data columns (total 2 columns):\n",
      " #   Column    Non-Null Count  Dtype\n",
      "---  ------    --------------  -----\n",
      " 0   calories  4 non-null      int64\n",
      " 1   duration  4 non-null      int64\n",
      "dtypes: int64(2)\n",
      "memory usage: 268.0+ bytes\n",
      "None\n"
     ]
    }
   ],
   "source": [
    "#print info about the data set\n",
    "print(df.info())"
   ]
  },
  {
   "attachments": {},
   "cell_type": "markdown",
   "metadata": {},
   "source": [
    "# Example of larger data set\n",
    "\n",
    "Pandas can read CSV and many other types of files, run the following code to see more features with a larger data set"
   ]
  },
  {
   "cell_type": "code",
   "execution_count": 37,
   "metadata": {},
   "outputs": [
    {
     "name": "stdout",
     "output_type": "stream",
     "text": [
      "--Duration Top 10---------\n",
      "     Duration  Pulse  Maxpulse  Calories\n",
      "69        300    108       143    1500.2\n",
      "79        270    100       131    1729.0\n",
      "109       210    137       184    1860.4\n",
      "60        210    108       160    1376.0\n",
      "106       180     90       120     800.3\n",
      "90        180    101       127     600.1\n",
      "65        180     90       130     800.4\n",
      "61        160    110       137    1034.4\n",
      "62        160    109       135     853.0\n",
      "67        150    107       130     816.0\n",
      "--Duration Bottom 10------\n",
      "     Duration  Pulse  Maxpulse  Calories\n",
      "68         20    106       136     110.4\n",
      "100        20     95       112      77.7\n",
      "89         20     83       107      50.3\n",
      "135        20    136       156     189.0\n",
      "94         20    150       171     127.4\n",
      "95         20    151       168     229.4\n",
      "139        20    141       162     222.4\n",
      "64         20    110       130     131.4\n",
      "112        15    124       139     124.2\n",
      "93         15     80       100      50.5\n"
     ]
    }
   ],
   "source": [
    "import pandas as pd\n",
    "\n",
    "#read csv and sort 'Duration' largest to smallest\n",
    "df = pd.read_csv('files/data.csv').sort_values(by=['Duration'], ascending=False)\n",
    "\n",
    "print(\"--Duration Top 10---------\")\n",
    "print(df.head(10))\n",
    "\n",
    "print(\"--Duration Bottom 10------\")\n",
    "print(df.tail(10))\n"
   ]
  },
  {
   "attachments": {},
   "cell_type": "markdown",
   "metadata": {},
   "source": [
    "# APIs are a Source for Writing Programs with Data\n",
    "> 3rd Party APIs are a great source for creating Pandas Data Frames.  \n",
    "- Data can be fetched and resulting json can be placed into a Data Frame\n",
    "- Observe output, this looks very similar to a Database"
   ]
  },
  {
   "cell_type": "code",
   "execution_count": 38,
   "metadata": {},
   "outputs": [
    {
     "name": "stdout",
     "output_type": "stream",
     "text": [
      "  country_name       cases     deaths\n",
      "0          USA  82,649,779  1,018,316\n",
      "1        India  43,057,545    522,193\n",
      "2       Brazil  30,345,654    662,663\n",
      "3       France  28,244,977    145,020\n",
      "4      Germany  24,109,433    134,624\n",
      "5           UK  21,933,206    173,352\n"
     ]
    }
   ],
   "source": [
    "'''Pandas can be used to analyze data'''\n",
    "import pandas as pd\n",
    "import requests\n",
    "\n",
    "def fetch():\n",
    "    '''Obtain data from an endpoint'''\n",
    "    url = \"https://flask.nighthawkcodingsociety.com/api/covid/\"\n",
    "    fetch = requests.get(url)\n",
    "    json = fetch.json()\n",
    "\n",
    "    # filter data for requirement\n",
    "    df = pd.DataFrame(json['countries_stat'])  # filter endpoint for country stats\n",
    "    print(df.loc[0:5, 'country_name':'deaths']) # show row 0 through 5 and columns country_name through deaths\n",
    "    \n",
    "fetch()"
   ]
  },
  {
   "attachments": {},
   "cell_type": "markdown",
   "metadata": {},
   "source": [
    "# Hacks\n",
    "> AP Prep\n",
    "- Add this Blog to you own Blogging site.  In the Blog add notes and observations on each code cell.\n",
    "- In blog add College Board practice problems for 2.3.\n",
    "\n",
    "> The next 4 weeks, Teachers want you to improve your understanding of data.  Look at the blog and others on Unit 2.  Your intention is to find some things to differentiate your individual College Board project.\n",
    "- Create or Find your own dataset.  The suggestion is to use a JSON file, integrating with your PBL project would be ***Fambulous***.\n",
    "\n",
    "    When choosing a data set, think about the following:\n",
    "    - Does it have a good sample size?\n",
    "    - Is there bias in the data?\n",
    "    - Does the data set need to be cleaned?\n",
    "    - What is the purpose of the data set?\n",
    "    - ...\n",
    "- Continue this Blog using Pandas extract info from that dataset (ex. max, min, mean, median, mode, etc.)\n"
   ]
  },
  {
   "cell_type": "code",
   "execution_count": 7,
   "metadata": {},
   "outputs": [
    {
     "name": "stdout",
     "output_type": "stream",
     "text": [
      "                       Audience  Rotten Tomatoes  Loved by all\n",
      "Empire Strikes Back          97               94          95.5\n",
      "A New Hope                   96               93          94.5\n",
      "The Force Awakens            85               93          89.0\n",
      "Return of the Jedi           94               83          88.5\n",
      "Revenge of the Sith          66               79          72.5\n",
      "The Rise of Skywalker        86               52          69.0\n",
      "The Last Jedi                42               91          66.5\n",
      "Attack of the Clones         56               65          60.5\n",
      "The Phantom Menace           59               51          55.0\n",
      "\n",
      "                     Audience  Rotten Tomatoes  Loved by all\n",
      "Empire Strikes Back        97               94          95.5\n",
      "\n",
      "                    Audience  Rotten Tomatoes  Loved by all\n",
      "The Phantom Menace        59               51          55.0\n"
     ]
    }
   ],
   "source": [
    "import pandas as pd\n",
    "\n",
    "#the data is stored in a python dictionary\n",
    "dict = {\n",
    "  \"Audience\": [59, 56, 66, 96, 97, 94, 85, 42, 86],                     # Audience Score\n",
    "  \"Rotten Tomatoes\": [51, 65, 79, 93, 94, 83, 93, 91, 52],              # Rotten Tomatoes Score\n",
    "  \"Duration\": [133, 143, 140, 121, 124, 133, 136, 152, 142],            # Movie's Runtime\n",
    "  \"money made(millions)\":[431, 302, 380, 307, 209, 252, 936, 620, 515]  # Money the movie made in the millions\n",
    "}\n",
    "#or with the index argument, you can label rows.\n",
    "df = pd.DataFrame(dict, index = [\"The Phantom Menace\", \"Attack of the Clones\", \"Revenge of the Sith\", \"A New Hope\", \"Empire Strikes Back\", \"Return of the Jedi\", \"The Force Awakens\", \"The Last Jedi\", \"The Rise of Skywalker\"])\n",
    "\n",
    "\n",
    "df['Loved by all'] = 100 * ((df['Rotten Tomatoes'] + df['Audience']) / 200) # finds the ratings total and divides it by the highest possible rating and *100 to make it a %.\n",
    "dfLovedbyAll = (df.sort_values(by='Loved by all', ascending=False)) # sets the base list to the variable dfLovedbyAll\n",
    "print(dfLovedbyAll[['Audience','Rotten Tomatoes','Loved by all']].to_string(index=True)) # prints the data based on % that all rated the moive (Highest to lowest).\n",
    "print() #spaces out the data\n",
    "print(dfLovedbyAll[['Audience','Rotten Tomatoes','Loved by all']].head(1)) # prints the Highest Loved by All %.\n",
    "print() #spaces out the data\n",
    "print(dfLovedbyAll[['Audience','Rotten Tomatoes','Loved by all']].tail(1)) # prints the Lowest Loved by All %.\n"
   ]
  },
  {
   "attachments": {},
   "cell_type": "markdown",
   "metadata": {},
   "source": [
    "## Machine Learning\n",
    "> [From Tutorials Point](https://www.tutorialspoint.com/scikit_learn/scikit_learn_introduction.htm#:~:text=Scikit%2Dlearn%20(Sklearn)%20is,a%20consistence%20interface%20in%20Python).  Scikit-learn (Sklearn) is the most useful and robust library for machine learning in Python. It provides a selection of efficient tools for machine learning and statistical modeling including classification, regression, clustering and dimensionality reduction via a consistence interface in Python.\n",
    "\n",
    "> Description from ChatGPT. The Titanic dataset is a popular dataset for data analysis and machine learning. In the context of machine learning, accuracy refers to the percentage of correctly classified instances in a set of predictions. In this case, the testing data is a subset of the original Titanic dataset that the decision tree model has not seen during training......After training the decision tree model on the training data, we can evaluate its performance on the testing data by making predictions on the testing data and comparing them to the actual outcomes. The accuracy of the decision tree classifier on the testing data tells us how well the model generalizes to new data that it hasn't seen before......For example, if the accuracy of the decision tree classifier on the testing data is 0.8 (or 80%), this means that 80% of the predictions made by the model on the testing data were correct....Chance of survival could be done using various machine learning techniques, including decision trees, logistic regression, or support vector machines, among others.\n",
    "\n",
    "- Code Below prepares data for further analysis and provides an Accuracy.  IMO, you would insert a new passenger and predict survival.  Datasets could be used on various factors like prediction if a player will hit a Home Run, or a Stock will go up or down.\n",
    "    - [Decision Trees](https://scikit-learn.org/stable/modules/tree.html#tree), prediction by a piecewise constant approximation.\n",
    "    - [Logistic Regression](https://scikit-learn.org/stable/modules/linear_model.html#logistic-regression), the probabilities describing the possible outcomes."
   ]
  },
  {
   "cell_type": "code",
   "execution_count": 45,
   "metadata": {},
   "outputs": [
    {
     "name": "stdout",
     "output_type": "stream",
     "text": [
      "DecisionTreeClassifier Accuracy: 0.7529411764705882\n",
      "LogisticRegression Accuracy: 0.788235294117647\n"
     ]
    },
    {
     "name": "stderr",
     "output_type": "stream",
     "text": [
      "/home/lucas/anaconda3/lib/python3.9/site-packages/sklearn/linear_model/_logistic.py:814: ConvergenceWarning: lbfgs failed to converge (status=1):\n",
      "STOP: TOTAL NO. of ITERATIONS REACHED LIMIT.\n",
      "\n",
      "Increase the number of iterations (max_iter) or scale the data as shown in:\n",
      "    https://scikit-learn.org/stable/modules/preprocessing.html\n",
      "Please also refer to the documentation for alternative solver options:\n",
      "    https://scikit-learn.org/stable/modules/linear_model.html#logistic-regression\n",
      "  n_iter_i = _check_optimize_result(\n"
     ]
    }
   ],
   "source": [
    "from sklearn.model_selection import train_test_split\n",
    "from sklearn.tree import DecisionTreeClassifier\n",
    "from sklearn.linear_model import LogisticRegression\n",
    "from sklearn.metrics import accuracy_score\n",
    "\n",
    "# Split arrays or matrices into random train and test subsets.\n",
    "X = td.drop('survived', axis=1)\n",
    "y = td['survived']\n",
    "X_train, X_test, y_train, y_test = train_test_split(X, y, test_size=0.3, random_state=42)\n",
    "\n",
    "# Train a decision tree classifier\n",
    "dt = DecisionTreeClassifier()\n",
    "dt.fit(X_train, y_train)\n",
    "\n",
    "# Test the model\n",
    "y_pred = dt.predict(X_test)\n",
    "accuracy = accuracy_score(y_test, y_pred)\n",
    "print('DecisionTreeClassifier Accuracy:', accuracy)\n",
    "\n",
    "# Train a logistic regression model\n",
    "logreg = LogisticRegression()\n",
    "logreg.fit(X_train, y_train)\n",
    "\n",
    "# Test the model\n",
    "y_pred = logreg.predict(X_test)\n",
    "accuracy = accuracy_score(y_test, y_pred)\n",
    "print('LogisticRegression Accuracy:', accuracy)\n",
    "\n"
   ]
  }
 ],
 "metadata": {
  "kernelspec": {
   "display_name": "base",
   "language": "python",
   "name": "python3"
  },
  "language_info": {
   "codemirror_mode": {
    "name": "ipython",
    "version": 3
   },
   "file_extension": ".py",
   "mimetype": "text/x-python",
   "name": "python",
   "nbconvert_exporter": "python",
   "pygments_lexer": "ipython3",
   "version": "3.9.12"
  },
  "orig_nbformat": 4,
  "vscode": {
   "interpreter": {
    "hash": "65f6bdf080211a4261ca30203f2967d5d410cd9d47d7b7e5694003092334a949"
   }
  }
 },
 "nbformat": 4,
 "nbformat_minor": 2
}
