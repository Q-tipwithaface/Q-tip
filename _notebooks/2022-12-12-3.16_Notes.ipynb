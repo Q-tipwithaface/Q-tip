{
 "cells": [
  {
   "attachments": {},
   "cell_type": "markdown",
   "metadata": {},
   "source": [
    "# Unit 3 Lesson 16, Student Copy\n",
    "\n",
    "- toc: true\n",
    "- branch: master\n",
    "- badges: true\n",
    "- comments: true\n",
    "- author: Lucas Moore\n",
    "- categories: [fastpages, Big Idea 3]\n"
   ]
  },
  {
   "attachments": {},
   "cell_type": "markdown",
   "metadata": {},
   "source": [
    "### Hack #1 - Class Notes\n",
    "\n",
    "- Simulations are abstractions that mimic something more complex or events from the real world. \n",
    "- Simulations are used to make an inference without contraints of the real world. \n",
    "- Simulations use varying sets of values to reflect changes. They can also run randomness.\n",
    "- When running a simulation, it is necessary to remove some details or aspects. \n",
    "- Simulation Examples include. . .(Randomness)\n",
    "    - Dice rolling\n",
    "    - spinners\n",
    "    - molecular models\n",
    "    - chemical reactions\n",
    "- Simulations can have bias towards one outcome due to not being able to take all of the variables into its control.\n",
    "- With random, the result of the simulation will most likely not be the same.\n",
    "\n"
   ]
  },
  {
   "attachments": {},
   "cell_type": "markdown",
   "metadata": {},
   "source": [
    "### Hack #2 - Functions Classwork"
   ]
  },
  {
   "cell_type": "code",
   "execution_count": 2,
   "metadata": {},
   "outputs": [
    {
     "name": "stdout",
     "output_type": "stream",
     "text": [
      "57\n"
     ]
    }
   ],
   "source": [
    "import random\n",
    "x = random.randint(1,100)\n",
    "print(x)"
   ]
  },
  {
   "cell_type": "code",
   "execution_count": 17,
   "metadata": {},
   "outputs": [
    {
     "data": {
      "text/plain": [
       "'green pants'"
      ]
     },
     "execution_count": 17,
     "metadata": {},
     "output_type": "execute_result"
    }
   ],
   "source": [
    "# insert your work with randomization/ functions and the mycloset code here # Hint: Use the functions we talked about in the beginning!\n",
    "def mycloset():\n",
    "    myclothes = [\"red shoes\", \"green pants\", \"tie\", \"belt\"]\n",
    "    import random\n",
    "    x = random.choice(myclothes)\n",
    "    return x\n",
    "    myclothes.remove    \n",
    "mycloset()\n",
    "\n"
   ]
  },
  {
   "attachments": {},
   "cell_type": "markdown",
   "metadata": {},
   "source": [
    "#### Weighted Coin Flip Program"
   ]
  },
  {
   "cell_type": "code",
   "execution_count": 2,
   "metadata": {},
   "outputs": [
    {
     "name": "stdout",
     "output_type": "stream",
     "text": [
      "Tails\n",
      "Heads\n",
      "Tails\n",
      "Heads\n",
      "Heads\n"
     ]
    }
   ],
   "source": [
    "import random\n",
    "\n",
    "def coinflip():         #def function \n",
    "    randomflip = random.randint(0, 2) #picks either 0 or 1 randomly (50/50 chance of either) \n",
    "    if randomflip >= 1: #assigning 0 to be heads--> if 0 is chosen then it will print, \"Heads\"\n",
    "        print(\"Heads\")\n",
    "    else:\n",
    "        print(\"Tails\")\n",
    "        \n",
    "#Tossing the coin 5 times:\n",
    "t1 = coinflip()\n",
    "t2 = coinflip()\n",
    "t3 = coinflip()\n",
    "t4 = coinflip()\n",
    "t5 = coinflip()"
   ]
  },
  {
   "cell_type": "markdown",
   "metadata": {},
   "source": [
    "### Hack #3 - Binary Simulation Problem"
   ]
  },
  {
   "cell_type": "code",
   "execution_count": 1,
   "metadata": {},
   "outputs": [
    {
     "name": "stdout",
     "output_type": "stream",
     "text": [
      "Random decimal: 105\n",
      "Random binary: 1101001\n",
      "Zombies: ['Noor', 'Peter Parker', 'Andrew Garfield', 'Tobey Maguire']\n",
      "Not Zombies: ['Jiya', 'Shruthi', 'Ananya', 'Tom Holland']\n"
     ]
    }
   ],
   "source": [
    "# insert your zombie simulation here; you don't have to use this template but it will help you get started\n",
    "\n",
    "import random\n",
    "\n",
    "def randomnum(): # function for generating random int\n",
    "    x = random.randint(0, 255)\n",
    "    return x\n",
    "\n",
    "def converttobin(n): # function for converting decimal to binary\n",
    "    y = bin(n)\n",
    "    y = y[2:]\n",
    "    return y\n",
    "\n",
    "def survivors(binary): # function to assign position\n",
    "    survivorstatus = [\"Jiya\", \"Shruthi\", \"Noor\", \"Ananya\" , \"Peter Parker\", \"Andrew Garfield\", \"Tom Holland\", \"Tobey Maguire\"]\n",
    "    # replace the names above with your choice of people in the house\n",
    "    zombie = []\n",
    "    survivor = []\n",
    "    n = 0\n",
    "    for i in binary:\n",
    "        if binary[n] == \"0\":\n",
    "            zombie.append(survivorstatus[n])\n",
    "        else:\n",
    "            survivor.append(survivorstatus[n])\n",
    "        n += 1\n",
    "    while n < 8:\n",
    "        zombie.append(survivorstatus[n])\n",
    "        n += 1\n",
    "    return zombie, survivor\n",
    "\n",
    "rnd = randomnum()\n",
    "print(\"Random decimal: \" + str(rnd))\n",
    "c = converttobin(rnd)\n",
    "print(\"Random binary: \" + c)\n",
    "(z, s) = survivors(c)\n",
    "\n",
    "print(\"Zombies: \" + str(z))\n",
    "print(\"Not Zombies: \" + str(s))\n",
    "\n"
   ]
  },
  {
   "cell_type": "markdown",
   "metadata": {},
   "source": [
    "### Hack #4 - Thinking through a problem\n",
    "- create your own simulation involving a dice roll\n",
    "- should include randomization and a function for rolling + multiple trials"
   ]
  },
  {
   "cell_type": "code",
   "execution_count": 7,
   "metadata": {},
   "outputs": [
    {
     "name": "stdout",
     "output_type": "stream",
     "text": [
      "6\n",
      "4\n",
      "4\n",
      "3\n",
      "3\n"
     ]
    }
   ],
   "source": [
    "import random\n",
    "\n",
    "def diceroll(): # function for generating random int\n",
    "    x = random.randint(1, 6)\n",
    "    print(x)\n",
    "    return x\n",
    "\n",
    "d1 = diceroll()\n",
    "d2 = diceroll()\n",
    "d3 = diceroll()\n",
    "d4 = diceroll()\n",
    "d5 = diceroll()"
   ]
  },
  {
   "attachments": {},
   "cell_type": "markdown",
   "metadata": {},
   "source": [
    "### Hack 5 - Applying your knowledge to situation based problems\n",
    "\n",
    "Using the questions bank below, create a quiz that presents the user a random question and calculates the user's score. You can use the template below or make your own. Making your own using a loop can give you extra points. "
   ]
  },
  {
   "attachments": {},
   "cell_type": "markdown",
   "metadata": {},
   "source": [
    "1. A researcher gathers data about the effect of Advanced Placement®︎ classes on students' success in college and career, and develops a simulation to show how a sequence of AP classes affect a hypothetical student's pathway.Several school administrators are concerned that the simulation contains bias favoring high-income students, however.\n",
    "    - answer options:\n",
    "        1. The simulation is an abstraction and therefore cannot contain any bias\n",
    "        2. The simulation may accidentally contain bias due to the exclusion of details.\n",
    "        3. If the simulation is found to contain bias, then it is not possible to remove the bias from the simulation.\n",
    "        4. The only way for the simulation to be biased is if the researcher intentionally used data that favored their desired output.\n",
    "2. Jack is trying to plan his financial future using an online tool. The tool starts off by asking him to input details about his current finances and career. It then lets him choose different future scenarios, such as having children. For each scenario chosen, the tool does some calculations and outputs his projected savings at the ages of 35, 45, and 55.Would that be considered a simulation and why?\n",
    "    - answer options\n",
    "        1. No, it's not a simulation because it does not include a visualization of the results.\n",
    "        2. No, it's not a simulation because it does not include all the details of his life history and the future financial environment.\n",
    "        3. Yes, it's a simulation because it runs on a computer and includes both user input and computed output.\n",
    "        4. Yes, it's a simulation because it is an abstraction of a real world scenario that enables the drawing of inferences.\n",
    "3. Sylvia is an industrial engineer working for a sporting goods company. She is developing a baseball bat that can hit balls with higher accuracy and asks their software engineering team to develop a simulation to verify the design.Which of the following details is most important to include in this simulation?\n",
    "    - answer options\n",
    "        1. Realistic sound effects based on the material of the baseball bat and the velocity of the hit\n",
    "        2. A depiction of an audience in the stands with lifelike behavior in response to hit accuracy\n",
    "        3. Accurate accounting for the effects of wind conditions on the movement of the ball\n",
    "        4. A baseball field that is textured to differentiate between the grass and the dirt\n",
    "4. Ashlynn is an industrial engineer who is trying to design a safer parachute. She creates a computer simulation of the parachute opening at different heights and in different environmental conditions.What are advantages of running the simulation versus an actual experiment?\n",
    "    - answer options\n",
    "        1. The simulation will not contain any bias that favors one body type over another, while an experiment will be biased.\n",
    "        2. The simulation can be run more safely than an actual experiment\n",
    "        3. The simulation will accurately predict the parachute's safety level, while an experiment may be inaccurate due to faulty experimental design.\n",
    "        4. The simulation can test the parachute design in a wide range of environmental conditions that may be difficult to reliably reproduce in an experiment.\n",
    "    * this question has 2 correct answers\n",
    "5. YOUR OWN QUESTION; can be situational, pseudo code based, or vocab/concept based\n",
    "6. YOUR OWN QUESTION; can be situational, pseudo code based, or vocab/concept based"
   ]
  },
  {
   "cell_type": "code",
   "execution_count": 25,
   "metadata": {},
   "outputs": [
    {
     "name": "stdout",
     "output_type": "stream",
     "text": [
      " You scored 4/6\n"
     ]
    }
   ],
   "source": [
    "import random\n",
    "questions = 6\n",
    "correct = 0\n",
    "\n",
    "numquestions = [1, 2, 3, 4, 5, 6]\n",
    "random.shuffle(numquestions)\n",
    "\n",
    "for i in numquestions:\n",
    "    if i == 1:\n",
    "        Q1 = input(\"What is 2+2?\")\n",
    "        if Q1 == \"4\":\n",
    "            correct += 1\n",
    "    elif i == 2:\n",
    "        Q2 = input(\"What is 2x2?\")  \n",
    "        if Q2 == \"4\":\n",
    "            correct += 1\n",
    "    elif i == 3:\n",
    "        Q3 = input(\"What is the 13th letter of the lowercase alphabet?\")\n",
    "        if Q3 == \"m\":\n",
    "            correct += 1\n",
    "    elif i == 4:\n",
    "        Q4 = input(\"What word becomes shorter by adding two letters?\")\n",
    "        if Q4 == \"short\":\n",
    "            correct += 1\n",
    "    elif i == 5:\n",
    "        Q5 = input(\"What is the second color in the rainbow?\")\n",
    "        if Q5 == \"orange\":\n",
    "            correct += 1\n",
    "    else:\n",
    "        Q6 = input(\"How many lives does a cat have?\")\n",
    "        if Q6 == \"9\":\n",
    "            correct += 1\n",
    "\n",
    "print( \" You scored \" + str(correct) +\"/\" + str(questions))"
   ]
  },
  {
   "attachments": {},
   "cell_type": "markdown",
   "metadata": {},
   "source": [
    "### Hack #6 / Challenge - Taking real life problems and implementing them into code"
   ]
  },
  {
   "attachments": {},
   "cell_type": "markdown",
   "metadata": {},
   "source": [
    "Create your own simulation based on your experiences/knowledge!\n",
    "Be creative! Think about instances in your own life, science, puzzles that can be made into simulations\n",
    "\n",
    "Some ideas to get your brain running: A simulation that breeds two plants and tells you phenotypes of offspring, an adventure simulation..."
   ]
  },
  {
   "cell_type": "code",
   "execution_count": 34,
   "metadata": {},
   "outputs": [
    {
     "name": "stdout",
     "output_type": "stream",
     "text": [
      "Woke up Monday at 7:32am\n",
      "Woke up Tuesday at 7:21am\n",
      "Woke up Wednesday at 7:31am\n",
      "Woke up Thursday at 7:11am\n",
      "Woke up Friday at 7:10am\n"
     ]
    }
   ],
   "source": [
    "import random\n",
    "\n",
    "print(\"Woke up Monday at 7:\" + str(random.randint(0, 3)) + str(random.randint(0, 9)) + \"am\")\n",
    "print(\"Woke up Tuesday at 7:\" + str(random.randint(0, 3)) + str(random.randint(0, 9)) + \"am\")\n",
    "print(\"Woke up Wednesday at 7:\" + str(random.randint(0, 3)) + str(random.randint(0, 9)) + \"am\")\n",
    "print(\"Woke up Thursday at 7:\" + str(random.randint(0, 3)) + str(random.randint(0, 9)) + \"am\")\n",
    "print(\"Woke up Friday at 7:\" + str(random.randint(0, 3)) + str(random.randint(0, 9)) + \"am\")"
   ]
  }
 ],
 "metadata": {
  "kernelspec": {
   "display_name": "base",
   "language": "python",
   "name": "python3"
  },
  "language_info": {
   "codemirror_mode": {
    "name": "ipython",
    "version": 3
   },
   "file_extension": ".py",
   "mimetype": "text/x-python",
   "name": "python",
   "nbconvert_exporter": "python",
   "pygments_lexer": "ipython3",
   "version": "3.9.12"
  },
  "orig_nbformat": 4,
  "vscode": {
   "interpreter": {
    "hash": "112989f40982219f9c2133127490be09f86560db102a13a350eb86b01002b443"
   }
  }
 },
 "nbformat": 4,
 "nbformat_minor": 2
}
