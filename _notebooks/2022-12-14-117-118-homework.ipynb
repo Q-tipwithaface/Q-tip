{
 "cells": [
  {
   "attachments": {},
   "cell_type": "markdown",
   "metadata": {},
   "source": [
    "# 3.17 - 3.18 Notes, Challenge, and Homework\n",
    "\n",
    "- title: Homework 3.17 - 3.18\n",
    "- permalink: /homework1718\n",
    "- toc: true\n",
    "- branch: master\n",
    "- badges: true\n",
    "- comments: true\n",
    "- author: Lucas Moore\n",
    "- categories: [fastpages, Big Idea 1]"
   ]
  },
  {
   "attachments": {},
   "cell_type": "markdown",
   "metadata": {},
   "source": [
    "# 3.17 Algorithmic Efficiency"
   ]
  },
  {
   "attachments": {},
   "cell_type": "markdown",
   "metadata": {},
   "source": [
    "## Vocabulary\n",
    "- Problem: A description of something that can or cannot be solved.\n",
    "    - Decision Problem: A problem that has a yes or no answer.\n",
    "    - Organization Problem: A problem with the goal of finding the best solution.\n",
    "- Instance: A problem with a certain input.\n",
    "- Efficiency: Amount of effort needed to solve a problem. In coding, the effort is known as computing.\n",
    "    - Polynomial Efficiency (Good): Work takes a proportional amount more time.\n",
    "    - Exponential Efficiency (Bad): Work takes an exponential amount more time.\n",
    "- Heuristic Approach: When the current solution is inefficive, search for a more efficient optimal solution.\n",
    "- Decidable Problem: A decision problem with one clear and correct solution.\n",
    "- Undecidable Problem: A decision problem with no solution or multiple solutions that many not be correct."
   ]
  },
  {
   "attachments": {},
   "cell_type": "markdown",
   "metadata": {},
   "source": [
    "## Notes\n",
    "- Efficiency in computer science is how fast a computer can run a process and/or program. \n",
    "- Unnecessary blocks of code will decrease the efficiency of the code. With less functions, the efficiency is higher and the process and/or program takes up less time to run. \n",
    "- The difference in exponential efficiency and polynomial efficiency is huge. Polynomial efficiency is way more efficient than exponential efficiency.\n",
    "- Heuristic Approach is when you try to find the best possible solution and in this case, the most efficient."
   ]
  },
  {
   "attachments": {},
   "cell_type": "markdown",
   "metadata": {},
   "source": [
    "## Challenge\n",
    "Try and fix this ineficcient code!\n",
    "Only change the code between the two commented lines.\n",
    "Fully programmed solution will improve your grade, at a minimum show that you tried."
   ]
  },
  {
   "attachments": {},
   "cell_type": "markdown",
   "metadata": {},
   "source": [
    "### Given Example"
   ]
  },
  {
   "cell_type": "code",
   "execution_count": 23,
   "metadata": {},
   "outputs": [
    {
     "name": "stdout",
     "output_type": "stream",
     "text": [
      "0.3406522274017334 seconds\n"
     ]
    }
   ],
   "source": [
    "import time\n",
    "numlist = [1,3,5,7,9,11,13,15,17,19]\n",
    "valuelist = [0,3,6,9,12,15,18,21]\n",
    "def isvalue(value,array):\n",
    "    #--------------------\n",
    "    exists = False\n",
    "    while exists == False:\n",
    "        for i in range(len(array)):\n",
    "            if value == array[i]:\n",
    "                exists = True\n",
    "        if exists == False:\n",
    "            return exists\n",
    "    return exists\n",
    "    #--------------------\n",
    "starttime = time.time()\n",
    "for i in range(100000):\n",
    "    for i in range(len(valuelist)):\n",
    "        x = isvalue(valuelist[i],numlist)\n",
    "endtime = time.time()\n",
    "print(endtime-starttime,'seconds') "
   ]
  },
  {
   "attachments": {},
   "cell_type": "markdown",
   "metadata": {},
   "source": [
    "### My Improvments"
   ]
  },
  {
   "cell_type": "code",
   "execution_count": 36,
   "metadata": {},
   "outputs": [
    {
     "name": "stdout",
     "output_type": "stream",
     "text": [
      "0.1797022819519043 seconds\n"
     ]
    }
   ],
   "source": [
    "import time\n",
    "numlist = [1,3,5,7,9,11,13,15,17,19]\n",
    "valuelist = [0,3,6,9,12,15,18,21]\n",
    "def isvalue(value,array):\n",
    "    #--------------------\n",
    "    for i in range(len(array)):\n",
    "        if value == array[i]:\n",
    "            return True\n",
    "        elif value > array[i]:\n",
    "            return False\n",
    "    return False\n",
    "    #--------------------\n",
    "starttime = time.time()\n",
    "for i in range(100000):\n",
    "    for i in range(len(valuelist)):\n",
    "        x = isvalue(valuelist[i],numlist)\n",
    "endtime = time.time()\n",
    "print(endtime-starttime,'seconds')"
   ]
  },
  {
   "attachments": {},
   "cell_type": "markdown",
   "metadata": {},
   "source": [
    "# 3.18 Undecidable Problems"
   ]
  },
  {
   "attachments": {},
   "cell_type": "markdown",
   "metadata": {},
   "source": [
    "## Notes\n",
    "- Decidable problems: problems with an answer of yes or no.\n",
    "- Decidable problem will always have a clear and correct answer.\n",
    "- Undecidable problems will not always have a correct or clear answer and will somethings have none or multiple that may be incorrect.\n",
    "- contradicting coding will lead to it getting stuck"
   ]
  },
  {
   "attachments": {},
   "cell_type": "markdown",
   "metadata": {},
   "source": [
    "# Homework!\n",
    "\n",
    "Make an algorithm that finds the fastest route that hits every location once starting and ending at Del Norte. Make sure to show your thinking. If you are strugling, try using a huristic approach. Remember, what matters more than having perfectly functioning code is that you tried your hardest."
   ]
  },
  {
   "cell_type": "code",
   "execution_count": 109,
   "metadata": {},
   "outputs": [],
   "source": [
    "# RUN THIS CODE --- DO NOT EDIT\n",
    "dataset = {\n",
    "    'DelNorte':{\n",
    "        'Westview':15,\n",
    "        'MtCarmel':20,\n",
    "        'Poway':35,\n",
    "        'RanchoBernardo':50\n",
    "    },\n",
    "    'Westview':{\n",
    "        'DelNorte':15,\n",
    "        'MtCarmel':35,\n",
    "        'Poway':25,\n",
    "        'RanchoBernardo': 45\n",
    "    },\n",
    "    'MtCarmel':{\n",
    "        'Westview':35,\n",
    "        'DelNorte':20,\n",
    "        'Poway':40,\n",
    "        'RanchoBernardo':30\n",
    "    },\n",
    "    'Poway':{\n",
    "        'Westview':25,\n",
    "        'MtCarmel':40,\n",
    "        'DelNorte':35,\n",
    "        'RanchoBernardo':15\n",
    "    },\n",
    "    'RanchoBernardo':{\n",
    "        'Westview':45,\n",
    "        'MtCarmel':30,\n",
    "        'Poway':15,\n",
    "        'DelNorte':50\n",
    "    }\n",
    "}"
   ]
  },
  {
   "cell_type": "code",
   "execution_count": 124,
   "metadata": {},
   "outputs": [
    {
     "name": "stdout",
     "output_type": "stream",
     "text": [
      "Drivetime: 105 minutes\n",
      "Order: ['DelNorte', 'Westview', 'Poway', 'RanchoBernardo', 'MtCarmel', 'DelNorte']\n"
     ]
    }
   ],
   "source": [
    "def fastestroute(start, data):\n",
    "    drivetime = 0\n",
    "    order = [start]\n",
    "    newplace = \"\"\n",
    "    for i in range(len(data) - 1):\n",
    "        minimum_time = 1000\n",
    "        for place, time in data[order[(len(order) - 1)]].items():\n",
    "            if time < minimum_time and place not in order:\n",
    "                newplace = place\n",
    "                minimum_time = time\n",
    "        drivetime += minimum_time\n",
    "        order.append(newplace)\n",
    "    order.append(start)\n",
    "    drivetime += data[newplace][start]\n",
    "    return(drivetime, order)\n",
    "\n",
    "start = 'DelNorte'\n",
    "# 'dataset' is the name of the nested key value pair\n",
    "results = fastestroute(start, dataset)\n",
    "print(\"Drivetime: \" + str(results[0]) + \" minutes\")\n",
    "print(\"Order: \" + str(results[1]))"
   ]
  },
  {
   "attachments": {},
   "cell_type": "markdown",
   "metadata": {},
   "source": [
    "### Grading:\n",
    "|Challenge|Homework|\n",
    "|---|---|\n",
    "|.15 pts for attempt|.65 for attempt|\n",
    "|.20 pts for complete|.70 for complete|\n",
    "|.25 pts for above and beyond|.75 pts for above and beyond|\n"
   ]
  }
 ],
 "metadata": {
  "kernelspec": {
   "display_name": "base",
   "language": "python",
   "name": "python3"
  },
  "language_info": {
   "codemirror_mode": {
    "name": "ipython",
    "version": 3
   },
   "file_extension": ".py",
   "mimetype": "text/x-python",
   "name": "python",
   "nbconvert_exporter": "python",
   "pygments_lexer": "ipython3",
   "version": "3.9.12"
  },
  "orig_nbformat": 4,
  "vscode": {
   "interpreter": {
    "hash": "112989f40982219f9c2133127490be09f86560db102a13a350eb86b01002b443"
   }
  }
 },
 "nbformat": 4,
 "nbformat_minor": 2
}
