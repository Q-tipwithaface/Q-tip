{
 "cells": [
  {
   "cell_type": "markdown",
   "metadata": {},
   "source": [
    "# Early Planning for Create Performance Task\n",
    "\n",
    "- toc: true\n",
    "- branch: master\n",
    "- badges: true\n",
    "- comments: true\n",
    "- author: Lucas Moore and Aniket Chakradeo\n",
    "- categories: [fastpages, Create Performance Task]"
   ]
  },
  {
   "cell_type": "markdown",
   "metadata": {},
   "source": [
    "This is the beginning of planning for the Create Performance Task assignment. More will be added to this post as weeks go by until it is time to code.\n",
    "\n",
    "What I know that could help with the project:\n",
    "- How to make a quiz\n",
    "- How to create list\n",
    "- How to use dictionaries\n",
    "- How to explain the code I have made\n",
    "\n",
    "What I need to do for the project:\n",
    "- Learn how to use different functions\n",
    "- Learn how to display variables correctly\n",
    "- Look at examples of bad, good, and great Performance Task Projects\n",
    "- Look over the college board requirements"
   ]
  },
  {
   "cell_type": "markdown",
   "metadata": {},
   "source": [
    "Week 3-Brainstorming\n",
    "---\n",
    "- Purposes for a project:\n",
    "    - test the user's senses\n",
    "    - test the user's knowlegde of a given topic\n",
    "\n",
    "- Ideas for the project:\n",
    "    - A game that involves the user to use one of their 5 senses to complete a simple task quickly.\n",
    "    - A quiz in a unique style; Jeopardy, Head to Head, or 5 seconds."
   ]
  }
 ],
 "metadata": {
  "kernelspec": {
   "display_name": "Python 3.8.10 64-bit",
   "language": "python",
   "name": "python3"
  },
  "language_info": {
   "name": "python",
   "version": "3.8.10"
  },
  "orig_nbformat": 4,
  "vscode": {
   "interpreter": {
    "hash": "916dbcbb3f70747c44a77c7bcd40155683ae19c65e1c03b4aa3499c5328201f1"
   }
  }
 },
 "nbformat": 4,
 "nbformat_minor": 2
}
