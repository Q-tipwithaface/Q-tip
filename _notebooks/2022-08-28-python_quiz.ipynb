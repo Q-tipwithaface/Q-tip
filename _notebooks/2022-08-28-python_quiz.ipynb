{
 "cells": [
  {
   "cell_type": "markdown",
   "metadata": {},
   "source": [
    "# Lucas's First Python Quiz!"
   ]
  },
  {
   "cell_type": "code",
   "execution_count": 1,
   "metadata": {},
   "outputs": [
    {
     "name": "stdout",
     "output_type": "stream",
     "text": [
      "That is correct\n",
      "That is correct\n",
      "That is correct\n"
     ]
    }
   ],
   "source": [
    "points= 0\n",
    "answer = input(\"How many minutes are in 3 hours?\")\n",
    "\n",
    "\n",
    "if answer == \"180\":\n",
    "    print (\"That is correct\")\n",
    "    points += 1\n",
    "else:\n",
    "     print (\"That is incorrect\")\n",
    "     points -= 0\n",
    "\n",
    "answer = input(\"True or False? 4^4=16\")\n",
    "\n",
    "if answer == \"false\":\n",
    "    print (\"That is correct\")\n",
    "    points += 1\n",
    "else:\n",
    "     print (\"That is incorrect\")\n",
    "     points -= 0\n",
    "answer = input(\"How many lives do cats have?\")\n",
    "\n",
    "if answer == \"9\":\n",
    "    print (\"That is correct\")\n",
    "    points += 1\n",
    "else:\n",
    "     print (\"That is incorrect\")\n",
    "     points -= 0\n",
    "\n"
   ]
  }
 ],
 "metadata": {
  "kernelspec": {
   "display_name": "Python 3.10.6 64-bit",
   "language": "python",
   "name": "python3"
  },
  "language_info": {
   "codemirror_mode": {
    "name": "ipython",
    "version": 3
   },
   "file_extension": ".py",
   "mimetype": "text/x-python",
   "name": "python",
   "nbconvert_exporter": "python",
   "pygments_lexer": "ipython3",
   "version": "3.10.6"
  },
  "orig_nbformat": 4,
  "vscode": {
   "interpreter": {
    "hash": "b0fa6594d8f4cbf19f97940f81e996739fb7646882a419484c72d19e05852a7e"
   }
  }
 },
 "nbformat": 4,
 "nbformat_minor": 2
}
