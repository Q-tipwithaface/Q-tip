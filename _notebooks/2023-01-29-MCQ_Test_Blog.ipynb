{
 "cells": [
  {
   "attachments": {},
   "cell_type": "markdown",
   "metadata": {},
   "source": [
    "# Tri 2 MCQ Test Blog\n",
    "\n",
    "- toc: true\n",
    "- branch: master\n",
    "- badges: true\n",
    "- comments: true\n",
    "- author: Lucas Moore\n",
    "- categories: [fastpages, Final]"
   ]
  },
  {
   "attachments": {},
   "cell_type": "markdown",
   "metadata": {},
   "source": [
    "## Test Results\n",
    "\n",
    "(image here)"
   ]
  },
  {
   "attachments": {},
   "cell_type": "markdown",
   "metadata": {},
   "source": [
    "## Questions I missed\n",
    "\n",
    "### Question 11\n",
    "\n",
    "I chose (C) but the correct answer was (A). The input A and input B are both connected to eachother by an or statement. This means only one of the inputs needed to be true in order for the whole statement to be set to true. Since input A was already true, it didn't matter what input B was because the or statement only needs one true statement. The and statement now has two trues which results in the output being true. \n",
    "\n",
    "### Question 41\n",
    "\n",
    "I chose (A) and (C) but the correct answers were (A) and (D). [RANDOM (1, 5) = 1] works because there is a total of **FIVE** numbers and **ONE** of those numbers activates the part of the code that would hold 20% of the voters. 1 out of 5 times 100% is 20%. [RANDOM (1, 10) = 2] doesn't work because there is a total of **TEN** numbers and only **ONE** of those numbers activates the part of the code that should have helded 20% of the voters. However, it doesn't hold 20% of the voters but instead it is holds 10% because 1 out of 10 times 100% is only 10%. [RANDOM (1, 10) <= 2] works because there is a total of **TEN** numbers and **TWO** of those numbers activates the part of the code that would hold 20% of the voters. The two numbers are 1 and 2. 2 out of 10 times 100% is 20% making this code segment one of the correct ones. During the test, I failed to see what the _____ purpose was in the code segments and thought they represented the amount of numbers that activate the part of the code holding 20% of the voters. They were actual just representing the value or values maening \"=\" it used for one value while \"<=\", \">=\", \">\" \"<\" can hold one or more values.\n",
    "\n",
    "### Question 45\n",
    "\n",
    "I chose (A) but the correct answer was (C). I chose (A) thinking that a heuristic approach was solving a problem in a resonable amount of time and come up with an approxiamte solution. However, an heuristic approach it actual when a problem can't be solved in a reasonable amount of time and people are forced to find an approximate solution. Basically, the answer you come up with when you can't solve something or don't have the time to solve it. It is like an educated guess.\n",
    "\n"
   ]
  }
 ],
 "metadata": {
  "kernelspec": {
   "display_name": "base",
   "language": "python",
   "name": "python3"
  },
  "language_info": {
   "name": "python",
   "version": "3.9.12 (main, Apr  5 2022, 06:56:58) \n[GCC 7.5.0]"
  },
  "orig_nbformat": 4,
  "vscode": {
   "interpreter": {
    "hash": "112989f40982219f9c2133127490be09f86560db102a13a350eb86b01002b443"
   }
  }
 },
 "nbformat": 4,
 "nbformat_minor": 2
}
