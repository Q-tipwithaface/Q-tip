{
 "cells": [
  {
   "attachments": {},
   "cell_type": "markdown",
   "metadata": {},
   "source": [
    "# Devops Notes\n",
    "\n",
    "- toc: true\n",
    "- branch: master\n",
    "- badges: true\n",
    "- comments: true\n",
    "- author: Lucas Moore\n",
    "- categories: [fastpages, Devops, Lesson]"
   ]
  },
  {
   "attachments": {},
   "cell_type": "markdown",
   "metadata": {},
   "source": [
    "### Alternatives to Certbot Hacks\n",
    "Research and compare the security features of OpenSSL and LibreSSL, and write about the recent vulnerabilities within it. Write about your research in a fastpages blog post. It can be the same post that has your screenshot for the Certbot Hacks."
   ]
  },
  {
   "attachments": {},
   "cell_type": "markdown",
   "metadata": {},
   "source": [
    "### AWS Devolopment Hacks\n",
    "FRQ Question Hacks (Answer with more than 2-3 full complete sentneces):\n",
    "Are there any outdated Nginx/Docker functionalities to address?\n",
    "\n",
    "Is there anything unclear that we need to communicate further to the students for deployment?\n",
    "\n",
    "Diagram\n",
    "To Truly understand Nginx and why we are using it, it is important to compare it to other web servers? Compare NGINX with lighttpd in a Venn Diagram, and place the image below:"
   ]
  },
  {
   "attachments": {},
   "cell_type": "markdown",
   "metadata": {},
   "source": [
    "### DUCK DNS HACKS\n",
    "HACK 1 - Create a diagram (canva)\n",
    "\n",
    "What are the pros and cons of using Duck DNS\n",
    "Show a diagram of an application running on AWS using a Duck DNS system\n",
    "HACK 2 - Write a reflection\n",
    "\n",
    "Why do we use DNS?\n",
    "How does Duck DNS work?\n",
    "What makes Duck DNS unique?\n",
    "How is Duck DNS useful for our projects?\n",
    "What are the steps to set up Duck DNS?"
   ]
  },
  {
   "attachments": {},
   "cell_type": "markdown",
   "metadata": {},
   "source": [
    "### Quiz\n",
    "\n",
    "Which of the following is not an AWS database option?\n",
    "\n",
    "A. Amazon RDS\n",
    "\n",
    "B. Amazon Neptune\n",
    "\n",
    "C. SQLite\n",
    "\n",
    "D. Amazon DynamoDB\n",
    "\n",
    "Which of the following is a file-based, lightweight RDBMS?\n",
    "\n",
    "A. Amazon RDS\n",
    "\n",
    "B. Amazon Neptune\n",
    "\n",
    "C Amazon DynamoDB\n",
    "\n",
    "D. SQLite\n",
    "\n",
    "Which AWS service enables you to store and query highly connected datasets?\n",
    "\n",
    "A. Amazon Relational Database Service (RDS)\n",
    "\n",
    "B. Amazon DynamoDB\n",
    "\n",
    "C. Amazon Neptune\n",
    "\n",
    "D. Amazon DocumentDB"
   ]
  },
  {
   "attachments": {},
   "cell_type": "markdown",
   "metadata": {},
   "source": [
    "### Quiz\n",
    "\n",
    "What is the main difference between relational and non-relational databases?\n",
    "\n",
    "A. Relational databases are only used for structured data, while non-relational databases are only used for unstructured data.\n",
    "\n",
    "B. Relational databases can easily handle high data volumes, while non-relational databases cannot.\n",
    "\n",
    "C. Relational databases are based on tables and use SQL, while non-relational databases are based on collections and use JSON-like documents.\n",
    "\n",
    "D. Relational databases are more expensive than non-relational databases.\n",
    "\n",
    "Which AWS database service is best suited for applications that require low-latency speed?\n",
    "\n",
    "A. Amazon ElastiCache\n",
    "\n",
    "B. Amazon Neptune\n",
    "\n",
    "C. Amazon DocumentDB\n",
    "\n",
    "D. Amazon RDS\n",
    "\n",
    "What is the purpose of the code example provided in the lesson?\n",
    "\n",
    "A. To demonstrate how to create a table in Amazon Aurora.\n",
    "\n",
    "B. To show how to query data from a DynamoDB table.\n",
    "\n",
    "C. To provide an example of how to connect to a database instance in RDS using Python.\n",
    "\n",
    "D. To showcase how to insert data into a MySQL table."
   ]
  }
 ],
 "metadata": {
  "language_info": {
   "name": "python"
  },
  "orig_nbformat": 4
 },
 "nbformat": 4,
 "nbformat_minor": 2
}
